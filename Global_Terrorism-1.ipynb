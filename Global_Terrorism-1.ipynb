{
 "cells": [
  {
   "cell_type": "code",
   "execution_count": 13,
   "metadata": {
    "slideshow": {
     "slide_type": "skip"
    }
   },
   "outputs": [
    {
     "data": {
      "text/html": [
       "        <script type=\"text/javascript\">\n",
       "        window.PlotlyConfig = {MathJaxConfig: 'local'};\n",
       "        if (window.MathJax) {MathJax.Hub.Config({SVG: {font: \"STIX-Web\"}});}\n",
       "        if (typeof require !== 'undefined') {\n",
       "        require.undef(\"plotly\");\n",
       "        requirejs.config({\n",
       "            paths: {\n",
       "                'plotly': ['https://cdn.plot.ly/plotly-latest.min']\n",
       "            }\n",
       "        });\n",
       "        require(['plotly'], function(Plotly) {\n",
       "            window._Plotly = Plotly;\n",
       "        });\n",
       "        }\n",
       "        </script>\n",
       "        "
      ]
     },
     "metadata": {},
     "output_type": "display_data"
    }
   ],
   "source": [
    "import pandas as pd\n",
    "from matplotlib import pyplot as plt\n",
    "from plotly import graph_objs as go\n",
    "from plotly.offline import init_notebook_mode, iplot\n",
    "init_notebook_mode(connected=True)\n",
    "import pandas as pd\n",
    "\n",
    "import plotly as px\n",
    "import plotly.express as py"
   ]
  },
  {
   "cell_type": "code",
   "execution_count": null,
   "metadata": {},
   "outputs": [],
   "source": []
  },
  {
   "cell_type": "code",
   "execution_count": 14,
   "metadata": {},
   "outputs": [],
   "source": [
    "proto = pd.read_csv(\"./New_terrorism.csv\", low_memory = False)\n",
    "proto = proto[proto[\"iyear\"] >= 2012]"
   ]
  },
  {
   "cell_type": "code",
   "execution_count": 25,
   "metadata": {
    "slideshow": {
     "slide_type": "skip"
    }
   },
   "outputs": [],
   "source": [
    "c = 3\n",
    "r = 16*7\n",
    "\n",
    "array = [ [0] * c for i in range(r)]\n",
    "\n",
    "for i in range(0,7):\n",
    "        array[i][0] = \"Colombia\"\n",
    "        array[i][2] = len(proto[(proto[\"country_txt\"] == \"Colombia\") & (proto[\"iyear\"] == 2012 + i)].values)\n",
    "        \n",
    "        array[i+7][0] = \"Pakistan\"\n",
    "        array[i+7][2] = len(proto[(proto[\"country_txt\"] == \"Pakistan\") & (proto[\"iyear\"] == 2012 + i)].values)\n",
    "        \n",
    "        array[i+14][0] = \"Libya\"\n",
    "        array[i+14][2] = len(proto[(proto[\"country_txt\"] == \"Libya\") & (proto[\"iyear\"] == 2012 + i)].values)\n",
    "        \n",
    "        array[i+21][0] = \"Turkey\"\n",
    "        array[i+21][2] = len(proto[(proto[\"country_txt\"] == \"Turkey\") & (proto[\"iyear\"] == 2012 + i)].values)\n",
    "        \n",
    "        array[i+28][0] = \"Syria\";\n",
    "        array[i+28][2] = len(proto[(proto[\"country_txt\"] == \"Syria\") & (proto[\"iyear\"] == 2012 + i)].values)\n",
    "        \n",
    "        array[i+35][0] = \"Bangladesh\";\n",
    "        array[i+35][2] = len(proto[(proto[\"country_txt\"] == \"Bangladesh\") & (proto[\"iyear\"] == 2012 + i)].values)\n",
    "        \n",
    "        array[i+42][0] = \"Thailand\";\n",
    "        array[i+42][2] = len(proto[(proto[\"country_txt\"] == \"Thailand\") & (proto[\"iyear\"] == 2012 + i)].values)\n",
    "        \n",
    "        array[i+49][0] = \"Iraq\";\n",
    "        array[i+49][2] = len(proto[(proto[\"country_txt\"] == \"Iraq\") & (proto[\"iyear\"] == 2012 + i)].values)\n",
    "        \n",
    "        array[i+56][0] = \"Ukraine\";\n",
    "        array[i+56][2] = len(proto[(proto[\"country_txt\"] == \"Ukraine\") & (proto[\"iyear\"] == 2012 + i)].values)\n",
    "        \n",
    "        array[i+63][0] = \"Somalia\";\n",
    "        array[i+63][2] = len(proto[(proto[\"country_txt\"] == \"Somalia\") & (proto[\"iyear\"] == 2012 + i)].values)\n",
    "        \n",
    "        array[i+70][0] = \"India\";\n",
    "        array[i+70][2] = len(proto[(proto[\"country_txt\"] == \"India\") & (proto[\"iyear\"] == 2012 + i)].values)\n",
    "        \n",
    "        array[i+77][0] = \"Yemen\";\n",
    "        array[i+77][2] = len(proto[(proto[\"country_txt\"] == \"Yemen\") & (proto[\"iyear\"] == 2012 + i)].values)\n",
    "        \n",
    "        array[i+84][0] = \"Egypt\";\n",
    "        array[i+84][2] = len(proto[(proto[\"country_txt\"] == \"Egypt\") & (proto[\"iyear\"] == 2012 + i)].values)\n",
    "        \n",
    "        array[i+91][0] = \"Philippines\";\n",
    "        array[i+91][2] = len(proto[(proto[\"country_txt\"] == \"Philippines\") & (proto[\"iyear\"] == 2012 + i)].values)\n",
    "        \n",
    "        array[i+98][0] = \"Afghanistan\";\n",
    "        array[i+98][2] = len(proto[(proto[\"country_txt\"] == \"Afghanistan\") & (proto[\"iyear\"] == 2012 + i)].values)\n",
    "        \n",
    "        array[i+105][0] = \"Nigeria\";\n",
    "        array[i+105][2] = len(proto[(proto[\"country_txt\"] == \"Nigeria\") & (proto[\"iyear\"] == 2012 + i)].values)\n",
    "        \n",
    "        for j in range(0,16):\n",
    "            array[i + 7*j][1] = 2012+i\n",
    "            \n",
    "#array\n",
    "        \n",
    "        \n",
    "Array = pd.DataFrame(array)    \n",
    "\n",
    "Array.columns = ['country', 'year', 'attacks']\n",
    "\n",
    "fig_1 = py.bar(Array, x = \"country\", y = \"attacks\",               \n",
    "                 animation_frame=\"year\", \n",
    "                 animation_group=\"country\",\n",
    "                 text = 'attacks',\n",
    "                 color = \"country\",\n",
    "                 range_y = [0,4000],\n",
    "                 title = \"Terrorist Attacks in Top 16 Countries Since 2012\",\n",
    "                 labels = {\n",
    "                     \"attacks\": \"No. of Attacks\",\n",
    "                     \"country\": \"Countries\",\n",
    "                 }\n",
    ")\n",
    "\n"
   ]
  },
  {
   "cell_type": "code",
   "execution_count": 26,
   "metadata": {
    "slideshow": {
     "slide_type": "skip"
    }
   },
   "outputs": [],
   "source": [
    "\n",
    "c = 5\n",
    "r = 65*7\n",
    "\n",
    "box = [ [0] * c for i in range(r)]\n",
    "\n",
    "proto = proto[proto[\"nkill\"] >= 0]\n",
    "\n",
    "for i in range(0,7):\n",
    "        \n",
    "        for j in range(0,65):\n",
    "            box[i + 7*j][1] = 2012+i\n",
    "    \n",
    "        box[i][0] = \"Colombia\"\n",
    "        box[i][2] = len(proto[(proto[\"country_txt\"] == \"Colombia\") & (proto[\"iyear\"] == 2012 + i)].values)\n",
    "        box[i][3] = \"COL\"\n",
    "        \n",
    "        box[i+7][0] = \"Pakistan\"\n",
    "        box[i+7][2] = len(proto[(proto[\"country_txt\"] == \"Pakistan\") & (proto[\"iyear\"] == 2012 + i)].values)\n",
    "        box[i+7][3] = \"PAK\"\n",
    "        \n",
    "        box[i+14][0] = \"Libya\"\n",
    "        box[i+14][2] = len(proto[(proto[\"country_txt\"] == \"Libya\") & (proto[\"iyear\"] == 2012 + i)].values)\n",
    "        box[i+14][3] = \"LBY\"\n",
    "        \n",
    "        box[i+21][0] = \"Turkey\"\n",
    "        box[i+21][2] = len(proto[(proto[\"country_txt\"] == \"Turkey\") & (proto[\"iyear\"] == 2012 + i)].values)\n",
    "        box[i+21][3] = \"TUR\"\n",
    "        \n",
    "        box[i+28][0] = \"Syria\";\n",
    "        box[i+28][2] = len(proto[(proto[\"country_txt\"] == \"Syria\") & (proto[\"iyear\"] == 2012 + i)].values)\n",
    "        box[i+28][3] = \"SYR\"\n",
    "        \n",
    "        box[i+35][0] = \"Bangladesh\";\n",
    "        box[i+35][2] = len(proto[(proto[\"country_txt\"] == \"Bangladesh\") & (proto[\"iyear\"] == 2012 + i)].values)\n",
    "        box[i+35][3] = \"BGD\"\n",
    "        \n",
    "        box[i+42][0] = \"Thailand\";\n",
    "        box[i+42][2] = len(proto[(proto[\"country_txt\"] == \"Thailand\") & (proto[\"iyear\"] == 2012 + i)].values)\n",
    "        box[i+42][3] = \"THA\"\n",
    "        \n",
    "        box[i+49][0] = \"Iraq\";\n",
    "        box[i+49][2] = len(proto[(proto[\"country_txt\"] == \"Iraq\") & (proto[\"iyear\"] == 2012 + i)].values)\n",
    "        box[i+49][3] = \"IRQ\"\n",
    "        \n",
    "        box[i+56][0] = \"Ukraine\";\n",
    "        box[i+56][2] = len(proto[(proto[\"country_txt\"] == \"Ukraine\") & (proto[\"iyear\"] == 2012 + i)].values)\n",
    "        box[i+56][3] = \"UKR\"\n",
    "        \n",
    "        box[i+63][0] = \"Somalia\";\n",
    "        box[i+63][2] = len(proto[(proto[\"country_txt\"] == \"Somalia\") & (proto[\"iyear\"] == 2012 + i)].values)\n",
    "        box[i+63][3] = \"SOM\"\n",
    "        \n",
    "        box[i+70][0] = \"India\";\n",
    "        box[i+70][2] = len(proto[(proto[\"country_txt\"] == \"India\") & (proto[\"iyear\"] == 2012 + i)].values)\n",
    "        box[i+70][3] = \"IND\"\n",
    "        \n",
    "        box[i+77][0] = \"Yemen\";\n",
    "        box[i+77][2] = len(proto[(proto[\"country_txt\"] == \"Yemen\") & (proto[\"iyear\"] == 2012 + i)].values)\n",
    "        box[i+77][3] = \"YEM\"\n",
    "        \n",
    "        box[i+84][0] = \"Egypt\";\n",
    "        box[i+84][2] = len(proto[(proto[\"country_txt\"] == \"Egypt\") & (proto[\"iyear\"] == 2012 + i)].values)\n",
    "        box[i+84][3] = \"EQY\"\n",
    "        \n",
    "        box[i+91][0] = \"Philippines\";\n",
    "        box[i+91][2] = len(proto[(proto[\"country_txt\"] == \"Philippines\") & (proto[\"iyear\"] == 2012 + i)].values)\n",
    "        box[i+91][3] = \"PHL\"\n",
    "        \n",
    "        box[i+98][0] = \"Afghanistan\";\n",
    "        box[i+98][2] = len(proto[(proto[\"country_txt\"] == \"Afghanistan\") & (proto[\"iyear\"] == 2012 + i)].values)\n",
    "        box[i+98][3] = \"AFG\"\n",
    "        \n",
    "        box[i+105][0] = \"Nigeria\";\n",
    "        box[i+105][2] = len(proto[(proto[\"country_txt\"] == \"Nigeria\") & (proto[\"iyear\"] == 2012 + i)].values)\n",
    "        box[i+105][3] = \"NGA\"\n",
    "                  \n",
    "        box[i+112][0] = \"Algeria\";\n",
    "        box[i+112][2] = len(proto[(proto[\"country_txt\"] == \"Algeria\") & (proto[\"iyear\"] == 2012 + i)].values)\n",
    "        box[i+112][3] = \"DZA\"\n",
    "        \n",
    "        box[i+119][0] = \"Argentina\";\n",
    "        box[i+119][2] = len(proto[(proto[\"country_txt\"] == \"Argentina\") & (proto[\"iyear\"] == 2012 + i)].values)\n",
    "        box[i+119][3] = \"ARG\"\n",
    "        \n",
    "        box[i+126][0] = \"Burundi\";\n",
    "        box[i+126][2] = len(proto[(proto[\"country_txt\"] == \"Burundi\") & (proto[\"iyear\"] == 2012 + i)].values)\n",
    "        box[i+126][3] = \"BDI\"\n",
    "        \n",
    "        box[i+133][0] = \"Chile\";\n",
    "        box[i+133][2] = len(proto[(proto[\"country_txt\"] == \"Chile\") & (proto[\"iyear\"] == 2012 + i)].values)\n",
    "        box[i+133][3] = \"CHL\"\n",
    "        \n",
    "        box[i+140][0] = \"El Salvador\";\n",
    "        box[i+140][2] = len(proto[(proto[\"country_txt\"] == \"El Salvador\") & (proto[\"iyear\"] == 2012 + i)].values)\n",
    "        box[i+140][3] = \"SLV\"\n",
    "        \n",
    "        box[i+147][0] = \"France\";\n",
    "        box[i+147][2] = len(proto[(proto[\"country_txt\"] == \"France\") & (proto[\"iyear\"] == 2012 + i)].values)\n",
    "        box[i+147][3] = \"FRA\"\n",
    "        \n",
    "        box[i+154][0] = \"Germany\";\n",
    "        box[i+154][2] = len(proto[(proto[\"country_txt\"] == \"Germany\") & (proto[\"iyear\"] == 2012 + i)].values)\n",
    "        box[i+154][3] = \"DEU\"\n",
    "        \n",
    "        box[i+161][0] = \"Greece\";\n",
    "        box[i+161][2] = len(proto[(proto[\"country_txt\"] == \"Greece\") & (proto[\"iyear\"] == 2012 + i)].values)\n",
    "        box[i+161][3] = \"GRC\"\n",
    "        \n",
    "        box[i+168][0] = \"Guatemala\";\n",
    "        box[i+168][2] = len(proto[(proto[\"country_txt\"] == \"Guatemala\") & (proto[\"iyear\"] == 2012 + i)].values)\n",
    "        box[i+168][3] = \"GTM\"\n",
    "        \n",
    "        box[i+175][0] = \"Indonesia\";\n",
    "        box[i+175][2] = len(proto[(proto[\"country_txt\"] == \"Indonesia\") & (proto[\"iyear\"] == 2012 + i)].values)\n",
    "        box[i+175][3] = \"IDN\"\n",
    "        \n",
    "        box[i+182][0] = \"Iran\";\n",
    "        box[i+182][2] = len(proto[(proto[\"country_txt\"] == \"Iran\") & (proto[\"iyear\"] == 2012 + i)].values)\n",
    "        box[i+182][3] = \"IRN\"\n",
    "        \n",
    "        box[i+189][0] = \"Israel\";\n",
    "        box[i+189][2] = len(proto[(proto[\"country_txt\"] == \"Israel\") & (proto[\"iyear\"] == 2012 + i)].values)\n",
    "        box[i+189][3] = \"ISR\"\n",
    "        \n",
    "        box[i+196][0] = \"Italy\";\n",
    "        box[i+196][2] = len(proto[(proto[\"country_txt\"] == \"Italy\") & (proto[\"iyear\"] == 2012 + i)].values)\n",
    "        box[i+196][3] = \"ITA\"\n",
    "        \n",
    "        box[i+203][0] = \"Kenya\";\n",
    "        box[i+203][2] = len(proto[(proto[\"country_txt\"] == \"Kenya\") & (proto[\"iyear\"] == 2012 + i)].values)\n",
    "        box[i+203][3] = \"KEN\"\n",
    "        \n",
    "        box[i+210][0] = \"Lebanon\";\n",
    "        box[i+210][2] = len(proto[(proto[\"country_txt\"] == \"Lebanon\") & (proto[\"iyear\"] == 2012 + i)].values)\n",
    "        box[i+210][3] = \"LBN\"\n",
    "        \n",
    "        box[i+217][0] = \"Mexico\";\n",
    "        box[i+217][2] = len(proto[(proto[\"country_txt\"] == \"Mexico\") & (proto[\"iyear\"] == 2012 + i)].values)\n",
    "        box[i+217][3] = \"MEX\"\n",
    "        \n",
    "        box[i+224][0] = \"Mali\";\n",
    "        box[i+224][2] = len(proto[(proto[\"country_txt\"] == \"Mali\") & (proto[\"iyear\"] == 2012 + i)].values)\n",
    "        box[i+224][3] = \"MLI\"\n",
    "        \n",
    "        box[i+231][0] = \"Myanmar\";\n",
    "        box[i+231][2] = len(proto[(proto[\"country_txt\"] == \"Myanmar\") & (proto[\"iyear\"] == 2012 + i)].values)\n",
    "        box[i+231][3] = \"MMR\"\n",
    "        \n",
    "        box[i+238][0] = \"Nepal\";\n",
    "        box[i+238][2] = len(proto[(proto[\"country_txt\"] == \"Nepal\") & (proto[\"iyear\"] == 2012 + i)].values)\n",
    "        box[i+238][3] = \"NPL\"\n",
    "        \n",
    "        box[i+245][0] = \"Nicaragua\";\n",
    "        box[i+245][2] = len(proto[(proto[\"country_txt\"] == \"Nicaragua\") & (proto[\"iyear\"] == 2012 + i)].values)\n",
    "        box[i+245][3] = \"NIC\"\n",
    "        \n",
    "        box[i+252][0] = \"Paraguay\";\n",
    "        box[i+252][2] = len(proto[(proto[\"country_txt\"] == \"Paraguay\") & (proto[\"iyear\"] == 2012 + i)].values)\n",
    "        box[i+252][3] = \"PRY\"\n",
    "        \n",
    "        box[i+259][0] = \"Russia\";\n",
    "        box[i+259][2] = len(proto[(proto[\"country_txt\"] == \"Russia\") & (proto[\"iyear\"] == 2012 + i)].values)\n",
    "        box[i+259][3] = \"RUS\"\n",
    "        \n",
    "        box[i+266][0] = \"South Africa\";\n",
    "        box[i+266][2] = len(proto[(proto[\"country_txt\"] == \"South Africa\") & (proto[\"iyear\"] == 2012 + i)].values)\n",
    "        box[i+266][3] = \"ZAF\"\n",
    "        \n",
    "        box[i+273][0] = \"Spain\";\n",
    "        box[i+273][2] = len(proto[(proto[\"country_txt\"] == \"Spain\") & (proto[\"iyear\"] == 2012 + i)].values)\n",
    "        box[i+273][3] = \"ESP\"\n",
    "        \n",
    "        box[i+280][0] = \"Sri Lanka\";\n",
    "        box[i+280][2] = len(proto[(proto[\"country_txt\"] == \"Sri Lanka\") & (proto[\"iyear\"] == 2012 + i)].values)\n",
    "        box[i+280][3] = \"LKA\"\n",
    "        \n",
    "        box[i+287][0] = \"Sudan\";\n",
    "        box[i+287][2] = len(proto[(proto[\"country_txt\"] == \"Sudan\") & (proto[\"iyear\"] == 2012 + i)].values)\n",
    "        box[i+287][3] = \"SDN\"\n",
    "        \n",
    "        box[i+294][0] = \"United States\";\n",
    "        box[i+294][2] = len(proto[(proto[\"country_txt\"] == \"United States\") & (proto[\"iyear\"] == 2012 + i)].values)\n",
    "        box[i+294][3] = \"USA\"\n",
    "        \n",
    "        box[i+301][0] = \"Congo\";\n",
    "        box[i+301][2] = len(proto[(proto[\"country_txt\"] == \"Democratic Republic of the Congo\") & (proto[\"iyear\"] == 2012 + i)].values)\n",
    "        box[i+301][3] = \"COG\"\n",
    "        \n",
    "        box[i+308][0] = \"West Germany\";\n",
    "        box[i+308][2] = len(proto[(proto[\"country_txt\"] == \"West Germany\") & (proto[\"iyear\"] == 2012 + i)].values)\n",
    "        box[i+308][3] = \"FRG\"\n",
    "        \n",
    "        box[i+315][0] = \"United Kingdom\";\n",
    "        box[i+315][2] = len(proto[(proto[\"country_txt\"] == \"United Kingdom\") & (proto[\"iyear\"] == 2012 + i)].values)\n",
    "        box[i+315][3] = \"GBR\"\n",
    "\n",
    "        box[i+322][0] = \"Canada\";\n",
    "        box[i+322][2] = len(proto[(proto[\"country_txt\"] == \"Canada\") & (proto[\"iyear\"] == 2012 + i)].values)\n",
    "        box[i+322][3] = \"CAN\"\n",
    "\n",
    "        box[i+329][0] = \"China\";\n",
    "        box[i+329][2] = len(proto[(proto[\"country_txt\"] == \"China\") & (proto[\"iyear\"] == 2012 + i)].values)\n",
    "        box[i+329][3] = \"CHN\"\n",
    "\n",
    "        box[i+336][0] = \"Australia\";\n",
    "        box[i+336][2] = len(proto[(proto[\"country_txt\"] == \"Australia\") & (proto[\"iyear\"] == 2012 + i)].values)\n",
    "        box[i+336][3] = \"AUS\"\n",
    "\n",
    "        box[i+343][0] = \"Brazil\";\n",
    "        box[i+343][2] = len(proto[(proto[\"country_txt\"] == \"Brazil\") & (proto[\"iyear\"] == 2012 + i)].values)\n",
    "        box[i+343][3] = \"BRA\"\n",
    "\n",
    "        box[i+350][0] = \"South Sudan\";\n",
    "        box[i+350][2] = len(proto[(proto[\"country_txt\"] == \"South Sudan\") & (proto[\"iyear\"] == 2012 + i)].values)\n",
    "        box[i+350][3] = \"SSD\"\n",
    "\n",
    "        box[i+350][0] = \"Angola\";\n",
    "        box[i+350][2] = len(proto[(proto[\"country_txt\"] == \"Angola\") & (proto[\"iyear\"] == 2012 + i)].values)\n",
    "        box[i+350][3] = \"AGO\"\n",
    "        \n",
    "        box[i][4] = proto[(proto[\"country_txt\"] == \"Colombia\")& (proto[\"iyear\"] == 2012 + i)][\"nkill\"].sum()        \n",
    "        box[i+7][4] = proto[(proto[\"country_txt\"] == \"Pakistan\")& (proto[\"iyear\"] == 2012 + i)][\"nkill\"].sum()        \n",
    "        box[i+14][4] = proto[(proto[\"country_txt\"] == \"Libya\")& (proto[\"iyear\"] == 2012 + i)][\"nkill\"].sum()\n",
    "        box[i+21][4] = proto[(proto[\"country_txt\"] == \"Turkey\")& (proto[\"iyear\"] == 2012 + i)][\"nkill\"].sum()\n",
    "        box[i+28][4] = proto[(proto[\"country_txt\"] == \"Syria\")& (proto[\"iyear\"] == 2012 + i)][\"nkill\"].sum()        \n",
    "        box[i+35][4] = proto[(proto[\"country_txt\"] == \"Bangladesh\")& (proto[\"iyear\"] == 2012 + i)][\"nkill\"].sum()        \n",
    "        box[i+42][4] = proto[(proto[\"country_txt\"] == \"Thailand\")& (proto[\"iyear\"] == 2012 + i)][\"nkill\"].sum()        \n",
    "        box[i+49][4] = proto[(proto[\"country_txt\"] == \"Iraq\")& (proto[\"iyear\"] == 2012 + i)][\"nkill\"].sum()        \n",
    "        box[i+56][4] = proto[(proto[\"country_txt\"] == \"Ukraine\")& (proto[\"iyear\"] == 2012 + i)][\"nkill\"].sum()        \n",
    "        box[i+63][4] = proto[(proto[\"country_txt\"] == \"Somalia\")& (proto[\"iyear\"] == 2012 + i)][\"nkill\"].sum()        \n",
    "        box[i+70][4] = proto[(proto[\"country_txt\"] == \"India\")& (proto[\"iyear\"] == 2012 + i)][\"nkill\"].sum()        \n",
    "        box[i+77][4] = proto[(proto[\"country_txt\"] == \"Yemen\")& (proto[\"iyear\"] == 2012 + i)][\"nkill\"].sum()        \n",
    "        box[i+84][4] = proto[(proto[\"country_txt\"] == \"Egypt\")& (proto[\"iyear\"] == 2012 + i)][\"nkill\"].sum()        \n",
    "        box[i+91][4] = proto[(proto[\"country_txt\"] == \"Philippines\")& (proto[\"iyear\"] == 2012 + i)][\"nkill\"].sum()        \n",
    "        box[i+98][4] = proto[(proto[\"country_txt\"] == \"Afghanistan\")& (proto[\"iyear\"] == 2012 + i)][\"nkill\"].sum()        \n",
    "        box[i+105][4] = proto[(proto[\"country_txt\"] == \"Nigeria\")& (proto[\"iyear\"] == 2012 + i)][\"nkill\"].sum()        \n",
    "        box[i+112][4] = proto[(proto[\"country_txt\"] == \"Nigeria\")& (proto[\"iyear\"] == 2012 + i)][\"nkill\"].sum()        \n",
    "        box[i+119][4] = proto[(proto[\"country_txt\"] == \"Argentina\")& (proto[\"iyear\"] == 2012 + i)][\"nkill\"].sum()        \n",
    "        box[i+126][4] = proto[(proto[\"country_txt\"] == \"Burundi\")& (proto[\"iyear\"] == 2012 + i)][\"nkill\"].sum()        \n",
    "        box[i+133][4] = proto[(proto[\"country_txt\"] == \"Chile\")& (proto[\"iyear\"] == 2012 + i)][\"nkill\"].sum()        \n",
    "        box[i+140][4] = proto[(proto[\"country_txt\"] == \"El Salvador\")& (proto[\"iyear\"] == 2012 + i)][\"nkill\"].sum()        \n",
    "        box[i+147][4] = proto[(proto[\"country_txt\"] == \"France\")& (proto[\"iyear\"] == 2012 + i)][\"nkill\"].sum()        \n",
    "        box[i+154][4] = proto[(proto[\"country_txt\"] == \"Germany\")& (proto[\"iyear\"] == 2012 + i)][\"nkill\"].sum()        \n",
    "        box[i+161][4] = proto[(proto[\"country_txt\"] == \"Greece\")& (proto[\"iyear\"] == 2012 + i)][\"nkill\"].sum()        \n",
    "        box[i+168][4] = proto[(proto[\"country_txt\"] == \"Guatemala\")& (proto[\"iyear\"] == 2012 + i)][\"nkill\"].sum()        \n",
    "        box[i+175][4] = proto[(proto[\"country_txt\"] == \"Indonesia\")& (proto[\"iyear\"] == 2012 + i)][\"nkill\"].sum()        \n",
    "        box[i+182][4] = proto[(proto[\"country_txt\"] == \"Iran\")& (proto[\"iyear\"] == 2012 + i)][\"nkill\"].sum()        \n",
    "        box[i+189][4] = proto[(proto[\"country_txt\"] == \"Israel\")& (proto[\"iyear\"] == 2012 + i)][\"nkill\"].sum()        \n",
    "        box[i+196][4] = proto[(proto[\"country_txt\"] == \"Italy\")& (proto[\"iyear\"] == 2012 + i)][\"nkill\"].sum()        \n",
    "        box[i+203][4] = proto[(proto[\"country_txt\"] == \"Kenya\")& (proto[\"iyear\"] == 2012 + i)][\"nkill\"].sum()        \n",
    "        box[i+210][4] = proto[(proto[\"country_txt\"] == \"Lebanon\")& (proto[\"iyear\"] == 2012 + i)][\"nkill\"].sum()        \n",
    "        box[i+217][4] = proto[(proto[\"country_txt\"] == \"Mexico\")& (proto[\"iyear\"] == 2012 + i)][\"nkill\"].sum()\n",
    "        box[i+224][4] = proto[(proto[\"country_txt\"] == \"Mali\")& (proto[\"iyear\"] == 2012 + i)][\"nkill\"].sum()\n",
    "        box[i+231][4] = proto[(proto[\"country_txt\"] == \"Myanmar\")& (proto[\"iyear\"] == 2012 + i)][\"nkill\"].sum()\n",
    "        box[i+238][4] = proto[(proto[\"country_txt\"] == \"Nepal\")& (proto[\"iyear\"] == 2012 + i)][\"nkill\"].sum()\n",
    "        box[i+245][4] = proto[(proto[\"country_txt\"] == \"Nicaragua\")& (proto[\"iyear\"] == 2012 + i)][\"nkill\"].sum()\n",
    "        box[i+252][4] = proto[(proto[\"country_txt\"] == \"Paraguay\")& (proto[\"iyear\"] == 2012 + i)][\"nkill\"].sum()\n",
    "        box[i+259][4] = proto[(proto[\"country_txt\"] == \"Russia\")& (proto[\"iyear\"] == 2012 + i)][\"nkill\"].sum()\n",
    "        box[i+266][4] = proto[(proto[\"country_txt\"] == \"South Africa\")& (proto[\"iyear\"] == 2012 + i)][\"nkill\"].sum()\n",
    "        box[i+273][4] = proto[(proto[\"country_txt\"] == \"Spain\")& (proto[\"iyear\"] == 2012 + i)][\"nkill\"].sum()\n",
    "        box[i+280][4] = proto[(proto[\"country_txt\"] == \"Sri Lanka\")& (proto[\"iyear\"] == 2012 + i)][\"nkill\"].sum()\n",
    "        box[i+287][4] = proto[(proto[\"country_txt\"] == \"Sudan\")& (proto[\"iyear\"] == 2012 + i)][\"nkill\"].sum()\n",
    "        box[i+294][4] = proto[(proto[\"country_txt\"] == \"United States\")& (proto[\"iyear\"] == 2012 + i)][\"nkill\"].sum()\n",
    "        box[i+301][4] = proto[(proto[\"country_txt\"] == \"Democratic Republic of the Congo\")& (proto[\"iyear\"] == 2012 + i)][\"nkill\"].sum()\n",
    "        box[i+308][4] = proto[(proto[\"country_txt\"] == \"West Germany\")& (proto[\"iyear\"] == 2012 + i)][\"nkill\"].sum()\n",
    "        box[i+315][4] = proto[(proto[\"country_txt\"] == \"United Kingdom\")& (proto[\"iyear\"] == 2012 + i)][\"nkill\"].sum()\n",
    "        box[i+322][4] = proto[(proto[\"country_txt\"] == \"Canada\")& (proto[\"iyear\"] == 2012 + i)][\"nkill\"].sum()\n",
    "        box[i+329][4] = proto[(proto[\"country_txt\"] == \"China\")& (proto[\"iyear\"] == 2012 + i)][\"nkill\"].sum()\n",
    "        box[i+336][4] = proto[(proto[\"country_txt\"] == \"Australia\")& (proto[\"iyear\"] == 2012 + i)][\"nkill\"].sum()\n",
    "        box[i+343][4] = proto[(proto[\"country_txt\"] == \"Brazil\")& (proto[\"iyear\"] == 2012 + i)][\"nkill\"].sum()\n",
    "        box[i+350][4] = proto[(proto[\"country_txt\"] == \"Zambia\")& (proto[\"iyear\"] == 2012 + i)][\"nkill\"].sum()\n",
    "        box[i+357][4] = proto[(proto[\"country_txt\"] == \"Angola\")& (proto[\"iyear\"] == 2012 + i)][\"nkill\"].sum()\n",
    "\n",
    "        \n",
    "\n",
    "        "
   ]
  },
  {
   "cell_type": "code",
   "execution_count": 27,
   "metadata": {
    "slideshow": {
     "slide_type": "skip"
    }
   },
   "outputs": [],
   "source": [
    "# some handy functions to use along widgets\n",
    "from IPython.display import display, Markdown, clear_output\n",
    "# widget packages\n",
    "import ipywidgets as widgets\n",
    "# defining some widgets\n",
    "\n",
    "style = {'description_width': 'initial'}"
   ]
  },
  {
   "cell_type": "code",
   "execution_count": 28,
   "metadata": {
    "slideshow": {
     "slide_type": "skip"
    }
   },
   "outputs": [],
   "source": [
    "control_variable = widgets.Dropdown(\n",
    "        options=['Total Attacks', 'Total Kills'],\n",
    "        value='Total Attacks',\n",
    "        style=style,\n",
    "        description='Control Variable:')\n",
    "\n",
    "\n",
    "buttonuser_info_2 = widgets.Button(description='Generate')\n",
    "\n",
    "outuser_info_2 = widgets.Output()\n",
    "\n",
    "def on_buttonuser_info_clicked_2(b):\n",
    "    with outuser_info_2:\n",
    "        clear_output()\n",
    "        \n",
    "        if(control_variable.value == \"Total Attacks\"):\n",
    "            set = 'attacks'\n",
    "        elif(control_variable.value == \"Total Kills\"):\n",
    "            set = 'kills'\n",
    "        \n",
    "        Array3 = pd.DataFrame(box)    \n",
    "\n",
    "        Array3.columns = ['country', 'year', 'attacks','iso_alpha', \"kills\"]\n",
    "\n",
    "        fig_2 = py.choropleth(Array3, locations=\"iso_alpha\", color=set,\n",
    "                              hover_name=\"country\", animation_frame=\"year\",\n",
    "                              title = \"Heat Map for \" + control_variable.value + \" since 2012\",\n",
    "             color_continuous_scale=px.colors.sequential.Plasma)\n",
    "        \n",
    "        fig_2.update_layout(\n",
    "            hoverlabel=dict(\n",
    "                bgcolor=\"green\",\n",
    "                font_size=11,\n",
    "                font_family=\"Arial\"\n",
    "            )\n",
    "        )\n",
    "\n",
    "        fig_2.show()\n",
    "        \n",
    "# Links button: buttonuser_info to its output function      \n",
    "buttonuser_info_2.on_click(on_buttonuser_info_clicked_2)\n"
   ]
  },
  {
   "cell_type": "code",
   "execution_count": 29,
   "metadata": {
    "slideshow": {
     "slide_type": "skip"
    }
   },
   "outputs": [],
   "source": [
    "c = 3\n",
    "r = 16*7\n",
    "\n",
    "array = [ [0] * c for i in range(r)]\n",
    "\n",
    "for i in range(0,7):\n",
    "        array[i][0] = \"Colombia\"\n",
    "        array[i+7][0] = \"Pakistan\"\n",
    "        array[i+14][0] = \"Libya\"\n",
    "        array[i+21][0] = \"Turkey\"\n",
    "        array[i+28][0] = \"Syria\";\n",
    "        array[i+35][0] = \"Bangladesh\";\n",
    "        array[i+42][0] = \"Thailand\";\n",
    "        array[i+49][0] = \"Iraq\";\n",
    "        array[i+56][0] = \"Ukraine\";\n",
    "        array[i+63][0] = \"Somalia\";\n",
    "        array[i+70][0] = \"India\";\n",
    "        array[i+77][0] = \"Yemen\";\n",
    "        array[i+84][0] = \"Egypt\";\n",
    "        array[i+91][0] = \"Philippines\";\n",
    "        array[i+98][0] = \"Afghanistan\";\n",
    "        array[i+105][0] = \"Nigeria\";\n",
    "        \n",
    "        for j in range(0,16):\n",
    "            array[i + 7*j][1] = 2012+i\n",
    "\n",
    "# DROPDOWN MENU FOR SELECTING USER-ID\n",
    "users = widgets.Dropdown(\n",
    "       options=['Bank', 'Restaurant or Cafe','Private Firm', 'Election Related', 'Government Buildings','Alleged Informant',\n",
    "               'Bus (excluding tourist)', 'Military Unit', 'Airport', 'School/University', 'Tourist', 'Protester',\n",
    "                'Public Areas', 'Newspaper Journalist'],\n",
    "        value='Bank',\n",
    "        style=style,\n",
    "        description='Target Subplace:')\n",
    "\n",
    "\n",
    "buttonuser_info = widgets.Button(description='Generate')\n",
    "\n",
    "outuser_info = widgets.Output()\n",
    "\n",
    "def on_buttonuser_info_clicked(b):\n",
    "    with outuser_info:\n",
    "        clear_output()\n",
    "        \n",
    "        if(users.value == \"Bank\"):\n",
    "            set = 3\n",
    "            y_max = 30\n",
    "        elif(users.value == \"Restaurant or Cafe\"):\n",
    "            set = 2\n",
    "            y_max = 100\n",
    "        elif(users.value == \"Private Firm\"):\n",
    "            set = 7\n",
    "            y_max = 270\n",
    "        elif(users.value == \"Election Related\"):\n",
    "            set = 19\n",
    "            y_max = 75\n",
    "        elif(users.value == \"Government Buildings\"):\n",
    "            set = 21\n",
    "            y_max = 55\n",
    "        elif(users.value == \"Alleged Informant\"):\n",
    "            set = 113\n",
    "            y_max = 65\n",
    "        elif(users.value == \"Bus (excluding tourist)\"):\n",
    "            set = 99\n",
    "            y_max = 40\n",
    "        elif(users.value == \"Military Unit\"):\n",
    "            set = 29\n",
    "            y_max = 240\n",
    "        elif(users.value == \"Airport\"):\n",
    "            set = 44\n",
    "            y_max = 20\n",
    "        elif(users.value == \"School/University\"):\n",
    "            set = 49\n",
    "            y_max = 140\n",
    "        elif(users.value == \"Tourist\"):\n",
    "            set = 97\n",
    "            y_max = 20\n",
    "        elif(users.value == \"Protester\"):\n",
    "            set = 83\n",
    "            y_max = 40\n",
    "        elif(users.value == \"Public Areas\"):\n",
    "            set = 79\n",
    "            y_max = 30\n",
    "        elif(users.value == \"Newspaper Journalist\"):\n",
    "            set = 53\n",
    "            y_max = 20\n",
    "            \n",
    "            \n",
    "        refined = proto[proto[\"targsubtype1\"] == set]\n",
    "        \n",
    "        for i in range(0,7):\n",
    "            \n",
    "                refined_2 = refined[refined[\"iyear\"] == 2012 + i]\n",
    "                \n",
    "                array[i][2] = len(refined_2[(refined_2[\"country_txt\"] == \"Colombia\")].values)\n",
    "\n",
    "                array[i+7][2] = len(refined_2[(refined_2[\"country_txt\"] == \"Pakistan\")].values)\n",
    "\n",
    "                array[i+14][2] = len(refined_2[(refined_2[\"country_txt\"] == \"Libya\")].values)\n",
    "\n",
    "                array[i+21][2] = len(refined_2[(refined_2[\"country_txt\"] == \"Turkey\")].values)\n",
    "\n",
    "                array[i+28][2] = len(refined_2[(refined_2[\"country_txt\"] == \"Syria\")].values)\n",
    "\n",
    "                array[i+35][2] = len(refined_2[(refined_2[\"country_txt\"] == \"Bangladesh\")].values)\n",
    "\n",
    "                array[i+42][2] = len(refined_2[(refined_2[\"country_txt\"] == \"Thailand\")].values)\n",
    "\n",
    "                array[i+49][2] = len(refined_2[(refined_2[\"country_txt\"] == \"Iraq\")].values)\n",
    "\n",
    "                array[i+56][2] = len(refined_2[(refined_2[\"country_txt\"] == \"Ukraine\")].values)\n",
    "\n",
    "                array[i+63][2] = len(refined_2[(refined_2[\"country_txt\"] == \"Somalia\")].values)\n",
    "\n",
    "                array[i+70][2] = len(refined_2[(refined_2[\"country_txt\"] == \"India\")].values)\n",
    "\n",
    "                array[i+77][2] = len(refined_2[(refined_2[\"country_txt\"] == \"Yemen\")].values)\n",
    "\n",
    "                array[i+84][2] = len(refined_2[(refined_2[\"country_txt\"] == \"Egypt\")].values)\n",
    "\n",
    "                array[i+91][2] = len(refined_2[(refined_2[\"country_txt\"] == \"Philippines\")].values)\n",
    "\n",
    "                array[i+98][2] = len(refined_2[(refined_2[\"country_txt\"] == \"Afghanistan\")].values)\n",
    "\n",
    "                array[i+105][2] = len(refined_2[(refined_2[\"country_txt\"] == \"Nigeria\")].values)\n",
    "\n",
    "                for j in range(0,16):\n",
    "                    array[i + 7*j][1] = 2012+i\n",
    "                    \n",
    "        Array = pd.DataFrame(array)    \n",
    "\n",
    "        Array.columns = ['country', 'year', 'attacks']\n",
    "\n",
    "\n",
    "\n",
    "        fig_3 = py.bar(Array, x = \"country\", y = \"attacks\",               \n",
    "             animation_frame=\"year\", \n",
    "             animation_group=\"country\",\n",
    "             text = 'attacks',\n",
    "             color = \"country\",\n",
    "             range_y = [0,y_max],\n",
    "             title = \"Terrorist Attacks on \" + users.value + \" in Top 16 Countries Since 2012\",\n",
    "             labels = {\n",
    "                  \"attacks\": \"No. of Attacks\",\n",
    "                  \"country\": \"Countries\",\n",
    "                 }\n",
    "\n",
    "             )\n",
    "        \n",
    "        \n",
    "                \n",
    "        fig_3.show()\n",
    "    \n",
    "# Links button: buttonuser_info to its output function      \n",
    "buttonuser_info.on_click(on_buttonuser_info_clicked)"
   ]
  },
  {
   "cell_type": "code",
   "execution_count": 30,
   "metadata": {
    "slideshow": {
     "slide_type": "slide"
    }
   },
   "outputs": [
    {
     "data": {
      "application/vnd.plotly.v1+json": {
       "config": {
        "plotlyServerURL": "https://plot.ly"
       },
       "data": [
        {
         "alignmentgroup": "True",
         "hovertemplate": "Countries=%{x}<br>year=2012<br>No. of Attacks=%{text}<extra></extra>",
         "ids": [
          "Colombia"
         ],
         "legendgroup": "Colombia",
         "marker": {
          "color": "#636efa"
         },
         "name": "Colombia",
         "offsetgroup": "Colombia",
         "orientation": "v",
         "showlegend": true,
         "text": [
          115
         ],
         "textposition": "auto",
         "type": "bar",
         "x": [
          "Colombia"
         ],
         "xaxis": "x",
         "y": [
          115
         ],
         "yaxis": "y"
        },
        {
         "alignmentgroup": "True",
         "hovertemplate": "Countries=%{x}<br>year=2012<br>No. of Attacks=%{text}<extra></extra>",
         "ids": [
          "Pakistan"
         ],
         "legendgroup": "Pakistan",
         "marker": {
          "color": "#EF553B"
         },
         "name": "Pakistan",
         "offsetgroup": "Pakistan",
         "orientation": "v",
         "showlegend": true,
         "text": [
          1628
         ],
         "textposition": "auto",
         "type": "bar",
         "x": [
          "Pakistan"
         ],
         "xaxis": "x",
         "y": [
          1628
         ],
         "yaxis": "y"
        },
        {
         "alignmentgroup": "True",
         "hovertemplate": "Countries=%{x}<br>year=2012<br>No. of Attacks=%{text}<extra></extra>",
         "ids": [
          "Libya"
         ],
         "legendgroup": "Libya",
         "marker": {
          "color": "#00cc96"
         },
         "name": "Libya",
         "offsetgroup": "Libya",
         "orientation": "v",
         "showlegend": true,
         "text": [
          56
         ],
         "textposition": "auto",
         "type": "bar",
         "x": [
          "Libya"
         ],
         "xaxis": "x",
         "y": [
          56
         ],
         "yaxis": "y"
        },
        {
         "alignmentgroup": "True",
         "hovertemplate": "Countries=%{x}<br>year=2012<br>No. of Attacks=%{text}<extra></extra>",
         "ids": [
          "Turkey"
         ],
         "legendgroup": "Turkey",
         "marker": {
          "color": "#ab63fa"
         },
         "name": "Turkey",
         "offsetgroup": "Turkey",
         "orientation": "v",
         "showlegend": true,
         "text": [
          178
         ],
         "textposition": "auto",
         "type": "bar",
         "x": [
          "Turkey"
         ],
         "xaxis": "x",
         "y": [
          178
         ],
         "yaxis": "y"
        },
        {
         "alignmentgroup": "True",
         "hovertemplate": "Countries=%{x}<br>year=2012<br>No. of Attacks=%{text}<extra></extra>",
         "ids": [
          "Syria"
         ],
         "legendgroup": "Syria",
         "marker": {
          "color": "#FFA15A"
         },
         "name": "Syria",
         "offsetgroup": "Syria",
         "orientation": "v",
         "showlegend": true,
         "text": [
          174
         ],
         "textposition": "auto",
         "type": "bar",
         "x": [
          "Syria"
         ],
         "xaxis": "x",
         "y": [
          174
         ],
         "yaxis": "y"
        },
        {
         "alignmentgroup": "True",
         "hovertemplate": "Countries=%{x}<br>year=2012<br>No. of Attacks=%{text}<extra></extra>",
         "ids": [
          "Bangladesh"
         ],
         "legendgroup": "Bangladesh",
         "marker": {
          "color": "#19d3f3"
         },
         "name": "Bangladesh",
         "offsetgroup": "Bangladesh",
         "orientation": "v",
         "showlegend": true,
         "text": [
          18
         ],
         "textposition": "auto",
         "type": "bar",
         "x": [
          "Bangladesh"
         ],
         "xaxis": "x",
         "y": [
          18
         ],
         "yaxis": "y"
        },
        {
         "alignmentgroup": "True",
         "hovertemplate": "Countries=%{x}<br>year=2012<br>No. of Attacks=%{text}<extra></extra>",
         "ids": [
          "Thailand"
         ],
         "legendgroup": "Thailand",
         "marker": {
          "color": "#FF6692"
         },
         "name": "Thailand",
         "offsetgroup": "Thailand",
         "orientation": "v",
         "showlegend": true,
         "text": [
          280
         ],
         "textposition": "auto",
         "type": "bar",
         "x": [
          "Thailand"
         ],
         "xaxis": "x",
         "y": [
          280
         ],
         "yaxis": "y"
        },
        {
         "alignmentgroup": "True",
         "hovertemplate": "Countries=%{x}<br>year=2012<br>No. of Attacks=%{text}<extra></extra>",
         "ids": [
          "Iraq"
         ],
         "legendgroup": "Iraq",
         "marker": {
          "color": "#B6E880"
         },
         "name": "Iraq",
         "offsetgroup": "Iraq",
         "orientation": "v",
         "showlegend": true,
         "text": [
          1422
         ],
         "textposition": "auto",
         "type": "bar",
         "x": [
          "Iraq"
         ],
         "xaxis": "x",
         "y": [
          1422
         ],
         "yaxis": "y"
        },
        {
         "alignmentgroup": "True",
         "hovertemplate": "Countries=%{x}<br>year=2012<br>No. of Attacks=%{text}<extra></extra>",
         "ids": [
          "Ukraine"
         ],
         "legendgroup": "Ukraine",
         "marker": {
          "color": "#FF97FF"
         },
         "name": "Ukraine",
         "offsetgroup": "Ukraine",
         "orientation": "v",
         "showlegend": true,
         "text": [
          8
         ],
         "textposition": "auto",
         "type": "bar",
         "x": [
          "Ukraine"
         ],
         "xaxis": "x",
         "y": [
          8
         ],
         "yaxis": "y"
        },
        {
         "alignmentgroup": "True",
         "hovertemplate": "Countries=%{x}<br>year=2012<br>No. of Attacks=%{text}<extra></extra>",
         "ids": [
          "Somalia"
         ],
         "legendgroup": "Somalia",
         "marker": {
          "color": "#FECB52"
         },
         "name": "Somalia",
         "offsetgroup": "Somalia",
         "orientation": "v",
         "showlegend": true,
         "text": [
          271
         ],
         "textposition": "auto",
         "type": "bar",
         "x": [
          "Somalia"
         ],
         "xaxis": "x",
         "y": [
          271
         ],
         "yaxis": "y"
        },
        {
         "alignmentgroup": "True",
         "hovertemplate": "Countries=%{x}<br>year=2012<br>No. of Attacks=%{text}<extra></extra>",
         "ids": [
          "India"
         ],
         "legendgroup": "India",
         "marker": {
          "color": "#636efa"
         },
         "name": "India",
         "offsetgroup": "India",
         "orientation": "v",
         "showlegend": true,
         "text": [
          593
         ],
         "textposition": "auto",
         "type": "bar",
         "x": [
          "India"
         ],
         "xaxis": "x",
         "y": [
          593
         ],
         "yaxis": "y"
        },
        {
         "alignmentgroup": "True",
         "hovertemplate": "Countries=%{x}<br>year=2012<br>No. of Attacks=%{text}<extra></extra>",
         "ids": [
          "Yemen"
         ],
         "legendgroup": "Yemen",
         "marker": {
          "color": "#EF553B"
         },
         "name": "Yemen",
         "offsetgroup": "Yemen",
         "orientation": "v",
         "showlegend": true,
         "text": [
          306
         ],
         "textposition": "auto",
         "type": "bar",
         "x": [
          "Yemen"
         ],
         "xaxis": "x",
         "y": [
          306
         ],
         "yaxis": "y"
        },
        {
         "alignmentgroup": "True",
         "hovertemplate": "Countries=%{x}<br>year=2012<br>No. of Attacks=%{text}<extra></extra>",
         "ids": [
          "Egypt"
         ],
         "legendgroup": "Egypt",
         "marker": {
          "color": "#00cc96"
         },
         "name": "Egypt",
         "offsetgroup": "Egypt",
         "orientation": "v",
         "showlegend": true,
         "text": [
          48
         ],
         "textposition": "auto",
         "type": "bar",
         "x": [
          "Egypt"
         ],
         "xaxis": "x",
         "y": [
          48
         ],
         "yaxis": "y"
        },
        {
         "alignmentgroup": "True",
         "hovertemplate": "Countries=%{x}<br>year=2012<br>No. of Attacks=%{text}<extra></extra>",
         "ids": [
          "Philippines"
         ],
         "legendgroup": "Philippines",
         "marker": {
          "color": "#ab63fa"
         },
         "name": "Philippines",
         "offsetgroup": "Philippines",
         "orientation": "v",
         "showlegend": true,
         "text": [
          245
         ],
         "textposition": "auto",
         "type": "bar",
         "x": [
          "Philippines"
         ],
         "xaxis": "x",
         "y": [
          245
         ],
         "yaxis": "y"
        },
        {
         "alignmentgroup": "True",
         "hovertemplate": "Countries=%{x}<br>year=2012<br>No. of Attacks=%{text}<extra></extra>",
         "ids": [
          "Afghanistan"
         ],
         "legendgroup": "Afghanistan",
         "marker": {
          "color": "#FFA15A"
         },
         "name": "Afghanistan",
         "offsetgroup": "Afghanistan",
         "orientation": "v",
         "showlegend": true,
         "text": [
          1447
         ],
         "textposition": "auto",
         "type": "bar",
         "x": [
          "Afghanistan"
         ],
         "xaxis": "x",
         "y": [
          1447
         ],
         "yaxis": "y"
        },
        {
         "alignmentgroup": "True",
         "hovertemplate": "Countries=%{x}<br>year=2012<br>No. of Attacks=%{text}<extra></extra>",
         "ids": [
          "Nigeria"
         ],
         "legendgroup": "Nigeria",
         "marker": {
          "color": "#19d3f3"
         },
         "name": "Nigeria",
         "offsetgroup": "Nigeria",
         "orientation": "v",
         "showlegend": true,
         "text": [
          591
         ],
         "textposition": "auto",
         "type": "bar",
         "x": [
          "Nigeria"
         ],
         "xaxis": "x",
         "y": [
          591
         ],
         "yaxis": "y"
        }
       ],
       "frames": [
        {
         "data": [
          {
           "alignmentgroup": "True",
           "hovertemplate": "Countries=%{x}<br>year=2012<br>No. of Attacks=%{text}<extra></extra>",
           "ids": [
            "Colombia"
           ],
           "legendgroup": "Colombia",
           "marker": {
            "color": "#636efa"
           },
           "name": "Colombia",
           "offsetgroup": "Colombia",
           "orientation": "v",
           "showlegend": true,
           "text": [
            115
           ],
           "textposition": "auto",
           "type": "bar",
           "x": [
            "Colombia"
           ],
           "xaxis": "x",
           "y": [
            115
           ],
           "yaxis": "y"
          },
          {
           "alignmentgroup": "True",
           "hovertemplate": "Countries=%{x}<br>year=2012<br>No. of Attacks=%{text}<extra></extra>",
           "ids": [
            "Pakistan"
           ],
           "legendgroup": "Pakistan",
           "marker": {
            "color": "#EF553B"
           },
           "name": "Pakistan",
           "offsetgroup": "Pakistan",
           "orientation": "v",
           "showlegend": true,
           "text": [
            1628
           ],
           "textposition": "auto",
           "type": "bar",
           "x": [
            "Pakistan"
           ],
           "xaxis": "x",
           "y": [
            1628
           ],
           "yaxis": "y"
          },
          {
           "alignmentgroup": "True",
           "hovertemplate": "Countries=%{x}<br>year=2012<br>No. of Attacks=%{text}<extra></extra>",
           "ids": [
            "Libya"
           ],
           "legendgroup": "Libya",
           "marker": {
            "color": "#00cc96"
           },
           "name": "Libya",
           "offsetgroup": "Libya",
           "orientation": "v",
           "showlegend": true,
           "text": [
            56
           ],
           "textposition": "auto",
           "type": "bar",
           "x": [
            "Libya"
           ],
           "xaxis": "x",
           "y": [
            56
           ],
           "yaxis": "y"
          },
          {
           "alignmentgroup": "True",
           "hovertemplate": "Countries=%{x}<br>year=2012<br>No. of Attacks=%{text}<extra></extra>",
           "ids": [
            "Turkey"
           ],
           "legendgroup": "Turkey",
           "marker": {
            "color": "#ab63fa"
           },
           "name": "Turkey",
           "offsetgroup": "Turkey",
           "orientation": "v",
           "showlegend": true,
           "text": [
            178
           ],
           "textposition": "auto",
           "type": "bar",
           "x": [
            "Turkey"
           ],
           "xaxis": "x",
           "y": [
            178
           ],
           "yaxis": "y"
          },
          {
           "alignmentgroup": "True",
           "hovertemplate": "Countries=%{x}<br>year=2012<br>No. of Attacks=%{text}<extra></extra>",
           "ids": [
            "Syria"
           ],
           "legendgroup": "Syria",
           "marker": {
            "color": "#FFA15A"
           },
           "name": "Syria",
           "offsetgroup": "Syria",
           "orientation": "v",
           "showlegend": true,
           "text": [
            174
           ],
           "textposition": "auto",
           "type": "bar",
           "x": [
            "Syria"
           ],
           "xaxis": "x",
           "y": [
            174
           ],
           "yaxis": "y"
          },
          {
           "alignmentgroup": "True",
           "hovertemplate": "Countries=%{x}<br>year=2012<br>No. of Attacks=%{text}<extra></extra>",
           "ids": [
            "Bangladesh"
           ],
           "legendgroup": "Bangladesh",
           "marker": {
            "color": "#19d3f3"
           },
           "name": "Bangladesh",
           "offsetgroup": "Bangladesh",
           "orientation": "v",
           "showlegend": true,
           "text": [
            18
           ],
           "textposition": "auto",
           "type": "bar",
           "x": [
            "Bangladesh"
           ],
           "xaxis": "x",
           "y": [
            18
           ],
           "yaxis": "y"
          },
          {
           "alignmentgroup": "True",
           "hovertemplate": "Countries=%{x}<br>year=2012<br>No. of Attacks=%{text}<extra></extra>",
           "ids": [
            "Thailand"
           ],
           "legendgroup": "Thailand",
           "marker": {
            "color": "#FF6692"
           },
           "name": "Thailand",
           "offsetgroup": "Thailand",
           "orientation": "v",
           "showlegend": true,
           "text": [
            280
           ],
           "textposition": "auto",
           "type": "bar",
           "x": [
            "Thailand"
           ],
           "xaxis": "x",
           "y": [
            280
           ],
           "yaxis": "y"
          },
          {
           "alignmentgroup": "True",
           "hovertemplate": "Countries=%{x}<br>year=2012<br>No. of Attacks=%{text}<extra></extra>",
           "ids": [
            "Iraq"
           ],
           "legendgroup": "Iraq",
           "marker": {
            "color": "#B6E880"
           },
           "name": "Iraq",
           "offsetgroup": "Iraq",
           "orientation": "v",
           "showlegend": true,
           "text": [
            1422
           ],
           "textposition": "auto",
           "type": "bar",
           "x": [
            "Iraq"
           ],
           "xaxis": "x",
           "y": [
            1422
           ],
           "yaxis": "y"
          },
          {
           "alignmentgroup": "True",
           "hovertemplate": "Countries=%{x}<br>year=2012<br>No. of Attacks=%{text}<extra></extra>",
           "ids": [
            "Ukraine"
           ],
           "legendgroup": "Ukraine",
           "marker": {
            "color": "#FF97FF"
           },
           "name": "Ukraine",
           "offsetgroup": "Ukraine",
           "orientation": "v",
           "showlegend": true,
           "text": [
            8
           ],
           "textposition": "auto",
           "type": "bar",
           "x": [
            "Ukraine"
           ],
           "xaxis": "x",
           "y": [
            8
           ],
           "yaxis": "y"
          },
          {
           "alignmentgroup": "True",
           "hovertemplate": "Countries=%{x}<br>year=2012<br>No. of Attacks=%{text}<extra></extra>",
           "ids": [
            "Somalia"
           ],
           "legendgroup": "Somalia",
           "marker": {
            "color": "#FECB52"
           },
           "name": "Somalia",
           "offsetgroup": "Somalia",
           "orientation": "v",
           "showlegend": true,
           "text": [
            271
           ],
           "textposition": "auto",
           "type": "bar",
           "x": [
            "Somalia"
           ],
           "xaxis": "x",
           "y": [
            271
           ],
           "yaxis": "y"
          },
          {
           "alignmentgroup": "True",
           "hovertemplate": "Countries=%{x}<br>year=2012<br>No. of Attacks=%{text}<extra></extra>",
           "ids": [
            "India"
           ],
           "legendgroup": "India",
           "marker": {
            "color": "#636efa"
           },
           "name": "India",
           "offsetgroup": "India",
           "orientation": "v",
           "showlegend": true,
           "text": [
            593
           ],
           "textposition": "auto",
           "type": "bar",
           "x": [
            "India"
           ],
           "xaxis": "x",
           "y": [
            593
           ],
           "yaxis": "y"
          },
          {
           "alignmentgroup": "True",
           "hovertemplate": "Countries=%{x}<br>year=2012<br>No. of Attacks=%{text}<extra></extra>",
           "ids": [
            "Yemen"
           ],
           "legendgroup": "Yemen",
           "marker": {
            "color": "#EF553B"
           },
           "name": "Yemen",
           "offsetgroup": "Yemen",
           "orientation": "v",
           "showlegend": true,
           "text": [
            306
           ],
           "textposition": "auto",
           "type": "bar",
           "x": [
            "Yemen"
           ],
           "xaxis": "x",
           "y": [
            306
           ],
           "yaxis": "y"
          },
          {
           "alignmentgroup": "True",
           "hovertemplate": "Countries=%{x}<br>year=2012<br>No. of Attacks=%{text}<extra></extra>",
           "ids": [
            "Egypt"
           ],
           "legendgroup": "Egypt",
           "marker": {
            "color": "#00cc96"
           },
           "name": "Egypt",
           "offsetgroup": "Egypt",
           "orientation": "v",
           "showlegend": true,
           "text": [
            48
           ],
           "textposition": "auto",
           "type": "bar",
           "x": [
            "Egypt"
           ],
           "xaxis": "x",
           "y": [
            48
           ],
           "yaxis": "y"
          },
          {
           "alignmentgroup": "True",
           "hovertemplate": "Countries=%{x}<br>year=2012<br>No. of Attacks=%{text}<extra></extra>",
           "ids": [
            "Philippines"
           ],
           "legendgroup": "Philippines",
           "marker": {
            "color": "#ab63fa"
           },
           "name": "Philippines",
           "offsetgroup": "Philippines",
           "orientation": "v",
           "showlegend": true,
           "text": [
            245
           ],
           "textposition": "auto",
           "type": "bar",
           "x": [
            "Philippines"
           ],
           "xaxis": "x",
           "y": [
            245
           ],
           "yaxis": "y"
          },
          {
           "alignmentgroup": "True",
           "hovertemplate": "Countries=%{x}<br>year=2012<br>No. of Attacks=%{text}<extra></extra>",
           "ids": [
            "Afghanistan"
           ],
           "legendgroup": "Afghanistan",
           "marker": {
            "color": "#FFA15A"
           },
           "name": "Afghanistan",
           "offsetgroup": "Afghanistan",
           "orientation": "v",
           "showlegend": true,
           "text": [
            1447
           ],
           "textposition": "auto",
           "type": "bar",
           "x": [
            "Afghanistan"
           ],
           "xaxis": "x",
           "y": [
            1447
           ],
           "yaxis": "y"
          },
          {
           "alignmentgroup": "True",
           "hovertemplate": "Countries=%{x}<br>year=2012<br>No. of Attacks=%{text}<extra></extra>",
           "ids": [
            "Nigeria"
           ],
           "legendgroup": "Nigeria",
           "marker": {
            "color": "#19d3f3"
           },
           "name": "Nigeria",
           "offsetgroup": "Nigeria",
           "orientation": "v",
           "showlegend": true,
           "text": [
            591
           ],
           "textposition": "auto",
           "type": "bar",
           "x": [
            "Nigeria"
           ],
           "xaxis": "x",
           "y": [
            591
           ],
           "yaxis": "y"
          }
         ],
         "name": "2012"
        },
        {
         "data": [
          {
           "alignmentgroup": "True",
           "hovertemplate": "Countries=%{x}<br>year=2013<br>No. of Attacks=%{text}<extra></extra>",
           "ids": [
            "Colombia"
           ],
           "legendgroup": "Colombia",
           "marker": {
            "color": "#636efa"
           },
           "name": "Colombia",
           "offsetgroup": "Colombia",
           "orientation": "v",
           "showlegend": true,
           "text": [
            146
           ],
           "textposition": "auto",
           "type": "bar",
           "x": [
            "Colombia"
           ],
           "xaxis": "x",
           "y": [
            146
           ],
           "yaxis": "y"
          },
          {
           "alignmentgroup": "True",
           "hovertemplate": "Countries=%{x}<br>year=2013<br>No. of Attacks=%{text}<extra></extra>",
           "ids": [
            "Pakistan"
           ],
           "legendgroup": "Pakistan",
           "marker": {
            "color": "#EF553B"
           },
           "name": "Pakistan",
           "offsetgroup": "Pakistan",
           "orientation": "v",
           "showlegend": true,
           "text": [
            2159
           ],
           "textposition": "auto",
           "type": "bar",
           "x": [
            "Pakistan"
           ],
           "xaxis": "x",
           "y": [
            2159
           ],
           "yaxis": "y"
          },
          {
           "alignmentgroup": "True",
           "hovertemplate": "Countries=%{x}<br>year=2013<br>No. of Attacks=%{text}<extra></extra>",
           "ids": [
            "Libya"
           ],
           "legendgroup": "Libya",
           "marker": {
            "color": "#00cc96"
           },
           "name": "Libya",
           "offsetgroup": "Libya",
           "orientation": "v",
           "showlegend": true,
           "text": [
            284
           ],
           "textposition": "auto",
           "type": "bar",
           "x": [
            "Libya"
           ],
           "xaxis": "x",
           "y": [
            284
           ],
           "yaxis": "y"
          },
          {
           "alignmentgroup": "True",
           "hovertemplate": "Countries=%{x}<br>year=2013<br>No. of Attacks=%{text}<extra></extra>",
           "ids": [
            "Turkey"
           ],
           "legendgroup": "Turkey",
           "marker": {
            "color": "#ab63fa"
           },
           "name": "Turkey",
           "offsetgroup": "Turkey",
           "orientation": "v",
           "showlegend": true,
           "text": [
            38
           ],
           "textposition": "auto",
           "type": "bar",
           "x": [
            "Turkey"
           ],
           "xaxis": "x",
           "y": [
            38
           ],
           "yaxis": "y"
          },
          {
           "alignmentgroup": "True",
           "hovertemplate": "Countries=%{x}<br>year=2013<br>No. of Attacks=%{text}<extra></extra>",
           "ids": [
            "Syria"
           ],
           "legendgroup": "Syria",
           "marker": {
            "color": "#FFA15A"
           },
           "name": "Syria",
           "offsetgroup": "Syria",
           "orientation": "v",
           "showlegend": true,
           "text": [
            269
           ],
           "textposition": "auto",
           "type": "bar",
           "x": [
            "Syria"
           ],
           "xaxis": "x",
           "y": [
            269
           ],
           "yaxis": "y"
          },
          {
           "alignmentgroup": "True",
           "hovertemplate": "Countries=%{x}<br>year=2013<br>No. of Attacks=%{text}<extra></extra>",
           "ids": [
            "Bangladesh"
           ],
           "legendgroup": "Bangladesh",
           "marker": {
            "color": "#19d3f3"
           },
           "name": "Bangladesh",
           "offsetgroup": "Bangladesh",
           "orientation": "v",
           "showlegend": true,
           "text": [
            139
           ],
           "textposition": "auto",
           "type": "bar",
           "x": [
            "Bangladesh"
           ],
           "xaxis": "x",
           "y": [
            139
           ],
           "yaxis": "y"
          },
          {
           "alignmentgroup": "True",
           "hovertemplate": "Countries=%{x}<br>year=2013<br>No. of Attacks=%{text}<extra></extra>",
           "ids": [
            "Thailand"
           ],
           "legendgroup": "Thailand",
           "marker": {
            "color": "#FF6692"
           },
           "name": "Thailand",
           "offsetgroup": "Thailand",
           "orientation": "v",
           "showlegend": true,
           "text": [
            472
           ],
           "textposition": "auto",
           "type": "bar",
           "x": [
            "Thailand"
           ],
           "xaxis": "x",
           "y": [
            472
           ],
           "yaxis": "y"
          },
          {
           "alignmentgroup": "True",
           "hovertemplate": "Countries=%{x}<br>year=2013<br>No. of Attacks=%{text}<extra></extra>",
           "ids": [
            "Iraq"
           ],
           "legendgroup": "Iraq",
           "marker": {
            "color": "#B6E880"
           },
           "name": "Iraq",
           "offsetgroup": "Iraq",
           "orientation": "v",
           "showlegend": true,
           "text": [
            2812
           ],
           "textposition": "auto",
           "type": "bar",
           "x": [
            "Iraq"
           ],
           "xaxis": "x",
           "y": [
            2812
           ],
           "yaxis": "y"
          },
          {
           "alignmentgroup": "True",
           "hovertemplate": "Countries=%{x}<br>year=2013<br>No. of Attacks=%{text}<extra></extra>",
           "ids": [
            "Ukraine"
           ],
           "legendgroup": "Ukraine",
           "marker": {
            "color": "#FF97FF"
           },
           "name": "Ukraine",
           "offsetgroup": "Ukraine",
           "orientation": "v",
           "showlegend": true,
           "text": [
            5
           ],
           "textposition": "auto",
           "type": "bar",
           "x": [
            "Ukraine"
           ],
           "xaxis": "x",
           "y": [
            5
           ],
           "yaxis": "y"
          },
          {
           "alignmentgroup": "True",
           "hovertemplate": "Countries=%{x}<br>year=2013<br>No. of Attacks=%{text}<extra></extra>",
           "ids": [
            "Somalia"
           ],
           "legendgroup": "Somalia",
           "marker": {
            "color": "#FECB52"
           },
           "name": "Somalia",
           "offsetgroup": "Somalia",
           "orientation": "v",
           "showlegend": true,
           "text": [
            277
           ],
           "textposition": "auto",
           "type": "bar",
           "x": [
            "Somalia"
           ],
           "xaxis": "x",
           "y": [
            277
           ],
           "yaxis": "y"
          },
          {
           "alignmentgroup": "True",
           "hovertemplate": "Countries=%{x}<br>year=2013<br>No. of Attacks=%{text}<extra></extra>",
           "ids": [
            "India"
           ],
           "legendgroup": "India",
           "marker": {
            "color": "#636efa"
           },
           "name": "India",
           "offsetgroup": "India",
           "orientation": "v",
           "showlegend": true,
           "text": [
            678
           ],
           "textposition": "auto",
           "type": "bar",
           "x": [
            "India"
           ],
           "xaxis": "x",
           "y": [
            678
           ],
           "yaxis": "y"
          },
          {
           "alignmentgroup": "True",
           "hovertemplate": "Countries=%{x}<br>year=2013<br>No. of Attacks=%{text}<extra></extra>",
           "ids": [
            "Yemen"
           ],
           "legendgroup": "Yemen",
           "marker": {
            "color": "#EF553B"
           },
           "name": "Yemen",
           "offsetgroup": "Yemen",
           "orientation": "v",
           "showlegend": true,
           "text": [
            390
           ],
           "textposition": "auto",
           "type": "bar",
           "x": [
            "Yemen"
           ],
           "xaxis": "x",
           "y": [
            390
           ],
           "yaxis": "y"
          },
          {
           "alignmentgroup": "True",
           "hovertemplate": "Countries=%{x}<br>year=2013<br>No. of Attacks=%{text}<extra></extra>",
           "ids": [
            "Egypt"
           ],
           "legendgroup": "Egypt",
           "marker": {
            "color": "#00cc96"
           },
           "name": "Egypt",
           "offsetgroup": "Egypt",
           "orientation": "v",
           "showlegend": true,
           "text": [
            313
           ],
           "textposition": "auto",
           "type": "bar",
           "x": [
            "Egypt"
           ],
           "xaxis": "x",
           "y": [
            313
           ],
           "yaxis": "y"
          },
          {
           "alignmentgroup": "True",
           "hovertemplate": "Countries=%{x}<br>year=2013<br>No. of Attacks=%{text}<extra></extra>",
           "ids": [
            "Philippines"
           ],
           "legendgroup": "Philippines",
           "marker": {
            "color": "#ab63fa"
           },
           "name": "Philippines",
           "offsetgroup": "Philippines",
           "orientation": "v",
           "showlegend": true,
           "text": [
            626
           ],
           "textposition": "auto",
           "type": "bar",
           "x": [
            "Philippines"
           ],
           "xaxis": "x",
           "y": [
            626
           ],
           "yaxis": "y"
          },
          {
           "alignmentgroup": "True",
           "hovertemplate": "Countries=%{x}<br>year=2013<br>No. of Attacks=%{text}<extra></extra>",
           "ids": [
            "Afghanistan"
           ],
           "legendgroup": "Afghanistan",
           "marker": {
            "color": "#FFA15A"
           },
           "name": "Afghanistan",
           "offsetgroup": "Afghanistan",
           "orientation": "v",
           "showlegend": true,
           "text": [
            1417
           ],
           "textposition": "auto",
           "type": "bar",
           "x": [
            "Afghanistan"
           ],
           "xaxis": "x",
           "y": [
            1417
           ],
           "yaxis": "y"
          },
          {
           "alignmentgroup": "True",
           "hovertemplate": "Countries=%{x}<br>year=2013<br>No. of Attacks=%{text}<extra></extra>",
           "ids": [
            "Nigeria"
           ],
           "legendgroup": "Nigeria",
           "marker": {
            "color": "#19d3f3"
           },
           "name": "Nigeria",
           "offsetgroup": "Nigeria",
           "orientation": "v",
           "showlegend": true,
           "text": [
            320
           ],
           "textposition": "auto",
           "type": "bar",
           "x": [
            "Nigeria"
           ],
           "xaxis": "x",
           "y": [
            320
           ],
           "yaxis": "y"
          }
         ],
         "name": "2013"
        },
        {
         "data": [
          {
           "alignmentgroup": "True",
           "hovertemplate": "Countries=%{x}<br>year=2014<br>No. of Attacks=%{text}<extra></extra>",
           "ids": [
            "Colombia"
           ],
           "legendgroup": "Colombia",
           "marker": {
            "color": "#636efa"
           },
           "name": "Colombia",
           "offsetgroup": "Colombia",
           "orientation": "v",
           "showlegend": true,
           "text": [
            228
           ],
           "textposition": "auto",
           "type": "bar",
           "x": [
            "Colombia"
           ],
           "xaxis": "x",
           "y": [
            228
           ],
           "yaxis": "y"
          },
          {
           "alignmentgroup": "True",
           "hovertemplate": "Countries=%{x}<br>year=2014<br>No. of Attacks=%{text}<extra></extra>",
           "ids": [
            "Pakistan"
           ],
           "legendgroup": "Pakistan",
           "marker": {
            "color": "#EF553B"
           },
           "name": "Pakistan",
           "offsetgroup": "Pakistan",
           "orientation": "v",
           "showlegend": true,
           "text": [
            2106
           ],
           "textposition": "auto",
           "type": "bar",
           "x": [
            "Pakistan"
           ],
           "xaxis": "x",
           "y": [
            2106
           ],
           "yaxis": "y"
          },
          {
           "alignmentgroup": "True",
           "hovertemplate": "Countries=%{x}<br>year=2014<br>No. of Attacks=%{text}<extra></extra>",
           "ids": [
            "Libya"
           ],
           "legendgroup": "Libya",
           "marker": {
            "color": "#00cc96"
           },
           "name": "Libya",
           "offsetgroup": "Libya",
           "orientation": "v",
           "showlegend": true,
           "text": [
            650
           ],
           "textposition": "auto",
           "type": "bar",
           "x": [
            "Libya"
           ],
           "xaxis": "x",
           "y": [
            650
           ],
           "yaxis": "y"
          },
          {
           "alignmentgroup": "True",
           "hovertemplate": "Countries=%{x}<br>year=2014<br>No. of Attacks=%{text}<extra></extra>",
           "ids": [
            "Turkey"
           ],
           "legendgroup": "Turkey",
           "marker": {
            "color": "#ab63fa"
           },
           "name": "Turkey",
           "offsetgroup": "Turkey",
           "orientation": "v",
           "showlegend": true,
           "text": [
            85
           ],
           "textposition": "auto",
           "type": "bar",
           "x": [
            "Turkey"
           ],
           "xaxis": "x",
           "y": [
            85
           ],
           "yaxis": "y"
          },
          {
           "alignmentgroup": "True",
           "hovertemplate": "Countries=%{x}<br>year=2014<br>No. of Attacks=%{text}<extra></extra>",
           "ids": [
            "Syria"
           ],
           "legendgroup": "Syria",
           "marker": {
            "color": "#FFA15A"
           },
           "name": "Syria",
           "offsetgroup": "Syria",
           "orientation": "v",
           "showlegend": true,
           "text": [
            286
           ],
           "textposition": "auto",
           "type": "bar",
           "x": [
            "Syria"
           ],
           "xaxis": "x",
           "y": [
            286
           ],
           "yaxis": "y"
          },
          {
           "alignmentgroup": "True",
           "hovertemplate": "Countries=%{x}<br>year=2014<br>No. of Attacks=%{text}<extra></extra>",
           "ids": [
            "Bangladesh"
           ],
           "legendgroup": "Bangladesh",
           "marker": {
            "color": "#19d3f3"
           },
           "name": "Bangladesh",
           "offsetgroup": "Bangladesh",
           "orientation": "v",
           "showlegend": true,
           "text": [
            130
           ],
           "textposition": "auto",
           "type": "bar",
           "x": [
            "Bangladesh"
           ],
           "xaxis": "x",
           "y": [
            130
           ],
           "yaxis": "y"
          },
          {
           "alignmentgroup": "True",
           "hovertemplate": "Countries=%{x}<br>year=2014<br>No. of Attacks=%{text}<extra></extra>",
           "ids": [
            "Thailand"
           ],
           "legendgroup": "Thailand",
           "marker": {
            "color": "#FF6692"
           },
           "name": "Thailand",
           "offsetgroup": "Thailand",
           "orientation": "v",
           "showlegend": true,
           "text": [
            423
           ],
           "textposition": "auto",
           "type": "bar",
           "x": [
            "Thailand"
           ],
           "xaxis": "x",
           "y": [
            423
           ],
           "yaxis": "y"
          },
          {
           "alignmentgroup": "True",
           "hovertemplate": "Countries=%{x}<br>year=2014<br>No. of Attacks=%{text}<extra></extra>",
           "ids": [
            "Iraq"
           ],
           "legendgroup": "Iraq",
           "marker": {
            "color": "#B6E880"
           },
           "name": "Iraq",
           "offsetgroup": "Iraq",
           "orientation": "v",
           "showlegend": true,
           "text": [
            3768
           ],
           "textposition": "auto",
           "type": "bar",
           "x": [
            "Iraq"
           ],
           "xaxis": "x",
           "y": [
            3768
           ],
           "yaxis": "y"
          },
          {
           "alignmentgroup": "True",
           "hovertemplate": "Countries=%{x}<br>year=2014<br>No. of Attacks=%{text}<extra></extra>",
           "ids": [
            "Ukraine"
           ],
           "legendgroup": "Ukraine",
           "marker": {
            "color": "#FF97FF"
           },
           "name": "Ukraine",
           "offsetgroup": "Ukraine",
           "orientation": "v",
           "showlegend": true,
           "text": [
            828
           ],
           "textposition": "auto",
           "type": "bar",
           "x": [
            "Ukraine"
           ],
           "xaxis": "x",
           "y": [
            828
           ],
           "yaxis": "y"
          },
          {
           "alignmentgroup": "True",
           "hovertemplate": "Countries=%{x}<br>year=2014<br>No. of Attacks=%{text}<extra></extra>",
           "ids": [
            "Somalia"
           ],
           "legendgroup": "Somalia",
           "marker": {
            "color": "#FECB52"
           },
           "name": "Somalia",
           "offsetgroup": "Somalia",
           "orientation": "v",
           "showlegend": true,
           "text": [
            606
           ],
           "textposition": "auto",
           "type": "bar",
           "x": [
            "Somalia"
           ],
           "xaxis": "x",
           "y": [
            606
           ],
           "yaxis": "y"
          },
          {
           "alignmentgroup": "True",
           "hovertemplate": "Countries=%{x}<br>year=2014<br>No. of Attacks=%{text}<extra></extra>",
           "ids": [
            "India"
           ],
           "legendgroup": "India",
           "marker": {
            "color": "#636efa"
           },
           "name": "India",
           "offsetgroup": "India",
           "orientation": "v",
           "showlegend": true,
           "text": [
            826
           ],
           "textposition": "auto",
           "type": "bar",
           "x": [
            "India"
           ],
           "xaxis": "x",
           "y": [
            826
           ],
           "yaxis": "y"
          },
          {
           "alignmentgroup": "True",
           "hovertemplate": "Countries=%{x}<br>year=2014<br>No. of Attacks=%{text}<extra></extra>",
           "ids": [
            "Yemen"
           ],
           "legendgroup": "Yemen",
           "marker": {
            "color": "#EF553B"
           },
           "name": "Yemen",
           "offsetgroup": "Yemen",
           "orientation": "v",
           "showlegend": true,
           "text": [
            715
           ],
           "textposition": "auto",
           "type": "bar",
           "x": [
            "Yemen"
           ],
           "xaxis": "x",
           "y": [
            715
           ],
           "yaxis": "y"
          },
          {
           "alignmentgroup": "True",
           "hovertemplate": "Countries=%{x}<br>year=2014<br>No. of Attacks=%{text}<extra></extra>",
           "ids": [
            "Egypt"
           ],
           "legendgroup": "Egypt",
           "marker": {
            "color": "#00cc96"
           },
           "name": "Egypt",
           "offsetgroup": "Egypt",
           "orientation": "v",
           "showlegend": true,
           "text": [
            353
           ],
           "textposition": "auto",
           "type": "bar",
           "x": [
            "Egypt"
           ],
           "xaxis": "x",
           "y": [
            353
           ],
           "yaxis": "y"
          },
          {
           "alignmentgroup": "True",
           "hovertemplate": "Countries=%{x}<br>year=2014<br>No. of Attacks=%{text}<extra></extra>",
           "ids": [
            "Philippines"
           ],
           "legendgroup": "Philippines",
           "marker": {
            "color": "#ab63fa"
           },
           "name": "Philippines",
           "offsetgroup": "Philippines",
           "orientation": "v",
           "showlegend": true,
           "text": [
            581
           ],
           "textposition": "auto",
           "type": "bar",
           "x": [
            "Philippines"
           ],
           "xaxis": "x",
           "y": [
            581
           ],
           "yaxis": "y"
          },
          {
           "alignmentgroup": "True",
           "hovertemplate": "Countries=%{x}<br>year=2014<br>No. of Attacks=%{text}<extra></extra>",
           "ids": [
            "Afghanistan"
           ],
           "legendgroup": "Afghanistan",
           "marker": {
            "color": "#FFA15A"
           },
           "name": "Afghanistan",
           "offsetgroup": "Afghanistan",
           "orientation": "v",
           "showlegend": true,
           "text": [
            1770
           ],
           "textposition": "auto",
           "type": "bar",
           "x": [
            "Afghanistan"
           ],
           "xaxis": "x",
           "y": [
            1770
           ],
           "yaxis": "y"
          },
          {
           "alignmentgroup": "True",
           "hovertemplate": "Countries=%{x}<br>year=2014<br>No. of Attacks=%{text}<extra></extra>",
           "ids": [
            "Nigeria"
           ],
           "legendgroup": "Nigeria",
           "marker": {
            "color": "#19d3f3"
           },
           "name": "Nigeria",
           "offsetgroup": "Nigeria",
           "orientation": "v",
           "showlegend": true,
           "text": [
            635
           ],
           "textposition": "auto",
           "type": "bar",
           "x": [
            "Nigeria"
           ],
           "xaxis": "x",
           "y": [
            635
           ],
           "yaxis": "y"
          }
         ],
         "name": "2014"
        },
        {
         "data": [
          {
           "alignmentgroup": "True",
           "hovertemplate": "Countries=%{x}<br>year=2015<br>No. of Attacks=%{text}<extra></extra>",
           "ids": [
            "Colombia"
           ],
           "legendgroup": "Colombia",
           "marker": {
            "color": "#636efa"
           },
           "name": "Colombia",
           "offsetgroup": "Colombia",
           "orientation": "v",
           "showlegend": true,
           "text": [
            134
           ],
           "textposition": "auto",
           "type": "bar",
           "x": [
            "Colombia"
           ],
           "xaxis": "x",
           "y": [
            134
           ],
           "yaxis": "y"
          },
          {
           "alignmentgroup": "True",
           "hovertemplate": "Countries=%{x}<br>year=2015<br>No. of Attacks=%{text}<extra></extra>",
           "ids": [
            "Pakistan"
           ],
           "legendgroup": "Pakistan",
           "marker": {
            "color": "#EF553B"
           },
           "name": "Pakistan",
           "offsetgroup": "Pakistan",
           "orientation": "v",
           "showlegend": true,
           "text": [
            1210
           ],
           "textposition": "auto",
           "type": "bar",
           "x": [
            "Pakistan"
           ],
           "xaxis": "x",
           "y": [
            1210
           ],
           "yaxis": "y"
          },
          {
           "alignmentgroup": "True",
           "hovertemplate": "Countries=%{x}<br>year=2015<br>No. of Attacks=%{text}<extra></extra>",
           "ids": [
            "Libya"
           ],
           "legendgroup": "Libya",
           "marker": {
            "color": "#00cc96"
           },
           "name": "Libya",
           "offsetgroup": "Libya",
           "orientation": "v",
           "showlegend": true,
           "text": [
            486
           ],
           "textposition": "auto",
           "type": "bar",
           "x": [
            "Libya"
           ],
           "xaxis": "x",
           "y": [
            486
           ],
           "yaxis": "y"
          },
          {
           "alignmentgroup": "True",
           "hovertemplate": "Countries=%{x}<br>year=2015<br>No. of Attacks=%{text}<extra></extra>",
           "ids": [
            "Turkey"
           ],
           "legendgroup": "Turkey",
           "marker": {
            "color": "#ab63fa"
           },
           "name": "Turkey",
           "offsetgroup": "Turkey",
           "orientation": "v",
           "showlegend": true,
           "text": [
            417
           ],
           "textposition": "auto",
           "type": "bar",
           "x": [
            "Turkey"
           ],
           "xaxis": "x",
           "y": [
            417
           ],
           "yaxis": "y"
          },
          {
           "alignmentgroup": "True",
           "hovertemplate": "Countries=%{x}<br>year=2015<br>No. of Attacks=%{text}<extra></extra>",
           "ids": [
            "Syria"
           ],
           "legendgroup": "Syria",
           "marker": {
            "color": "#FFA15A"
           },
           "name": "Syria",
           "offsetgroup": "Syria",
           "orientation": "v",
           "showlegend": true,
           "text": [
            428
           ],
           "textposition": "auto",
           "type": "bar",
           "x": [
            "Syria"
           ],
           "xaxis": "x",
           "y": [
            428
           ],
           "yaxis": "y"
          },
          {
           "alignmentgroup": "True",
           "hovertemplate": "Countries=%{x}<br>year=2015<br>No. of Attacks=%{text}<extra></extra>",
           "ids": [
            "Bangladesh"
           ],
           "legendgroup": "Bangladesh",
           "marker": {
            "color": "#19d3f3"
           },
           "name": "Bangladesh",
           "offsetgroup": "Bangladesh",
           "orientation": "v",
           "showlegend": true,
           "text": [
            467
           ],
           "textposition": "auto",
           "type": "bar",
           "x": [
            "Bangladesh"
           ],
           "xaxis": "x",
           "y": [
            467
           ],
           "yaxis": "y"
          },
          {
           "alignmentgroup": "True",
           "hovertemplate": "Countries=%{x}<br>year=2015<br>No. of Attacks=%{text}<extra></extra>",
           "ids": [
            "Thailand"
           ],
           "legendgroup": "Thailand",
           "marker": {
            "color": "#FF6692"
           },
           "name": "Thailand",
           "offsetgroup": "Thailand",
           "orientation": "v",
           "showlegend": true,
           "text": [
            278
           ],
           "textposition": "auto",
           "type": "bar",
           "x": [
            "Thailand"
           ],
           "xaxis": "x",
           "y": [
            278
           ],
           "yaxis": "y"
          },
          {
           "alignmentgroup": "True",
           "hovertemplate": "Countries=%{x}<br>year=2015<br>No. of Attacks=%{text}<extra></extra>",
           "ids": [
            "Iraq"
           ],
           "legendgroup": "Iraq",
           "marker": {
            "color": "#B6E880"
           },
           "name": "Iraq",
           "offsetgroup": "Iraq",
           "orientation": "v",
           "showlegend": true,
           "text": [
            2635
           ],
           "textposition": "auto",
           "type": "bar",
           "x": [
            "Iraq"
           ],
           "xaxis": "x",
           "y": [
            2635
           ],
           "yaxis": "y"
          },
          {
           "alignmentgroup": "True",
           "hovertemplate": "Countries=%{x}<br>year=2015<br>No. of Attacks=%{text}<extra></extra>",
           "ids": [
            "Ukraine"
           ],
           "legendgroup": "Ukraine",
           "marker": {
            "color": "#FF97FF"
           },
           "name": "Ukraine",
           "offsetgroup": "Ukraine",
           "orientation": "v",
           "showlegend": true,
           "text": [
            610
           ],
           "textposition": "auto",
           "type": "bar",
           "x": [
            "Ukraine"
           ],
           "xaxis": "x",
           "y": [
            610
           ],
           "yaxis": "y"
          },
          {
           "alignmentgroup": "True",
           "hovertemplate": "Countries=%{x}<br>year=2015<br>No. of Attacks=%{text}<extra></extra>",
           "ids": [
            "Somalia"
           ],
           "legendgroup": "Somalia",
           "marker": {
            "color": "#FECB52"
           },
           "name": "Somalia",
           "offsetgroup": "Somalia",
           "orientation": "v",
           "showlegend": true,
           "text": [
            347
           ],
           "textposition": "auto",
           "type": "bar",
           "x": [
            "Somalia"
           ],
           "xaxis": "x",
           "y": [
            347
           ],
           "yaxis": "y"
          },
          {
           "alignmentgroup": "True",
           "hovertemplate": "Countries=%{x}<br>year=2015<br>No. of Attacks=%{text}<extra></extra>",
           "ids": [
            "India"
           ],
           "legendgroup": "India",
           "marker": {
            "color": "#636efa"
           },
           "name": "India",
           "offsetgroup": "India",
           "orientation": "v",
           "showlegend": true,
           "text": [
            849
           ],
           "textposition": "auto",
           "type": "bar",
           "x": [
            "India"
           ],
           "xaxis": "x",
           "y": [
            849
           ],
           "yaxis": "y"
          },
          {
           "alignmentgroup": "True",
           "hovertemplate": "Countries=%{x}<br>year=2015<br>No. of Attacks=%{text}<extra></extra>",
           "ids": [
            "Yemen"
           ],
           "legendgroup": "Yemen",
           "marker": {
            "color": "#EF553B"
           },
           "name": "Yemen",
           "offsetgroup": "Yemen",
           "orientation": "v",
           "showlegend": true,
           "text": [
            564
           ],
           "textposition": "auto",
           "type": "bar",
           "x": [
            "Yemen"
           ],
           "xaxis": "x",
           "y": [
            564
           ],
           "yaxis": "y"
          },
          {
           "alignmentgroup": "True",
           "hovertemplate": "Countries=%{x}<br>year=2015<br>No. of Attacks=%{text}<extra></extra>",
           "ids": [
            "Egypt"
           ],
           "legendgroup": "Egypt",
           "marker": {
            "color": "#00cc96"
           },
           "name": "Egypt",
           "offsetgroup": "Egypt",
           "orientation": "v",
           "showlegend": true,
           "text": [
            641
           ],
           "textposition": "auto",
           "type": "bar",
           "x": [
            "Egypt"
           ],
           "xaxis": "x",
           "y": [
            641
           ],
           "yaxis": "y"
          },
          {
           "alignmentgroup": "True",
           "hovertemplate": "Countries=%{x}<br>year=2015<br>No. of Attacks=%{text}<extra></extra>",
           "ids": [
            "Philippines"
           ],
           "legendgroup": "Philippines",
           "marker": {
            "color": "#ab63fa"
           },
           "name": "Philippines",
           "offsetgroup": "Philippines",
           "orientation": "v",
           "showlegend": true,
           "text": [
            712
           ],
           "textposition": "auto",
           "type": "bar",
           "x": [
            "Philippines"
           ],
           "xaxis": "x",
           "y": [
            712
           ],
           "yaxis": "y"
          },
          {
           "alignmentgroup": "True",
           "hovertemplate": "Countries=%{x}<br>year=2015<br>No. of Attacks=%{text}<extra></extra>",
           "ids": [
            "Afghanistan"
           ],
           "legendgroup": "Afghanistan",
           "marker": {
            "color": "#FFA15A"
           },
           "name": "Afghanistan",
           "offsetgroup": "Afghanistan",
           "orientation": "v",
           "showlegend": true,
           "text": [
            1841
           ],
           "textposition": "auto",
           "type": "bar",
           "x": [
            "Afghanistan"
           ],
           "xaxis": "x",
           "y": [
            1841
           ],
           "yaxis": "y"
          },
          {
           "alignmentgroup": "True",
           "hovertemplate": "Countries=%{x}<br>year=2015<br>No. of Attacks=%{text}<extra></extra>",
           "ids": [
            "Nigeria"
           ],
           "legendgroup": "Nigeria",
           "marker": {
            "color": "#19d3f3"
           },
           "name": "Nigeria",
           "offsetgroup": "Nigeria",
           "orientation": "v",
           "showlegend": true,
           "text": [
            584
           ],
           "textposition": "auto",
           "type": "bar",
           "x": [
            "Nigeria"
           ],
           "xaxis": "x",
           "y": [
            584
           ],
           "yaxis": "y"
          }
         ],
         "name": "2015"
        },
        {
         "data": [
          {
           "alignmentgroup": "True",
           "hovertemplate": "Countries=%{x}<br>year=2016<br>No. of Attacks=%{text}<extra></extra>",
           "ids": [
            "Colombia"
           ],
           "legendgroup": "Colombia",
           "marker": {
            "color": "#636efa"
           },
           "name": "Colombia",
           "offsetgroup": "Colombia",
           "orientation": "v",
           "showlegend": true,
           "text": [
            109
           ],
           "textposition": "auto",
           "type": "bar",
           "x": [
            "Colombia"
           ],
           "xaxis": "x",
           "y": [
            109
           ],
           "yaxis": "y"
          },
          {
           "alignmentgroup": "True",
           "hovertemplate": "Countries=%{x}<br>year=2016<br>No. of Attacks=%{text}<extra></extra>",
           "ids": [
            "Pakistan"
           ],
           "legendgroup": "Pakistan",
           "marker": {
            "color": "#EF553B"
           },
           "name": "Pakistan",
           "offsetgroup": "Pakistan",
           "orientation": "v",
           "showlegend": true,
           "text": [
            844
           ],
           "textposition": "auto",
           "type": "bar",
           "x": [
            "Pakistan"
           ],
           "xaxis": "x",
           "y": [
            844
           ],
           "yaxis": "y"
          },
          {
           "alignmentgroup": "True",
           "hovertemplate": "Countries=%{x}<br>year=2016<br>No. of Attacks=%{text}<extra></extra>",
           "ids": [
            "Libya"
           ],
           "legendgroup": "Libya",
           "marker": {
            "color": "#00cc96"
           },
           "name": "Libya",
           "offsetgroup": "Libya",
           "orientation": "v",
           "showlegend": true,
           "text": [
            343
           ],
           "textposition": "auto",
           "type": "bar",
           "x": [
            "Libya"
           ],
           "xaxis": "x",
           "y": [
            343
           ],
           "yaxis": "y"
          },
          {
           "alignmentgroup": "True",
           "hovertemplate": "Countries=%{x}<br>year=2016<br>No. of Attacks=%{text}<extra></extra>",
           "ids": [
            "Turkey"
           ],
           "legendgroup": "Turkey",
           "marker": {
            "color": "#ab63fa"
           },
           "name": "Turkey",
           "offsetgroup": "Turkey",
           "orientation": "v",
           "showlegend": true,
           "text": [
            542
           ],
           "textposition": "auto",
           "type": "bar",
           "x": [
            "Turkey"
           ],
           "xaxis": "x",
           "y": [
            542
           ],
           "yaxis": "y"
          },
          {
           "alignmentgroup": "True",
           "hovertemplate": "Countries=%{x}<br>year=2016<br>No. of Attacks=%{text}<extra></extra>",
           "ids": [
            "Syria"
           ],
           "legendgroup": "Syria",
           "marker": {
            "color": "#FFA15A"
           },
           "name": "Syria",
           "offsetgroup": "Syria",
           "orientation": "v",
           "showlegend": true,
           "text": [
            413
           ],
           "textposition": "auto",
           "type": "bar",
           "x": [
            "Syria"
           ],
           "xaxis": "x",
           "y": [
            413
           ],
           "yaxis": "y"
          },
          {
           "alignmentgroup": "True",
           "hovertemplate": "Countries=%{x}<br>year=2016<br>No. of Attacks=%{text}<extra></extra>",
           "ids": [
            "Bangladesh"
           ],
           "legendgroup": "Bangladesh",
           "marker": {
            "color": "#19d3f3"
           },
           "name": "Bangladesh",
           "offsetgroup": "Bangladesh",
           "orientation": "v",
           "showlegend": true,
           "text": [
            86
           ],
           "textposition": "auto",
           "type": "bar",
           "x": [
            "Bangladesh"
           ],
           "xaxis": "x",
           "y": [
            86
           ],
           "yaxis": "y"
          },
          {
           "alignmentgroup": "True",
           "hovertemplate": "Countries=%{x}<br>year=2016<br>No. of Attacks=%{text}<extra></extra>",
           "ids": [
            "Thailand"
           ],
           "legendgroup": "Thailand",
           "marker": {
            "color": "#FF6692"
           },
           "name": "Thailand",
           "offsetgroup": "Thailand",
           "orientation": "v",
           "showlegend": true,
           "text": [
            329
           ],
           "textposition": "auto",
           "type": "bar",
           "x": [
            "Thailand"
           ],
           "xaxis": "x",
           "y": [
            329
           ],
           "yaxis": "y"
          },
          {
           "alignmentgroup": "True",
           "hovertemplate": "Countries=%{x}<br>year=2016<br>No. of Attacks=%{text}<extra></extra>",
           "ids": [
            "Iraq"
           ],
           "legendgroup": "Iraq",
           "marker": {
            "color": "#B6E880"
           },
           "name": "Iraq",
           "offsetgroup": "Iraq",
           "orientation": "v",
           "showlegend": true,
           "text": [
            3221
           ],
           "textposition": "auto",
           "type": "bar",
           "x": [
            "Iraq"
           ],
           "xaxis": "x",
           "y": [
            3221
           ],
           "yaxis": "y"
          },
          {
           "alignmentgroup": "True",
           "hovertemplate": "Countries=%{x}<br>year=2016<br>No. of Attacks=%{text}<extra></extra>",
           "ids": [
            "Ukraine"
           ],
           "legendgroup": "Ukraine",
           "marker": {
            "color": "#FF97FF"
           },
           "name": "Ukraine",
           "offsetgroup": "Ukraine",
           "orientation": "v",
           "showlegend": true,
           "text": [
            59
           ],
           "textposition": "auto",
           "type": "bar",
           "x": [
            "Ukraine"
           ],
           "xaxis": "x",
           "y": [
            59
           ],
           "yaxis": "y"
          },
          {
           "alignmentgroup": "True",
           "hovertemplate": "Countries=%{x}<br>year=2016<br>No. of Attacks=%{text}<extra></extra>",
           "ids": [
            "Somalia"
           ],
           "legendgroup": "Somalia",
           "marker": {
            "color": "#FECB52"
           },
           "name": "Somalia",
           "offsetgroup": "Somalia",
           "orientation": "v",
           "showlegend": true,
           "text": [
            506
           ],
           "textposition": "auto",
           "type": "bar",
           "x": [
            "Somalia"
           ],
           "xaxis": "x",
           "y": [
            506
           ],
           "yaxis": "y"
          },
          {
           "alignmentgroup": "True",
           "hovertemplate": "Countries=%{x}<br>year=2016<br>No. of Attacks=%{text}<extra></extra>",
           "ids": [
            "India"
           ],
           "legendgroup": "India",
           "marker": {
            "color": "#636efa"
           },
           "name": "India",
           "offsetgroup": "India",
           "orientation": "v",
           "showlegend": true,
           "text": [
            992
           ],
           "textposition": "auto",
           "type": "bar",
           "x": [
            "India"
           ],
           "xaxis": "x",
           "y": [
            992
           ],
           "yaxis": "y"
          },
          {
           "alignmentgroup": "True",
           "hovertemplate": "Countries=%{x}<br>year=2016<br>No. of Attacks=%{text}<extra></extra>",
           "ids": [
            "Yemen"
           ],
           "legendgroup": "Yemen",
           "marker": {
            "color": "#EF553B"
           },
           "name": "Yemen",
           "offsetgroup": "Yemen",
           "orientation": "v",
           "showlegend": true,
           "text": [
            479
           ],
           "textposition": "auto",
           "type": "bar",
           "x": [
            "Yemen"
           ],
           "xaxis": "x",
           "y": [
            479
           ],
           "yaxis": "y"
          },
          {
           "alignmentgroup": "True",
           "hovertemplate": "Countries=%{x}<br>year=2016<br>No. of Attacks=%{text}<extra></extra>",
           "ids": [
            "Egypt"
           ],
           "legendgroup": "Egypt",
           "marker": {
            "color": "#00cc96"
           },
           "name": "Egypt",
           "offsetgroup": "Egypt",
           "orientation": "v",
           "showlegend": true,
           "text": [
            367
           ],
           "textposition": "auto",
           "type": "bar",
           "x": [
            "Egypt"
           ],
           "xaxis": "x",
           "y": [
            367
           ],
           "yaxis": "y"
          },
          {
           "alignmentgroup": "True",
           "hovertemplate": "Countries=%{x}<br>year=2016<br>No. of Attacks=%{text}<extra></extra>",
           "ids": [
            "Philippines"
           ],
           "legendgroup": "Philippines",
           "marker": {
            "color": "#ab63fa"
           },
           "name": "Philippines",
           "offsetgroup": "Philippines",
           "orientation": "v",
           "showlegend": true,
           "text": [
            619
           ],
           "textposition": "auto",
           "type": "bar",
           "x": [
            "Philippines"
           ],
           "xaxis": "x",
           "y": [
            619
           ],
           "yaxis": "y"
          },
          {
           "alignmentgroup": "True",
           "hovertemplate": "Countries=%{x}<br>year=2016<br>No. of Attacks=%{text}<extra></extra>",
           "ids": [
            "Afghanistan"
           ],
           "legendgroup": "Afghanistan",
           "marker": {
            "color": "#FFA15A"
           },
           "name": "Afghanistan",
           "offsetgroup": "Afghanistan",
           "orientation": "v",
           "showlegend": true,
           "text": [
            1544
           ],
           "textposition": "auto",
           "type": "bar",
           "x": [
            "Afghanistan"
           ],
           "xaxis": "x",
           "y": [
            1544
           ],
           "yaxis": "y"
          },
          {
           "alignmentgroup": "True",
           "hovertemplate": "Countries=%{x}<br>year=2016<br>No. of Attacks=%{text}<extra></extra>",
           "ids": [
            "Nigeria"
           ],
           "legendgroup": "Nigeria",
           "marker": {
            "color": "#19d3f3"
           },
           "name": "Nigeria",
           "offsetgroup": "Nigeria",
           "orientation": "v",
           "showlegend": true,
           "text": [
            484
           ],
           "textposition": "auto",
           "type": "bar",
           "x": [
            "Nigeria"
           ],
           "xaxis": "x",
           "y": [
            484
           ],
           "yaxis": "y"
          }
         ],
         "name": "2016"
        },
        {
         "data": [
          {
           "alignmentgroup": "True",
           "hovertemplate": "Countries=%{x}<br>year=2017<br>No. of Attacks=%{text}<extra></extra>",
           "ids": [
            "Colombia"
           ],
           "legendgroup": "Colombia",
           "marker": {
            "color": "#636efa"
           },
           "name": "Colombia",
           "offsetgroup": "Colombia",
           "orientation": "v",
           "showlegend": true,
           "text": [
            118
           ],
           "textposition": "auto",
           "type": "bar",
           "x": [
            "Colombia"
           ],
           "xaxis": "x",
           "y": [
            118
           ],
           "yaxis": "y"
          },
          {
           "alignmentgroup": "True",
           "hovertemplate": "Countries=%{x}<br>year=2017<br>No. of Attacks=%{text}<extra></extra>",
           "ids": [
            "Pakistan"
           ],
           "legendgroup": "Pakistan",
           "marker": {
            "color": "#EF553B"
           },
           "name": "Pakistan",
           "offsetgroup": "Pakistan",
           "orientation": "v",
           "showlegend": true,
           "text": [
            705
           ],
           "textposition": "auto",
           "type": "bar",
           "x": [
            "Pakistan"
           ],
           "xaxis": "x",
           "y": [
            705
           ],
           "yaxis": "y"
          },
          {
           "alignmentgroup": "True",
           "hovertemplate": "Countries=%{x}<br>year=2017<br>No. of Attacks=%{text}<extra></extra>",
           "ids": [
            "Libya"
           ],
           "legendgroup": "Libya",
           "marker": {
            "color": "#00cc96"
           },
           "name": "Libya",
           "offsetgroup": "Libya",
           "orientation": "v",
           "showlegend": true,
           "text": [
            164
           ],
           "textposition": "auto",
           "type": "bar",
           "x": [
            "Libya"
           ],
           "xaxis": "x",
           "y": [
            164
           ],
           "yaxis": "y"
          },
          {
           "alignmentgroup": "True",
           "hovertemplate": "Countries=%{x}<br>year=2017<br>No. of Attacks=%{text}<extra></extra>",
           "ids": [
            "Turkey"
           ],
           "legendgroup": "Turkey",
           "marker": {
            "color": "#ab63fa"
           },
           "name": "Turkey",
           "offsetgroup": "Turkey",
           "orientation": "v",
           "showlegend": true,
           "text": [
            181
           ],
           "textposition": "auto",
           "type": "bar",
           "x": [
            "Turkey"
           ],
           "xaxis": "x",
           "y": [
            181
           ],
           "yaxis": "y"
          },
          {
           "alignmentgroup": "True",
           "hovertemplate": "Countries=%{x}<br>year=2017<br>No. of Attacks=%{text}<extra></extra>",
           "ids": [
            "Syria"
           ],
           "legendgroup": "Syria",
           "marker": {
            "color": "#FFA15A"
           },
           "name": "Syria",
           "offsetgroup": "Syria",
           "orientation": "v",
           "showlegend": true,
           "text": [
            200
           ],
           "textposition": "auto",
           "type": "bar",
           "x": [
            "Syria"
           ],
           "xaxis": "x",
           "y": [
            200
           ],
           "yaxis": "y"
          },
          {
           "alignmentgroup": "True",
           "hovertemplate": "Countries=%{x}<br>year=2017<br>No. of Attacks=%{text}<extra></extra>",
           "ids": [
            "Bangladesh"
           ],
           "legendgroup": "Bangladesh",
           "marker": {
            "color": "#19d3f3"
           },
           "name": "Bangladesh",
           "offsetgroup": "Bangladesh",
           "orientation": "v",
           "showlegend": true,
           "text": [
            40
           ],
           "textposition": "auto",
           "type": "bar",
           "x": [
            "Bangladesh"
           ],
           "xaxis": "x",
           "y": [
            40
           ],
           "yaxis": "y"
          },
          {
           "alignmentgroup": "True",
           "hovertemplate": "Countries=%{x}<br>year=2017<br>No. of Attacks=%{text}<extra></extra>",
           "ids": [
            "Thailand"
           ],
           "legendgroup": "Thailand",
           "marker": {
            "color": "#FF6692"
           },
           "name": "Thailand",
           "offsetgroup": "Thailand",
           "orientation": "v",
           "showlegend": true,
           "text": [
            178
           ],
           "textposition": "auto",
           "type": "bar",
           "x": [
            "Thailand"
           ],
           "xaxis": "x",
           "y": [
            178
           ],
           "yaxis": "y"
          },
          {
           "alignmentgroup": "True",
           "hovertemplate": "Countries=%{x}<br>year=2017<br>No. of Attacks=%{text}<extra></extra>",
           "ids": [
            "Iraq"
           ],
           "legendgroup": "Iraq",
           "marker": {
            "color": "#B6E880"
           },
           "name": "Iraq",
           "offsetgroup": "Iraq",
           "orientation": "v",
           "showlegend": true,
           "text": [
            2366
           ],
           "textposition": "auto",
           "type": "bar",
           "x": [
            "Iraq"
           ],
           "xaxis": "x",
           "y": [
            2366
           ],
           "yaxis": "y"
          },
          {
           "alignmentgroup": "True",
           "hovertemplate": "Countries=%{x}<br>year=2017<br>No. of Attacks=%{text}<extra></extra>",
           "ids": [
            "Ukraine"
           ],
           "legendgroup": "Ukraine",
           "marker": {
            "color": "#FF97FF"
           },
           "name": "Ukraine",
           "offsetgroup": "Ukraine",
           "orientation": "v",
           "showlegend": true,
           "text": [
            60
           ],
           "textposition": "auto",
           "type": "bar",
           "x": [
            "Ukraine"
           ],
           "xaxis": "x",
           "y": [
            60
           ],
           "yaxis": "y"
          },
          {
           "alignmentgroup": "True",
           "hovertemplate": "Countries=%{x}<br>year=2017<br>No. of Attacks=%{text}<extra></extra>",
           "ids": [
            "Somalia"
           ],
           "legendgroup": "Somalia",
           "marker": {
            "color": "#FECB52"
           },
           "name": "Somalia",
           "offsetgroup": "Somalia",
           "orientation": "v",
           "showlegend": true,
           "text": [
            512
           ],
           "textposition": "auto",
           "type": "bar",
           "x": [
            "Somalia"
           ],
           "xaxis": "x",
           "y": [
            512
           ],
           "yaxis": "y"
          },
          {
           "alignmentgroup": "True",
           "hovertemplate": "Countries=%{x}<br>year=2017<br>No. of Attacks=%{text}<extra></extra>",
           "ids": [
            "India"
           ],
           "legendgroup": "India",
           "marker": {
            "color": "#636efa"
           },
           "name": "India",
           "offsetgroup": "India",
           "orientation": "v",
           "showlegend": true,
           "text": [
            952
           ],
           "textposition": "auto",
           "type": "bar",
           "x": [
            "India"
           ],
           "xaxis": "x",
           "y": [
            952
           ],
           "yaxis": "y"
          },
          {
           "alignmentgroup": "True",
           "hovertemplate": "Countries=%{x}<br>year=2017<br>No. of Attacks=%{text}<extra></extra>",
           "ids": [
            "Yemen"
           ],
           "legendgroup": "Yemen",
           "marker": {
            "color": "#EF553B"
           },
           "name": "Yemen",
           "offsetgroup": "Yemen",
           "orientation": "v",
           "showlegend": true,
           "text": [
            206
           ],
           "textposition": "auto",
           "type": "bar",
           "x": [
            "Yemen"
           ],
           "xaxis": "x",
           "y": [
            206
           ],
           "yaxis": "y"
          },
          {
           "alignmentgroup": "True",
           "hovertemplate": "Countries=%{x}<br>year=2017<br>No. of Attacks=%{text}<extra></extra>",
           "ids": [
            "Egypt"
           ],
           "legendgroup": "Egypt",
           "marker": {
            "color": "#00cc96"
           },
           "name": "Egypt",
           "offsetgroup": "Egypt",
           "orientation": "v",
           "showlegend": true,
           "text": [
            218
           ],
           "textposition": "auto",
           "type": "bar",
           "x": [
            "Egypt"
           ],
           "xaxis": "x",
           "y": [
            218
           ],
           "yaxis": "y"
          },
          {
           "alignmentgroup": "True",
           "hovertemplate": "Countries=%{x}<br>year=2017<br>No. of Attacks=%{text}<extra></extra>",
           "ids": [
            "Philippines"
           ],
           "legendgroup": "Philippines",
           "marker": {
            "color": "#ab63fa"
           },
           "name": "Philippines",
           "offsetgroup": "Philippines",
           "orientation": "v",
           "showlegend": true,
           "text": [
            674
           ],
           "textposition": "auto",
           "type": "bar",
           "x": [
            "Philippines"
           ],
           "xaxis": "x",
           "y": [
            674
           ],
           "yaxis": "y"
          },
          {
           "alignmentgroup": "True",
           "hovertemplate": "Countries=%{x}<br>year=2017<br>No. of Attacks=%{text}<extra></extra>",
           "ids": [
            "Afghanistan"
           ],
           "legendgroup": "Afghanistan",
           "marker": {
            "color": "#FFA15A"
           },
           "name": "Afghanistan",
           "offsetgroup": "Afghanistan",
           "orientation": "v",
           "showlegend": true,
           "text": [
            1333
           ],
           "textposition": "auto",
           "type": "bar",
           "x": [
            "Afghanistan"
           ],
           "xaxis": "x",
           "y": [
            1333
           ],
           "yaxis": "y"
          },
          {
           "alignmentgroup": "True",
           "hovertemplate": "Countries=%{x}<br>year=2017<br>No. of Attacks=%{text}<extra></extra>",
           "ids": [
            "Nigeria"
           ],
           "legendgroup": "Nigeria",
           "marker": {
            "color": "#19d3f3"
           },
           "name": "Nigeria",
           "offsetgroup": "Nigeria",
           "orientation": "v",
           "showlegend": true,
           "text": [
            450
           ],
           "textposition": "auto",
           "type": "bar",
           "x": [
            "Nigeria"
           ],
           "xaxis": "x",
           "y": [
            450
           ],
           "yaxis": "y"
          }
         ],
         "name": "2017"
        },
        {
         "data": [
          {
           "alignmentgroup": "True",
           "hovertemplate": "Countries=%{x}<br>year=2018<br>No. of Attacks=%{text}<extra></extra>",
           "ids": [
            "Colombia"
           ],
           "legendgroup": "Colombia",
           "marker": {
            "color": "#636efa"
           },
           "name": "Colombia",
           "offsetgroup": "Colombia",
           "orientation": "v",
           "showlegend": true,
           "text": [
            198
           ],
           "textposition": "auto",
           "type": "bar",
           "x": [
            "Colombia"
           ],
           "xaxis": "x",
           "y": [
            198
           ],
           "yaxis": "y"
          },
          {
           "alignmentgroup": "True",
           "hovertemplate": "Countries=%{x}<br>year=2018<br>No. of Attacks=%{text}<extra></extra>",
           "ids": [
            "Pakistan"
           ],
           "legendgroup": "Pakistan",
           "marker": {
            "color": "#EF553B"
           },
           "name": "Pakistan",
           "offsetgroup": "Pakistan",
           "orientation": "v",
           "showlegend": true,
           "text": [
            471
           ],
           "textposition": "auto",
           "type": "bar",
           "x": [
            "Pakistan"
           ],
           "xaxis": "x",
           "y": [
            471
           ],
           "yaxis": "y"
          },
          {
           "alignmentgroup": "True",
           "hovertemplate": "Countries=%{x}<br>year=2018<br>No. of Attacks=%{text}<extra></extra>",
           "ids": [
            "Libya"
           ],
           "legendgroup": "Libya",
           "marker": {
            "color": "#00cc96"
           },
           "name": "Libya",
           "offsetgroup": "Libya",
           "orientation": "v",
           "showlegend": true,
           "text": [
            143
           ],
           "textposition": "auto",
           "type": "bar",
           "x": [
            "Libya"
           ],
           "xaxis": "x",
           "y": [
            143
           ],
           "yaxis": "y"
          },
          {
           "alignmentgroup": "True",
           "hovertemplate": "Countries=%{x}<br>year=2018<br>No. of Attacks=%{text}<extra></extra>",
           "ids": [
            "Turkey"
           ],
           "legendgroup": "Turkey",
           "marker": {
            "color": "#ab63fa"
           },
           "name": "Turkey",
           "offsetgroup": "Turkey",
           "orientation": "v",
           "showlegend": true,
           "text": [
            90
           ],
           "textposition": "auto",
           "type": "bar",
           "x": [
            "Turkey"
           ],
           "xaxis": "x",
           "y": [
            90
           ],
           "yaxis": "y"
          },
          {
           "alignmentgroup": "True",
           "hovertemplate": "Countries=%{x}<br>year=2018<br>No. of Attacks=%{text}<extra></extra>",
           "ids": [
            "Syria"
           ],
           "legendgroup": "Syria",
           "marker": {
            "color": "#FFA15A"
           },
           "name": "Syria",
           "offsetgroup": "Syria",
           "orientation": "v",
           "showlegend": true,
           "text": [
            191
           ],
           "textposition": "auto",
           "type": "bar",
           "x": [
            "Syria"
           ],
           "xaxis": "x",
           "y": [
            191
           ],
           "yaxis": "y"
          },
          {
           "alignmentgroup": "True",
           "hovertemplate": "Countries=%{x}<br>year=2018<br>No. of Attacks=%{text}<extra></extra>",
           "ids": [
            "Bangladesh"
           ],
           "legendgroup": "Bangladesh",
           "marker": {
            "color": "#19d3f3"
           },
           "name": "Bangladesh",
           "offsetgroup": "Bangladesh",
           "orientation": "v",
           "showlegend": true,
           "text": [
            30
           ],
           "textposition": "auto",
           "type": "bar",
           "x": [
            "Bangladesh"
           ],
           "xaxis": "x",
           "y": [
            30
           ],
           "yaxis": "y"
          },
          {
           "alignmentgroup": "True",
           "hovertemplate": "Countries=%{x}<br>year=2018<br>No. of Attacks=%{text}<extra></extra>",
           "ids": [
            "Thailand"
           ],
           "legendgroup": "Thailand",
           "marker": {
            "color": "#FF6692"
           },
           "name": "Thailand",
           "offsetgroup": "Thailand",
           "orientation": "v",
           "showlegend": true,
           "text": [
            182
           ],
           "textposition": "auto",
           "type": "bar",
           "x": [
            "Thailand"
           ],
           "xaxis": "x",
           "y": [
            182
           ],
           "yaxis": "y"
          },
          {
           "alignmentgroup": "True",
           "hovertemplate": "Countries=%{x}<br>year=2018<br>No. of Attacks=%{text}<extra></extra>",
           "ids": [
            "Iraq"
           ],
           "legendgroup": "Iraq",
           "marker": {
            "color": "#B6E880"
           },
           "name": "Iraq",
           "offsetgroup": "Iraq",
           "orientation": "v",
           "showlegend": true,
           "text": [
            1301
           ],
           "textposition": "auto",
           "type": "bar",
           "x": [
            "Iraq"
           ],
           "xaxis": "x",
           "y": [
            1301
           ],
           "yaxis": "y"
          },
          {
           "alignmentgroup": "True",
           "hovertemplate": "Countries=%{x}<br>year=2018<br>No. of Attacks=%{text}<extra></extra>",
           "ids": [
            "Ukraine"
           ],
           "legendgroup": "Ukraine",
           "marker": {
            "color": "#FF97FF"
           },
           "name": "Ukraine",
           "offsetgroup": "Ukraine",
           "orientation": "v",
           "showlegend": true,
           "text": [
            34
           ],
           "textposition": "auto",
           "type": "bar",
           "x": [
            "Ukraine"
           ],
           "xaxis": "x",
           "y": [
            34
           ],
           "yaxis": "y"
          },
          {
           "alignmentgroup": "True",
           "hovertemplate": "Countries=%{x}<br>year=2018<br>No. of Attacks=%{text}<extra></extra>",
           "ids": [
            "Somalia"
           ],
           "legendgroup": "Somalia",
           "marker": {
            "color": "#FECB52"
           },
           "name": "Somalia",
           "offsetgroup": "Somalia",
           "orientation": "v",
           "showlegend": true,
           "text": [
            407
           ],
           "textposition": "auto",
           "type": "bar",
           "x": [
            "Somalia"
           ],
           "xaxis": "x",
           "y": [
            407
           ],
           "yaxis": "y"
          },
          {
           "alignmentgroup": "True",
           "hovertemplate": "Countries=%{x}<br>year=2018<br>No. of Attacks=%{text}<extra></extra>",
           "ids": [
            "India"
           ],
           "legendgroup": "India",
           "marker": {
            "color": "#636efa"
           },
           "name": "India",
           "offsetgroup": "India",
           "orientation": "v",
           "showlegend": true,
           "text": [
            872
           ],
           "textposition": "auto",
           "type": "bar",
           "x": [
            "India"
           ],
           "xaxis": "x",
           "y": [
            872
           ],
           "yaxis": "y"
          },
          {
           "alignmentgroup": "True",
           "hovertemplate": "Countries=%{x}<br>year=2018<br>No. of Attacks=%{text}<extra></extra>",
           "ids": [
            "Yemen"
           ],
           "legendgroup": "Yemen",
           "marker": {
            "color": "#EF553B"
           },
           "name": "Yemen",
           "offsetgroup": "Yemen",
           "orientation": "v",
           "showlegend": true,
           "text": [
            273
           ],
           "textposition": "auto",
           "type": "bar",
           "x": [
            "Yemen"
           ],
           "xaxis": "x",
           "y": [
            273
           ],
           "yaxis": "y"
          },
          {
           "alignmentgroup": "True",
           "hovertemplate": "Countries=%{x}<br>year=2018<br>No. of Attacks=%{text}<extra></extra>",
           "ids": [
            "Egypt"
           ],
           "legendgroup": "Egypt",
           "marker": {
            "color": "#00cc96"
           },
           "name": "Egypt",
           "offsetgroup": "Egypt",
           "orientation": "v",
           "showlegend": true,
           "text": [
            52
           ],
           "textposition": "auto",
           "type": "bar",
           "x": [
            "Egypt"
           ],
           "xaxis": "x",
           "y": [
            52
           ],
           "yaxis": "y"
          },
          {
           "alignmentgroup": "True",
           "hovertemplate": "Countries=%{x}<br>year=2018<br>No. of Attacks=%{text}<extra></extra>",
           "ids": [
            "Philippines"
           ],
           "legendgroup": "Philippines",
           "marker": {
            "color": "#ab63fa"
           },
           "name": "Philippines",
           "offsetgroup": "Philippines",
           "orientation": "v",
           "showlegend": true,
           "text": [
            586
           ],
           "textposition": "auto",
           "type": "bar",
           "x": [
            "Philippines"
           ],
           "xaxis": "x",
           "y": [
            586
           ],
           "yaxis": "y"
          },
          {
           "alignmentgroup": "True",
           "hovertemplate": "Countries=%{x}<br>year=2018<br>No. of Attacks=%{text}<extra></extra>",
           "ids": [
            "Afghanistan"
           ],
           "legendgroup": "Afghanistan",
           "marker": {
            "color": "#FFA15A"
           },
           "name": "Afghanistan",
           "offsetgroup": "Afghanistan",
           "orientation": "v",
           "showlegend": true,
           "text": [
            1649
           ],
           "textposition": "auto",
           "type": "bar",
           "x": [
            "Afghanistan"
           ],
           "xaxis": "x",
           "y": [
            1649
           ],
           "yaxis": "y"
          },
          {
           "alignmentgroup": "True",
           "hovertemplate": "Countries=%{x}<br>year=2018<br>No. of Attacks=%{text}<extra></extra>",
           "ids": [
            "Nigeria"
           ],
           "legendgroup": "Nigeria",
           "marker": {
            "color": "#19d3f3"
           },
           "name": "Nigeria",
           "offsetgroup": "Nigeria",
           "orientation": "v",
           "showlegend": true,
           "text": [
            570
           ],
           "textposition": "auto",
           "type": "bar",
           "x": [
            "Nigeria"
           ],
           "xaxis": "x",
           "y": [
            570
           ],
           "yaxis": "y"
          }
         ],
         "name": "2018"
        }
       ],
       "layout": {
        "barmode": "relative",
        "legend": {
         "title": {
          "text": "Countries"
         },
         "tracegroupgap": 0
        },
        "sliders": [
         {
          "active": 0,
          "currentvalue": {
           "prefix": "year="
          },
          "len": 0.9,
          "pad": {
           "b": 10,
           "t": 60
          },
          "steps": [
           {
            "args": [
             [
              "2012"
             ],
             {
              "frame": {
               "duration": 0,
               "redraw": true
              },
              "fromcurrent": true,
              "mode": "immediate",
              "transition": {
               "duration": 0,
               "easing": "linear"
              }
             }
            ],
            "label": "2012",
            "method": "animate"
           },
           {
            "args": [
             [
              "2013"
             ],
             {
              "frame": {
               "duration": 0,
               "redraw": true
              },
              "fromcurrent": true,
              "mode": "immediate",
              "transition": {
               "duration": 0,
               "easing": "linear"
              }
             }
            ],
            "label": "2013",
            "method": "animate"
           },
           {
            "args": [
             [
              "2014"
             ],
             {
              "frame": {
               "duration": 0,
               "redraw": true
              },
              "fromcurrent": true,
              "mode": "immediate",
              "transition": {
               "duration": 0,
               "easing": "linear"
              }
             }
            ],
            "label": "2014",
            "method": "animate"
           },
           {
            "args": [
             [
              "2015"
             ],
             {
              "frame": {
               "duration": 0,
               "redraw": true
              },
              "fromcurrent": true,
              "mode": "immediate",
              "transition": {
               "duration": 0,
               "easing": "linear"
              }
             }
            ],
            "label": "2015",
            "method": "animate"
           },
           {
            "args": [
             [
              "2016"
             ],
             {
              "frame": {
               "duration": 0,
               "redraw": true
              },
              "fromcurrent": true,
              "mode": "immediate",
              "transition": {
               "duration": 0,
               "easing": "linear"
              }
             }
            ],
            "label": "2016",
            "method": "animate"
           },
           {
            "args": [
             [
              "2017"
             ],
             {
              "frame": {
               "duration": 0,
               "redraw": true
              },
              "fromcurrent": true,
              "mode": "immediate",
              "transition": {
               "duration": 0,
               "easing": "linear"
              }
             }
            ],
            "label": "2017",
            "method": "animate"
           },
           {
            "args": [
             [
              "2018"
             ],
             {
              "frame": {
               "duration": 0,
               "redraw": true
              },
              "fromcurrent": true,
              "mode": "immediate",
              "transition": {
               "duration": 0,
               "easing": "linear"
              }
             }
            ],
            "label": "2018",
            "method": "animate"
           }
          ],
          "x": 0.1,
          "xanchor": "left",
          "y": 0,
          "yanchor": "top"
         }
        ],
        "template": {
         "data": {
          "bar": [
           {
            "error_x": {
             "color": "#2a3f5f"
            },
            "error_y": {
             "color": "#2a3f5f"
            },
            "marker": {
             "line": {
              "color": "#E5ECF6",
              "width": 0.5
             }
            },
            "type": "bar"
           }
          ],
          "barpolar": [
           {
            "marker": {
             "line": {
              "color": "#E5ECF6",
              "width": 0.5
             }
            },
            "type": "barpolar"
           }
          ],
          "carpet": [
           {
            "aaxis": {
             "endlinecolor": "#2a3f5f",
             "gridcolor": "white",
             "linecolor": "white",
             "minorgridcolor": "white",
             "startlinecolor": "#2a3f5f"
            },
            "baxis": {
             "endlinecolor": "#2a3f5f",
             "gridcolor": "white",
             "linecolor": "white",
             "minorgridcolor": "white",
             "startlinecolor": "#2a3f5f"
            },
            "type": "carpet"
           }
          ],
          "choropleth": [
           {
            "colorbar": {
             "outlinewidth": 0,
             "ticks": ""
            },
            "type": "choropleth"
           }
          ],
          "contour": [
           {
            "colorbar": {
             "outlinewidth": 0,
             "ticks": ""
            },
            "colorscale": [
             [
              0,
              "#0d0887"
             ],
             [
              0.1111111111111111,
              "#46039f"
             ],
             [
              0.2222222222222222,
              "#7201a8"
             ],
             [
              0.3333333333333333,
              "#9c179e"
             ],
             [
              0.4444444444444444,
              "#bd3786"
             ],
             [
              0.5555555555555556,
              "#d8576b"
             ],
             [
              0.6666666666666666,
              "#ed7953"
             ],
             [
              0.7777777777777778,
              "#fb9f3a"
             ],
             [
              0.8888888888888888,
              "#fdca26"
             ],
             [
              1,
              "#f0f921"
             ]
            ],
            "type": "contour"
           }
          ],
          "contourcarpet": [
           {
            "colorbar": {
             "outlinewidth": 0,
             "ticks": ""
            },
            "type": "contourcarpet"
           }
          ],
          "heatmap": [
           {
            "colorbar": {
             "outlinewidth": 0,
             "ticks": ""
            },
            "colorscale": [
             [
              0,
              "#0d0887"
             ],
             [
              0.1111111111111111,
              "#46039f"
             ],
             [
              0.2222222222222222,
              "#7201a8"
             ],
             [
              0.3333333333333333,
              "#9c179e"
             ],
             [
              0.4444444444444444,
              "#bd3786"
             ],
             [
              0.5555555555555556,
              "#d8576b"
             ],
             [
              0.6666666666666666,
              "#ed7953"
             ],
             [
              0.7777777777777778,
              "#fb9f3a"
             ],
             [
              0.8888888888888888,
              "#fdca26"
             ],
             [
              1,
              "#f0f921"
             ]
            ],
            "type": "heatmap"
           }
          ],
          "heatmapgl": [
           {
            "colorbar": {
             "outlinewidth": 0,
             "ticks": ""
            },
            "colorscale": [
             [
              0,
              "#0d0887"
             ],
             [
              0.1111111111111111,
              "#46039f"
             ],
             [
              0.2222222222222222,
              "#7201a8"
             ],
             [
              0.3333333333333333,
              "#9c179e"
             ],
             [
              0.4444444444444444,
              "#bd3786"
             ],
             [
              0.5555555555555556,
              "#d8576b"
             ],
             [
              0.6666666666666666,
              "#ed7953"
             ],
             [
              0.7777777777777778,
              "#fb9f3a"
             ],
             [
              0.8888888888888888,
              "#fdca26"
             ],
             [
              1,
              "#f0f921"
             ]
            ],
            "type": "heatmapgl"
           }
          ],
          "histogram": [
           {
            "marker": {
             "colorbar": {
              "outlinewidth": 0,
              "ticks": ""
             }
            },
            "type": "histogram"
           }
          ],
          "histogram2d": [
           {
            "colorbar": {
             "outlinewidth": 0,
             "ticks": ""
            },
            "colorscale": [
             [
              0,
              "#0d0887"
             ],
             [
              0.1111111111111111,
              "#46039f"
             ],
             [
              0.2222222222222222,
              "#7201a8"
             ],
             [
              0.3333333333333333,
              "#9c179e"
             ],
             [
              0.4444444444444444,
              "#bd3786"
             ],
             [
              0.5555555555555556,
              "#d8576b"
             ],
             [
              0.6666666666666666,
              "#ed7953"
             ],
             [
              0.7777777777777778,
              "#fb9f3a"
             ],
             [
              0.8888888888888888,
              "#fdca26"
             ],
             [
              1,
              "#f0f921"
             ]
            ],
            "type": "histogram2d"
           }
          ],
          "histogram2dcontour": [
           {
            "colorbar": {
             "outlinewidth": 0,
             "ticks": ""
            },
            "colorscale": [
             [
              0,
              "#0d0887"
             ],
             [
              0.1111111111111111,
              "#46039f"
             ],
             [
              0.2222222222222222,
              "#7201a8"
             ],
             [
              0.3333333333333333,
              "#9c179e"
             ],
             [
              0.4444444444444444,
              "#bd3786"
             ],
             [
              0.5555555555555556,
              "#d8576b"
             ],
             [
              0.6666666666666666,
              "#ed7953"
             ],
             [
              0.7777777777777778,
              "#fb9f3a"
             ],
             [
              0.8888888888888888,
              "#fdca26"
             ],
             [
              1,
              "#f0f921"
             ]
            ],
            "type": "histogram2dcontour"
           }
          ],
          "mesh3d": [
           {
            "colorbar": {
             "outlinewidth": 0,
             "ticks": ""
            },
            "type": "mesh3d"
           }
          ],
          "parcoords": [
           {
            "line": {
             "colorbar": {
              "outlinewidth": 0,
              "ticks": ""
             }
            },
            "type": "parcoords"
           }
          ],
          "pie": [
           {
            "automargin": true,
            "type": "pie"
           }
          ],
          "scatter": [
           {
            "marker": {
             "colorbar": {
              "outlinewidth": 0,
              "ticks": ""
             }
            },
            "type": "scatter"
           }
          ],
          "scatter3d": [
           {
            "line": {
             "colorbar": {
              "outlinewidth": 0,
              "ticks": ""
             }
            },
            "marker": {
             "colorbar": {
              "outlinewidth": 0,
              "ticks": ""
             }
            },
            "type": "scatter3d"
           }
          ],
          "scattercarpet": [
           {
            "marker": {
             "colorbar": {
              "outlinewidth": 0,
              "ticks": ""
             }
            },
            "type": "scattercarpet"
           }
          ],
          "scattergeo": [
           {
            "marker": {
             "colorbar": {
              "outlinewidth": 0,
              "ticks": ""
             }
            },
            "type": "scattergeo"
           }
          ],
          "scattergl": [
           {
            "marker": {
             "colorbar": {
              "outlinewidth": 0,
              "ticks": ""
             }
            },
            "type": "scattergl"
           }
          ],
          "scattermapbox": [
           {
            "marker": {
             "colorbar": {
              "outlinewidth": 0,
              "ticks": ""
             }
            },
            "type": "scattermapbox"
           }
          ],
          "scatterpolar": [
           {
            "marker": {
             "colorbar": {
              "outlinewidth": 0,
              "ticks": ""
             }
            },
            "type": "scatterpolar"
           }
          ],
          "scatterpolargl": [
           {
            "marker": {
             "colorbar": {
              "outlinewidth": 0,
              "ticks": ""
             }
            },
            "type": "scatterpolargl"
           }
          ],
          "scatterternary": [
           {
            "marker": {
             "colorbar": {
              "outlinewidth": 0,
              "ticks": ""
             }
            },
            "type": "scatterternary"
           }
          ],
          "surface": [
           {
            "colorbar": {
             "outlinewidth": 0,
             "ticks": ""
            },
            "colorscale": [
             [
              0,
              "#0d0887"
             ],
             [
              0.1111111111111111,
              "#46039f"
             ],
             [
              0.2222222222222222,
              "#7201a8"
             ],
             [
              0.3333333333333333,
              "#9c179e"
             ],
             [
              0.4444444444444444,
              "#bd3786"
             ],
             [
              0.5555555555555556,
              "#d8576b"
             ],
             [
              0.6666666666666666,
              "#ed7953"
             ],
             [
              0.7777777777777778,
              "#fb9f3a"
             ],
             [
              0.8888888888888888,
              "#fdca26"
             ],
             [
              1,
              "#f0f921"
             ]
            ],
            "type": "surface"
           }
          ],
          "table": [
           {
            "cells": {
             "fill": {
              "color": "#EBF0F8"
             },
             "line": {
              "color": "white"
             }
            },
            "header": {
             "fill": {
              "color": "#C8D4E3"
             },
             "line": {
              "color": "white"
             }
            },
            "type": "table"
           }
          ]
         },
         "layout": {
          "annotationdefaults": {
           "arrowcolor": "#2a3f5f",
           "arrowhead": 0,
           "arrowwidth": 1
          },
          "coloraxis": {
           "colorbar": {
            "outlinewidth": 0,
            "ticks": ""
           }
          },
          "colorscale": {
           "diverging": [
            [
             0,
             "#8e0152"
            ],
            [
             0.1,
             "#c51b7d"
            ],
            [
             0.2,
             "#de77ae"
            ],
            [
             0.3,
             "#f1b6da"
            ],
            [
             0.4,
             "#fde0ef"
            ],
            [
             0.5,
             "#f7f7f7"
            ],
            [
             0.6,
             "#e6f5d0"
            ],
            [
             0.7,
             "#b8e186"
            ],
            [
             0.8,
             "#7fbc41"
            ],
            [
             0.9,
             "#4d9221"
            ],
            [
             1,
             "#276419"
            ]
           ],
           "sequential": [
            [
             0,
             "#0d0887"
            ],
            [
             0.1111111111111111,
             "#46039f"
            ],
            [
             0.2222222222222222,
             "#7201a8"
            ],
            [
             0.3333333333333333,
             "#9c179e"
            ],
            [
             0.4444444444444444,
             "#bd3786"
            ],
            [
             0.5555555555555556,
             "#d8576b"
            ],
            [
             0.6666666666666666,
             "#ed7953"
            ],
            [
             0.7777777777777778,
             "#fb9f3a"
            ],
            [
             0.8888888888888888,
             "#fdca26"
            ],
            [
             1,
             "#f0f921"
            ]
           ],
           "sequentialminus": [
            [
             0,
             "#0d0887"
            ],
            [
             0.1111111111111111,
             "#46039f"
            ],
            [
             0.2222222222222222,
             "#7201a8"
            ],
            [
             0.3333333333333333,
             "#9c179e"
            ],
            [
             0.4444444444444444,
             "#bd3786"
            ],
            [
             0.5555555555555556,
             "#d8576b"
            ],
            [
             0.6666666666666666,
             "#ed7953"
            ],
            [
             0.7777777777777778,
             "#fb9f3a"
            ],
            [
             0.8888888888888888,
             "#fdca26"
            ],
            [
             1,
             "#f0f921"
            ]
           ]
          },
          "colorway": [
           "#636efa",
           "#EF553B",
           "#00cc96",
           "#ab63fa",
           "#FFA15A",
           "#19d3f3",
           "#FF6692",
           "#B6E880",
           "#FF97FF",
           "#FECB52"
          ],
          "font": {
           "color": "#2a3f5f"
          },
          "geo": {
           "bgcolor": "white",
           "lakecolor": "white",
           "landcolor": "#E5ECF6",
           "showlakes": true,
           "showland": true,
           "subunitcolor": "white"
          },
          "hoverlabel": {
           "align": "left"
          },
          "hovermode": "closest",
          "mapbox": {
           "style": "light"
          },
          "paper_bgcolor": "white",
          "plot_bgcolor": "#E5ECF6",
          "polar": {
           "angularaxis": {
            "gridcolor": "white",
            "linecolor": "white",
            "ticks": ""
           },
           "bgcolor": "#E5ECF6",
           "radialaxis": {
            "gridcolor": "white",
            "linecolor": "white",
            "ticks": ""
           }
          },
          "scene": {
           "xaxis": {
            "backgroundcolor": "#E5ECF6",
            "gridcolor": "white",
            "gridwidth": 2,
            "linecolor": "white",
            "showbackground": true,
            "ticks": "",
            "zerolinecolor": "white"
           },
           "yaxis": {
            "backgroundcolor": "#E5ECF6",
            "gridcolor": "white",
            "gridwidth": 2,
            "linecolor": "white",
            "showbackground": true,
            "ticks": "",
            "zerolinecolor": "white"
           },
           "zaxis": {
            "backgroundcolor": "#E5ECF6",
            "gridcolor": "white",
            "gridwidth": 2,
            "linecolor": "white",
            "showbackground": true,
            "ticks": "",
            "zerolinecolor": "white"
           }
          },
          "shapedefaults": {
           "line": {
            "color": "#2a3f5f"
           }
          },
          "ternary": {
           "aaxis": {
            "gridcolor": "white",
            "linecolor": "white",
            "ticks": ""
           },
           "baxis": {
            "gridcolor": "white",
            "linecolor": "white",
            "ticks": ""
           },
           "bgcolor": "#E5ECF6",
           "caxis": {
            "gridcolor": "white",
            "linecolor": "white",
            "ticks": ""
           }
          },
          "title": {
           "x": 0.05
          },
          "xaxis": {
           "automargin": true,
           "gridcolor": "white",
           "linecolor": "white",
           "ticks": "",
           "title": {
            "standoff": 15
           },
           "zerolinecolor": "white",
           "zerolinewidth": 2
          },
          "yaxis": {
           "automargin": true,
           "gridcolor": "white",
           "linecolor": "white",
           "ticks": "",
           "title": {
            "standoff": 15
           },
           "zerolinecolor": "white",
           "zerolinewidth": 2
          }
         }
        },
        "title": {
         "text": "Terrorist Attacks in Top 16 Countries Since 2012"
        },
        "updatemenus": [
         {
          "buttons": [
           {
            "args": [
             null,
             {
              "frame": {
               "duration": 500,
               "redraw": true
              },
              "fromcurrent": true,
              "mode": "immediate",
              "transition": {
               "duration": 500,
               "easing": "linear"
              }
             }
            ],
            "label": "&#9654;",
            "method": "animate"
           },
           {
            "args": [
             [
              null
             ],
             {
              "frame": {
               "duration": 0,
               "redraw": true
              },
              "fromcurrent": true,
              "mode": "immediate",
              "transition": {
               "duration": 0,
               "easing": "linear"
              }
             }
            ],
            "label": "&#9724;",
            "method": "animate"
           }
          ],
          "direction": "left",
          "pad": {
           "r": 10,
           "t": 70
          },
          "showactive": false,
          "type": "buttons",
          "x": 0.1,
          "xanchor": "right",
          "y": 0,
          "yanchor": "top"
         }
        ],
        "xaxis": {
         "anchor": "y",
         "categoryarray": [
          "Colombia",
          "Pakistan",
          "Libya",
          "Turkey",
          "Syria",
          "Bangladesh",
          "Thailand",
          "Iraq",
          "Ukraine",
          "Somalia",
          "India",
          "Yemen",
          "Egypt",
          "Philippines",
          "Afghanistan",
          "Nigeria"
         ],
         "categoryorder": "array",
         "domain": [
          0,
          1
         ],
         "title": {
          "text": "Countries"
         }
        },
        "yaxis": {
         "anchor": "x",
         "domain": [
          0,
          1
         ],
         "range": [
          0,
          4000
         ],
         "title": {
          "text": "No. of Attacks"
         }
        }
       }
      },
      "text/html": [
       "<div>\n",
       "        \n",
       "        \n",
       "            <div id=\"6cf9cd3c-62ff-457b-b66a-1cc7e11a7875\" class=\"plotly-graph-div\" style=\"height:525px; width:100%;\"></div>\n",
       "            <script type=\"text/javascript\">\n",
       "                require([\"plotly\"], function(Plotly) {\n",
       "                    window.PLOTLYENV=window.PLOTLYENV || {};\n",
       "                    \n",
       "                if (document.getElementById(\"6cf9cd3c-62ff-457b-b66a-1cc7e11a7875\")) {\n",
       "                    Plotly.newPlot(\n",
       "                        '6cf9cd3c-62ff-457b-b66a-1cc7e11a7875',\n",
       "                        [{\"alignmentgroup\": \"True\", \"hovertemplate\": \"Countries=%{x}<br>year=2012<br>No. of Attacks=%{text}<extra></extra>\", \"ids\": [\"Colombia\"], \"legendgroup\": \"Colombia\", \"marker\": {\"color\": \"#636efa\"}, \"name\": \"Colombia\", \"offsetgroup\": \"Colombia\", \"orientation\": \"v\", \"showlegend\": true, \"text\": [115.0], \"textposition\": \"auto\", \"type\": \"bar\", \"x\": [\"Colombia\"], \"xaxis\": \"x\", \"y\": [115], \"yaxis\": \"y\"}, {\"alignmentgroup\": \"True\", \"hovertemplate\": \"Countries=%{x}<br>year=2012<br>No. of Attacks=%{text}<extra></extra>\", \"ids\": [\"Pakistan\"], \"legendgroup\": \"Pakistan\", \"marker\": {\"color\": \"#EF553B\"}, \"name\": \"Pakistan\", \"offsetgroup\": \"Pakistan\", \"orientation\": \"v\", \"showlegend\": true, \"text\": [1628.0], \"textposition\": \"auto\", \"type\": \"bar\", \"x\": [\"Pakistan\"], \"xaxis\": \"x\", \"y\": [1628], \"yaxis\": \"y\"}, {\"alignmentgroup\": \"True\", \"hovertemplate\": \"Countries=%{x}<br>year=2012<br>No. of Attacks=%{text}<extra></extra>\", \"ids\": [\"Libya\"], \"legendgroup\": \"Libya\", \"marker\": {\"color\": \"#00cc96\"}, \"name\": \"Libya\", \"offsetgroup\": \"Libya\", \"orientation\": \"v\", \"showlegend\": true, \"text\": [56.0], \"textposition\": \"auto\", \"type\": \"bar\", \"x\": [\"Libya\"], \"xaxis\": \"x\", \"y\": [56], \"yaxis\": \"y\"}, {\"alignmentgroup\": \"True\", \"hovertemplate\": \"Countries=%{x}<br>year=2012<br>No. of Attacks=%{text}<extra></extra>\", \"ids\": [\"Turkey\"], \"legendgroup\": \"Turkey\", \"marker\": {\"color\": \"#ab63fa\"}, \"name\": \"Turkey\", \"offsetgroup\": \"Turkey\", \"orientation\": \"v\", \"showlegend\": true, \"text\": [178.0], \"textposition\": \"auto\", \"type\": \"bar\", \"x\": [\"Turkey\"], \"xaxis\": \"x\", \"y\": [178], \"yaxis\": \"y\"}, {\"alignmentgroup\": \"True\", \"hovertemplate\": \"Countries=%{x}<br>year=2012<br>No. of Attacks=%{text}<extra></extra>\", \"ids\": [\"Syria\"], \"legendgroup\": \"Syria\", \"marker\": {\"color\": \"#FFA15A\"}, \"name\": \"Syria\", \"offsetgroup\": \"Syria\", \"orientation\": \"v\", \"showlegend\": true, \"text\": [174.0], \"textposition\": \"auto\", \"type\": \"bar\", \"x\": [\"Syria\"], \"xaxis\": \"x\", \"y\": [174], \"yaxis\": \"y\"}, {\"alignmentgroup\": \"True\", \"hovertemplate\": \"Countries=%{x}<br>year=2012<br>No. of Attacks=%{text}<extra></extra>\", \"ids\": [\"Bangladesh\"], \"legendgroup\": \"Bangladesh\", \"marker\": {\"color\": \"#19d3f3\"}, \"name\": \"Bangladesh\", \"offsetgroup\": \"Bangladesh\", \"orientation\": \"v\", \"showlegend\": true, \"text\": [18.0], \"textposition\": \"auto\", \"type\": \"bar\", \"x\": [\"Bangladesh\"], \"xaxis\": \"x\", \"y\": [18], \"yaxis\": \"y\"}, {\"alignmentgroup\": \"True\", \"hovertemplate\": \"Countries=%{x}<br>year=2012<br>No. of Attacks=%{text}<extra></extra>\", \"ids\": [\"Thailand\"], \"legendgroup\": \"Thailand\", \"marker\": {\"color\": \"#FF6692\"}, \"name\": \"Thailand\", \"offsetgroup\": \"Thailand\", \"orientation\": \"v\", \"showlegend\": true, \"text\": [280.0], \"textposition\": \"auto\", \"type\": \"bar\", \"x\": [\"Thailand\"], \"xaxis\": \"x\", \"y\": [280], \"yaxis\": \"y\"}, {\"alignmentgroup\": \"True\", \"hovertemplate\": \"Countries=%{x}<br>year=2012<br>No. of Attacks=%{text}<extra></extra>\", \"ids\": [\"Iraq\"], \"legendgroup\": \"Iraq\", \"marker\": {\"color\": \"#B6E880\"}, \"name\": \"Iraq\", \"offsetgroup\": \"Iraq\", \"orientation\": \"v\", \"showlegend\": true, \"text\": [1422.0], \"textposition\": \"auto\", \"type\": \"bar\", \"x\": [\"Iraq\"], \"xaxis\": \"x\", \"y\": [1422], \"yaxis\": \"y\"}, {\"alignmentgroup\": \"True\", \"hovertemplate\": \"Countries=%{x}<br>year=2012<br>No. of Attacks=%{text}<extra></extra>\", \"ids\": [\"Ukraine\"], \"legendgroup\": \"Ukraine\", \"marker\": {\"color\": \"#FF97FF\"}, \"name\": \"Ukraine\", \"offsetgroup\": \"Ukraine\", \"orientation\": \"v\", \"showlegend\": true, \"text\": [8.0], \"textposition\": \"auto\", \"type\": \"bar\", \"x\": [\"Ukraine\"], \"xaxis\": \"x\", \"y\": [8], \"yaxis\": \"y\"}, {\"alignmentgroup\": \"True\", \"hovertemplate\": \"Countries=%{x}<br>year=2012<br>No. of Attacks=%{text}<extra></extra>\", \"ids\": [\"Somalia\"], \"legendgroup\": \"Somalia\", \"marker\": {\"color\": \"#FECB52\"}, \"name\": \"Somalia\", \"offsetgroup\": \"Somalia\", \"orientation\": \"v\", \"showlegend\": true, \"text\": [271.0], \"textposition\": \"auto\", \"type\": \"bar\", \"x\": [\"Somalia\"], \"xaxis\": \"x\", \"y\": [271], \"yaxis\": \"y\"}, {\"alignmentgroup\": \"True\", \"hovertemplate\": \"Countries=%{x}<br>year=2012<br>No. of Attacks=%{text}<extra></extra>\", \"ids\": [\"India\"], \"legendgroup\": \"India\", \"marker\": {\"color\": \"#636efa\"}, \"name\": \"India\", \"offsetgroup\": \"India\", \"orientation\": \"v\", \"showlegend\": true, \"text\": [593.0], \"textposition\": \"auto\", \"type\": \"bar\", \"x\": [\"India\"], \"xaxis\": \"x\", \"y\": [593], \"yaxis\": \"y\"}, {\"alignmentgroup\": \"True\", \"hovertemplate\": \"Countries=%{x}<br>year=2012<br>No. of Attacks=%{text}<extra></extra>\", \"ids\": [\"Yemen\"], \"legendgroup\": \"Yemen\", \"marker\": {\"color\": \"#EF553B\"}, \"name\": \"Yemen\", \"offsetgroup\": \"Yemen\", \"orientation\": \"v\", \"showlegend\": true, \"text\": [306.0], \"textposition\": \"auto\", \"type\": \"bar\", \"x\": [\"Yemen\"], \"xaxis\": \"x\", \"y\": [306], \"yaxis\": \"y\"}, {\"alignmentgroup\": \"True\", \"hovertemplate\": \"Countries=%{x}<br>year=2012<br>No. of Attacks=%{text}<extra></extra>\", \"ids\": [\"Egypt\"], \"legendgroup\": \"Egypt\", \"marker\": {\"color\": \"#00cc96\"}, \"name\": \"Egypt\", \"offsetgroup\": \"Egypt\", \"orientation\": \"v\", \"showlegend\": true, \"text\": [48.0], \"textposition\": \"auto\", \"type\": \"bar\", \"x\": [\"Egypt\"], \"xaxis\": \"x\", \"y\": [48], \"yaxis\": \"y\"}, {\"alignmentgroup\": \"True\", \"hovertemplate\": \"Countries=%{x}<br>year=2012<br>No. of Attacks=%{text}<extra></extra>\", \"ids\": [\"Philippines\"], \"legendgroup\": \"Philippines\", \"marker\": {\"color\": \"#ab63fa\"}, \"name\": \"Philippines\", \"offsetgroup\": \"Philippines\", \"orientation\": \"v\", \"showlegend\": true, \"text\": [245.0], \"textposition\": \"auto\", \"type\": \"bar\", \"x\": [\"Philippines\"], \"xaxis\": \"x\", \"y\": [245], \"yaxis\": \"y\"}, {\"alignmentgroup\": \"True\", \"hovertemplate\": \"Countries=%{x}<br>year=2012<br>No. of Attacks=%{text}<extra></extra>\", \"ids\": [\"Afghanistan\"], \"legendgroup\": \"Afghanistan\", \"marker\": {\"color\": \"#FFA15A\"}, \"name\": \"Afghanistan\", \"offsetgroup\": \"Afghanistan\", \"orientation\": \"v\", \"showlegend\": true, \"text\": [1447.0], \"textposition\": \"auto\", \"type\": \"bar\", \"x\": [\"Afghanistan\"], \"xaxis\": \"x\", \"y\": [1447], \"yaxis\": \"y\"}, {\"alignmentgroup\": \"True\", \"hovertemplate\": \"Countries=%{x}<br>year=2012<br>No. of Attacks=%{text}<extra></extra>\", \"ids\": [\"Nigeria\"], \"legendgroup\": \"Nigeria\", \"marker\": {\"color\": \"#19d3f3\"}, \"name\": \"Nigeria\", \"offsetgroup\": \"Nigeria\", \"orientation\": \"v\", \"showlegend\": true, \"text\": [591.0], \"textposition\": \"auto\", \"type\": \"bar\", \"x\": [\"Nigeria\"], \"xaxis\": \"x\", \"y\": [591], \"yaxis\": \"y\"}],\n",
       "                        {\"barmode\": \"relative\", \"legend\": {\"title\": {\"text\": \"Countries\"}, \"tracegroupgap\": 0}, \"sliders\": [{\"active\": 0, \"currentvalue\": {\"prefix\": \"year=\"}, \"len\": 0.9, \"pad\": {\"b\": 10, \"t\": 60}, \"steps\": [{\"args\": [[\"2012\"], {\"frame\": {\"duration\": 0, \"redraw\": true}, \"fromcurrent\": true, \"mode\": \"immediate\", \"transition\": {\"duration\": 0, \"easing\": \"linear\"}}], \"label\": \"2012\", \"method\": \"animate\"}, {\"args\": [[\"2013\"], {\"frame\": {\"duration\": 0, \"redraw\": true}, \"fromcurrent\": true, \"mode\": \"immediate\", \"transition\": {\"duration\": 0, \"easing\": \"linear\"}}], \"label\": \"2013\", \"method\": \"animate\"}, {\"args\": [[\"2014\"], {\"frame\": {\"duration\": 0, \"redraw\": true}, \"fromcurrent\": true, \"mode\": \"immediate\", \"transition\": {\"duration\": 0, \"easing\": \"linear\"}}], \"label\": \"2014\", \"method\": \"animate\"}, {\"args\": [[\"2015\"], {\"frame\": {\"duration\": 0, \"redraw\": true}, \"fromcurrent\": true, \"mode\": \"immediate\", \"transition\": {\"duration\": 0, \"easing\": \"linear\"}}], \"label\": \"2015\", \"method\": \"animate\"}, {\"args\": [[\"2016\"], {\"frame\": {\"duration\": 0, \"redraw\": true}, \"fromcurrent\": true, \"mode\": \"immediate\", \"transition\": {\"duration\": 0, \"easing\": \"linear\"}}], \"label\": \"2016\", \"method\": \"animate\"}, {\"args\": [[\"2017\"], {\"frame\": {\"duration\": 0, \"redraw\": true}, \"fromcurrent\": true, \"mode\": \"immediate\", \"transition\": {\"duration\": 0, \"easing\": \"linear\"}}], \"label\": \"2017\", \"method\": \"animate\"}, {\"args\": [[\"2018\"], {\"frame\": {\"duration\": 0, \"redraw\": true}, \"fromcurrent\": true, \"mode\": \"immediate\", \"transition\": {\"duration\": 0, \"easing\": \"linear\"}}], \"label\": \"2018\", \"method\": \"animate\"}], \"x\": 0.1, \"xanchor\": \"left\", \"y\": 0, \"yanchor\": \"top\"}], \"template\": {\"data\": {\"bar\": [{\"error_x\": {\"color\": \"#2a3f5f\"}, \"error_y\": {\"color\": \"#2a3f5f\"}, \"marker\": {\"line\": {\"color\": \"#E5ECF6\", \"width\": 0.5}}, \"type\": \"bar\"}], \"barpolar\": [{\"marker\": {\"line\": {\"color\": \"#E5ECF6\", \"width\": 0.5}}, \"type\": \"barpolar\"}], \"carpet\": [{\"aaxis\": {\"endlinecolor\": \"#2a3f5f\", \"gridcolor\": \"white\", \"linecolor\": \"white\", \"minorgridcolor\": \"white\", \"startlinecolor\": \"#2a3f5f\"}, \"baxis\": {\"endlinecolor\": \"#2a3f5f\", \"gridcolor\": \"white\", \"linecolor\": \"white\", \"minorgridcolor\": \"white\", \"startlinecolor\": \"#2a3f5f\"}, \"type\": \"carpet\"}], \"choropleth\": [{\"colorbar\": {\"outlinewidth\": 0, \"ticks\": \"\"}, \"type\": \"choropleth\"}], \"contour\": [{\"colorbar\": {\"outlinewidth\": 0, \"ticks\": \"\"}, \"colorscale\": [[0.0, \"#0d0887\"], [0.1111111111111111, \"#46039f\"], [0.2222222222222222, \"#7201a8\"], [0.3333333333333333, \"#9c179e\"], [0.4444444444444444, \"#bd3786\"], [0.5555555555555556, \"#d8576b\"], [0.6666666666666666, \"#ed7953\"], [0.7777777777777778, \"#fb9f3a\"], [0.8888888888888888, \"#fdca26\"], [1.0, \"#f0f921\"]], \"type\": \"contour\"}], \"contourcarpet\": [{\"colorbar\": {\"outlinewidth\": 0, \"ticks\": \"\"}, \"type\": \"contourcarpet\"}], \"heatmap\": [{\"colorbar\": {\"outlinewidth\": 0, \"ticks\": \"\"}, \"colorscale\": [[0.0, \"#0d0887\"], [0.1111111111111111, \"#46039f\"], [0.2222222222222222, \"#7201a8\"], [0.3333333333333333, \"#9c179e\"], [0.4444444444444444, \"#bd3786\"], [0.5555555555555556, \"#d8576b\"], [0.6666666666666666, \"#ed7953\"], [0.7777777777777778, \"#fb9f3a\"], [0.8888888888888888, \"#fdca26\"], [1.0, \"#f0f921\"]], \"type\": \"heatmap\"}], \"heatmapgl\": [{\"colorbar\": {\"outlinewidth\": 0, \"ticks\": \"\"}, \"colorscale\": [[0.0, \"#0d0887\"], [0.1111111111111111, \"#46039f\"], [0.2222222222222222, \"#7201a8\"], [0.3333333333333333, \"#9c179e\"], [0.4444444444444444, \"#bd3786\"], [0.5555555555555556, \"#d8576b\"], [0.6666666666666666, \"#ed7953\"], [0.7777777777777778, \"#fb9f3a\"], [0.8888888888888888, \"#fdca26\"], [1.0, \"#f0f921\"]], \"type\": \"heatmapgl\"}], \"histogram\": [{\"marker\": {\"colorbar\": {\"outlinewidth\": 0, \"ticks\": \"\"}}, \"type\": \"histogram\"}], \"histogram2d\": [{\"colorbar\": {\"outlinewidth\": 0, \"ticks\": \"\"}, \"colorscale\": [[0.0, \"#0d0887\"], [0.1111111111111111, \"#46039f\"], [0.2222222222222222, \"#7201a8\"], [0.3333333333333333, \"#9c179e\"], [0.4444444444444444, \"#bd3786\"], [0.5555555555555556, \"#d8576b\"], [0.6666666666666666, \"#ed7953\"], [0.7777777777777778, \"#fb9f3a\"], [0.8888888888888888, \"#fdca26\"], [1.0, \"#f0f921\"]], \"type\": \"histogram2d\"}], \"histogram2dcontour\": [{\"colorbar\": {\"outlinewidth\": 0, \"ticks\": \"\"}, \"colorscale\": [[0.0, \"#0d0887\"], [0.1111111111111111, \"#46039f\"], [0.2222222222222222, \"#7201a8\"], [0.3333333333333333, \"#9c179e\"], [0.4444444444444444, \"#bd3786\"], [0.5555555555555556, \"#d8576b\"], [0.6666666666666666, \"#ed7953\"], [0.7777777777777778, \"#fb9f3a\"], [0.8888888888888888, \"#fdca26\"], [1.0, \"#f0f921\"]], \"type\": \"histogram2dcontour\"}], \"mesh3d\": [{\"colorbar\": {\"outlinewidth\": 0, \"ticks\": \"\"}, \"type\": \"mesh3d\"}], \"parcoords\": [{\"line\": {\"colorbar\": {\"outlinewidth\": 0, \"ticks\": \"\"}}, \"type\": \"parcoords\"}], \"pie\": [{\"automargin\": true, \"type\": \"pie\"}], \"scatter\": [{\"marker\": {\"colorbar\": {\"outlinewidth\": 0, \"ticks\": \"\"}}, \"type\": \"scatter\"}], \"scatter3d\": [{\"line\": {\"colorbar\": {\"outlinewidth\": 0, \"ticks\": \"\"}}, \"marker\": {\"colorbar\": {\"outlinewidth\": 0, \"ticks\": \"\"}}, \"type\": \"scatter3d\"}], \"scattercarpet\": [{\"marker\": {\"colorbar\": {\"outlinewidth\": 0, \"ticks\": \"\"}}, \"type\": \"scattercarpet\"}], \"scattergeo\": [{\"marker\": {\"colorbar\": {\"outlinewidth\": 0, \"ticks\": \"\"}}, \"type\": \"scattergeo\"}], \"scattergl\": [{\"marker\": {\"colorbar\": {\"outlinewidth\": 0, \"ticks\": \"\"}}, \"type\": \"scattergl\"}], \"scattermapbox\": [{\"marker\": {\"colorbar\": {\"outlinewidth\": 0, \"ticks\": \"\"}}, \"type\": \"scattermapbox\"}], \"scatterpolar\": [{\"marker\": {\"colorbar\": {\"outlinewidth\": 0, \"ticks\": \"\"}}, \"type\": \"scatterpolar\"}], \"scatterpolargl\": [{\"marker\": {\"colorbar\": {\"outlinewidth\": 0, \"ticks\": \"\"}}, \"type\": \"scatterpolargl\"}], \"scatterternary\": [{\"marker\": {\"colorbar\": {\"outlinewidth\": 0, \"ticks\": \"\"}}, \"type\": \"scatterternary\"}], \"surface\": [{\"colorbar\": {\"outlinewidth\": 0, \"ticks\": \"\"}, \"colorscale\": [[0.0, \"#0d0887\"], [0.1111111111111111, \"#46039f\"], [0.2222222222222222, \"#7201a8\"], [0.3333333333333333, \"#9c179e\"], [0.4444444444444444, \"#bd3786\"], [0.5555555555555556, \"#d8576b\"], [0.6666666666666666, \"#ed7953\"], [0.7777777777777778, \"#fb9f3a\"], [0.8888888888888888, \"#fdca26\"], [1.0, \"#f0f921\"]], \"type\": \"surface\"}], \"table\": [{\"cells\": {\"fill\": {\"color\": \"#EBF0F8\"}, \"line\": {\"color\": \"white\"}}, \"header\": {\"fill\": {\"color\": \"#C8D4E3\"}, \"line\": {\"color\": \"white\"}}, \"type\": \"table\"}]}, \"layout\": {\"annotationdefaults\": {\"arrowcolor\": \"#2a3f5f\", \"arrowhead\": 0, \"arrowwidth\": 1}, \"coloraxis\": {\"colorbar\": {\"outlinewidth\": 0, \"ticks\": \"\"}}, \"colorscale\": {\"diverging\": [[0, \"#8e0152\"], [0.1, \"#c51b7d\"], [0.2, \"#de77ae\"], [0.3, \"#f1b6da\"], [0.4, \"#fde0ef\"], [0.5, \"#f7f7f7\"], [0.6, \"#e6f5d0\"], [0.7, \"#b8e186\"], [0.8, \"#7fbc41\"], [0.9, \"#4d9221\"], [1, \"#276419\"]], \"sequential\": [[0.0, \"#0d0887\"], [0.1111111111111111, \"#46039f\"], [0.2222222222222222, \"#7201a8\"], [0.3333333333333333, \"#9c179e\"], [0.4444444444444444, \"#bd3786\"], [0.5555555555555556, \"#d8576b\"], [0.6666666666666666, \"#ed7953\"], [0.7777777777777778, \"#fb9f3a\"], [0.8888888888888888, \"#fdca26\"], [1.0, \"#f0f921\"]], \"sequentialminus\": [[0.0, \"#0d0887\"], [0.1111111111111111, \"#46039f\"], [0.2222222222222222, \"#7201a8\"], [0.3333333333333333, \"#9c179e\"], [0.4444444444444444, \"#bd3786\"], [0.5555555555555556, \"#d8576b\"], [0.6666666666666666, \"#ed7953\"], [0.7777777777777778, \"#fb9f3a\"], [0.8888888888888888, \"#fdca26\"], [1.0, \"#f0f921\"]]}, \"colorway\": [\"#636efa\", \"#EF553B\", \"#00cc96\", \"#ab63fa\", \"#FFA15A\", \"#19d3f3\", \"#FF6692\", \"#B6E880\", \"#FF97FF\", \"#FECB52\"], \"font\": {\"color\": \"#2a3f5f\"}, \"geo\": {\"bgcolor\": \"white\", \"lakecolor\": \"white\", \"landcolor\": \"#E5ECF6\", \"showlakes\": true, \"showland\": true, \"subunitcolor\": \"white\"}, \"hoverlabel\": {\"align\": \"left\"}, \"hovermode\": \"closest\", \"mapbox\": {\"style\": \"light\"}, \"paper_bgcolor\": \"white\", \"plot_bgcolor\": \"#E5ECF6\", \"polar\": {\"angularaxis\": {\"gridcolor\": \"white\", \"linecolor\": \"white\", \"ticks\": \"\"}, \"bgcolor\": \"#E5ECF6\", \"radialaxis\": {\"gridcolor\": \"white\", \"linecolor\": \"white\", \"ticks\": \"\"}}, \"scene\": {\"xaxis\": {\"backgroundcolor\": \"#E5ECF6\", \"gridcolor\": \"white\", \"gridwidth\": 2, \"linecolor\": \"white\", \"showbackground\": true, \"ticks\": \"\", \"zerolinecolor\": \"white\"}, \"yaxis\": {\"backgroundcolor\": \"#E5ECF6\", \"gridcolor\": \"white\", \"gridwidth\": 2, \"linecolor\": \"white\", \"showbackground\": true, \"ticks\": \"\", \"zerolinecolor\": \"white\"}, \"zaxis\": {\"backgroundcolor\": \"#E5ECF6\", \"gridcolor\": \"white\", \"gridwidth\": 2, \"linecolor\": \"white\", \"showbackground\": true, \"ticks\": \"\", \"zerolinecolor\": \"white\"}}, \"shapedefaults\": {\"line\": {\"color\": \"#2a3f5f\"}}, \"ternary\": {\"aaxis\": {\"gridcolor\": \"white\", \"linecolor\": \"white\", \"ticks\": \"\"}, \"baxis\": {\"gridcolor\": \"white\", \"linecolor\": \"white\", \"ticks\": \"\"}, \"bgcolor\": \"#E5ECF6\", \"caxis\": {\"gridcolor\": \"white\", \"linecolor\": \"white\", \"ticks\": \"\"}}, \"title\": {\"x\": 0.05}, \"xaxis\": {\"automargin\": true, \"gridcolor\": \"white\", \"linecolor\": \"white\", \"ticks\": \"\", \"title\": {\"standoff\": 15}, \"zerolinecolor\": \"white\", \"zerolinewidth\": 2}, \"yaxis\": {\"automargin\": true, \"gridcolor\": \"white\", \"linecolor\": \"white\", \"ticks\": \"\", \"title\": {\"standoff\": 15}, \"zerolinecolor\": \"white\", \"zerolinewidth\": 2}}}, \"title\": {\"text\": \"Terrorist Attacks in Top 16 Countries Since 2012\"}, \"updatemenus\": [{\"buttons\": [{\"args\": [null, {\"frame\": {\"duration\": 500, \"redraw\": true}, \"fromcurrent\": true, \"mode\": \"immediate\", \"transition\": {\"duration\": 500, \"easing\": \"linear\"}}], \"label\": \"&#9654;\", \"method\": \"animate\"}, {\"args\": [[null], {\"frame\": {\"duration\": 0, \"redraw\": true}, \"fromcurrent\": true, \"mode\": \"immediate\", \"transition\": {\"duration\": 0, \"easing\": \"linear\"}}], \"label\": \"&#9724;\", \"method\": \"animate\"}], \"direction\": \"left\", \"pad\": {\"r\": 10, \"t\": 70}, \"showactive\": false, \"type\": \"buttons\", \"x\": 0.1, \"xanchor\": \"right\", \"y\": 0, \"yanchor\": \"top\"}], \"xaxis\": {\"anchor\": \"y\", \"categoryarray\": [\"Colombia\", \"Pakistan\", \"Libya\", \"Turkey\", \"Syria\", \"Bangladesh\", \"Thailand\", \"Iraq\", \"Ukraine\", \"Somalia\", \"India\", \"Yemen\", \"Egypt\", \"Philippines\", \"Afghanistan\", \"Nigeria\"], \"categoryorder\": \"array\", \"domain\": [0.0, 1.0], \"title\": {\"text\": \"Countries\"}}, \"yaxis\": {\"anchor\": \"x\", \"domain\": [0.0, 1.0], \"range\": [0, 4000], \"title\": {\"text\": \"No. of Attacks\"}}},\n",
       "                        {\"responsive\": true}\n",
       "                    ).then(function(){\n",
       "                            Plotly.addFrames('6cf9cd3c-62ff-457b-b66a-1cc7e11a7875', [{\"data\": [{\"alignmentgroup\": \"True\", \"hovertemplate\": \"Countries=%{x}<br>year=2012<br>No. of Attacks=%{text}<extra></extra>\", \"ids\": [\"Colombia\"], \"legendgroup\": \"Colombia\", \"marker\": {\"color\": \"#636efa\"}, \"name\": \"Colombia\", \"offsetgroup\": \"Colombia\", \"orientation\": \"v\", \"showlegend\": true, \"text\": [115.0], \"textposition\": \"auto\", \"x\": [\"Colombia\"], \"xaxis\": \"x\", \"y\": [115], \"yaxis\": \"y\", \"type\": \"bar\"}, {\"alignmentgroup\": \"True\", \"hovertemplate\": \"Countries=%{x}<br>year=2012<br>No. of Attacks=%{text}<extra></extra>\", \"ids\": [\"Pakistan\"], \"legendgroup\": \"Pakistan\", \"marker\": {\"color\": \"#EF553B\"}, \"name\": \"Pakistan\", \"offsetgroup\": \"Pakistan\", \"orientation\": \"v\", \"showlegend\": true, \"text\": [1628.0], \"textposition\": \"auto\", \"x\": [\"Pakistan\"], \"xaxis\": \"x\", \"y\": [1628], \"yaxis\": \"y\", \"type\": \"bar\"}, {\"alignmentgroup\": \"True\", \"hovertemplate\": \"Countries=%{x}<br>year=2012<br>No. of Attacks=%{text}<extra></extra>\", \"ids\": [\"Libya\"], \"legendgroup\": \"Libya\", \"marker\": {\"color\": \"#00cc96\"}, \"name\": \"Libya\", \"offsetgroup\": \"Libya\", \"orientation\": \"v\", \"showlegend\": true, \"text\": [56.0], \"textposition\": \"auto\", \"x\": [\"Libya\"], \"xaxis\": \"x\", \"y\": [56], \"yaxis\": \"y\", \"type\": \"bar\"}, {\"alignmentgroup\": \"True\", \"hovertemplate\": \"Countries=%{x}<br>year=2012<br>No. of Attacks=%{text}<extra></extra>\", \"ids\": [\"Turkey\"], \"legendgroup\": \"Turkey\", \"marker\": {\"color\": \"#ab63fa\"}, \"name\": \"Turkey\", \"offsetgroup\": \"Turkey\", \"orientation\": \"v\", \"showlegend\": true, \"text\": [178.0], \"textposition\": \"auto\", \"x\": [\"Turkey\"], \"xaxis\": \"x\", \"y\": [178], \"yaxis\": \"y\", \"type\": \"bar\"}, {\"alignmentgroup\": \"True\", \"hovertemplate\": \"Countries=%{x}<br>year=2012<br>No. of Attacks=%{text}<extra></extra>\", \"ids\": [\"Syria\"], \"legendgroup\": \"Syria\", \"marker\": {\"color\": \"#FFA15A\"}, \"name\": \"Syria\", \"offsetgroup\": \"Syria\", \"orientation\": \"v\", \"showlegend\": true, \"text\": [174.0], \"textposition\": \"auto\", \"x\": [\"Syria\"], \"xaxis\": \"x\", \"y\": [174], \"yaxis\": \"y\", \"type\": \"bar\"}, {\"alignmentgroup\": \"True\", \"hovertemplate\": \"Countries=%{x}<br>year=2012<br>No. of Attacks=%{text}<extra></extra>\", \"ids\": [\"Bangladesh\"], \"legendgroup\": \"Bangladesh\", \"marker\": {\"color\": \"#19d3f3\"}, \"name\": \"Bangladesh\", \"offsetgroup\": \"Bangladesh\", \"orientation\": \"v\", \"showlegend\": true, \"text\": [18.0], \"textposition\": \"auto\", \"x\": [\"Bangladesh\"], \"xaxis\": \"x\", \"y\": [18], \"yaxis\": \"y\", \"type\": \"bar\"}, {\"alignmentgroup\": \"True\", \"hovertemplate\": \"Countries=%{x}<br>year=2012<br>No. of Attacks=%{text}<extra></extra>\", \"ids\": [\"Thailand\"], \"legendgroup\": \"Thailand\", \"marker\": {\"color\": \"#FF6692\"}, \"name\": \"Thailand\", \"offsetgroup\": \"Thailand\", \"orientation\": \"v\", \"showlegend\": true, \"text\": [280.0], \"textposition\": \"auto\", \"x\": [\"Thailand\"], \"xaxis\": \"x\", \"y\": [280], \"yaxis\": \"y\", \"type\": \"bar\"}, {\"alignmentgroup\": \"True\", \"hovertemplate\": \"Countries=%{x}<br>year=2012<br>No. of Attacks=%{text}<extra></extra>\", \"ids\": [\"Iraq\"], \"legendgroup\": \"Iraq\", \"marker\": {\"color\": \"#B6E880\"}, \"name\": \"Iraq\", \"offsetgroup\": \"Iraq\", \"orientation\": \"v\", \"showlegend\": true, \"text\": [1422.0], \"textposition\": \"auto\", \"x\": [\"Iraq\"], \"xaxis\": \"x\", \"y\": [1422], \"yaxis\": \"y\", \"type\": \"bar\"}, {\"alignmentgroup\": \"True\", \"hovertemplate\": \"Countries=%{x}<br>year=2012<br>No. of Attacks=%{text}<extra></extra>\", \"ids\": [\"Ukraine\"], \"legendgroup\": \"Ukraine\", \"marker\": {\"color\": \"#FF97FF\"}, \"name\": \"Ukraine\", \"offsetgroup\": \"Ukraine\", \"orientation\": \"v\", \"showlegend\": true, \"text\": [8.0], \"textposition\": \"auto\", \"x\": [\"Ukraine\"], \"xaxis\": \"x\", \"y\": [8], \"yaxis\": \"y\", \"type\": \"bar\"}, {\"alignmentgroup\": \"True\", \"hovertemplate\": \"Countries=%{x}<br>year=2012<br>No. of Attacks=%{text}<extra></extra>\", \"ids\": [\"Somalia\"], \"legendgroup\": \"Somalia\", \"marker\": {\"color\": \"#FECB52\"}, \"name\": \"Somalia\", \"offsetgroup\": \"Somalia\", \"orientation\": \"v\", \"showlegend\": true, \"text\": [271.0], \"textposition\": \"auto\", \"x\": [\"Somalia\"], \"xaxis\": \"x\", \"y\": [271], \"yaxis\": \"y\", \"type\": \"bar\"}, {\"alignmentgroup\": \"True\", \"hovertemplate\": \"Countries=%{x}<br>year=2012<br>No. of Attacks=%{text}<extra></extra>\", \"ids\": [\"India\"], \"legendgroup\": \"India\", \"marker\": {\"color\": \"#636efa\"}, \"name\": \"India\", \"offsetgroup\": \"India\", \"orientation\": \"v\", \"showlegend\": true, \"text\": [593.0], \"textposition\": \"auto\", \"x\": [\"India\"], \"xaxis\": \"x\", \"y\": [593], \"yaxis\": \"y\", \"type\": \"bar\"}, {\"alignmentgroup\": \"True\", \"hovertemplate\": \"Countries=%{x}<br>year=2012<br>No. of Attacks=%{text}<extra></extra>\", \"ids\": [\"Yemen\"], \"legendgroup\": \"Yemen\", \"marker\": {\"color\": \"#EF553B\"}, \"name\": \"Yemen\", \"offsetgroup\": \"Yemen\", \"orientation\": \"v\", \"showlegend\": true, \"text\": [306.0], \"textposition\": \"auto\", \"x\": [\"Yemen\"], \"xaxis\": \"x\", \"y\": [306], \"yaxis\": \"y\", \"type\": \"bar\"}, {\"alignmentgroup\": \"True\", \"hovertemplate\": \"Countries=%{x}<br>year=2012<br>No. of Attacks=%{text}<extra></extra>\", \"ids\": [\"Egypt\"], \"legendgroup\": \"Egypt\", \"marker\": {\"color\": \"#00cc96\"}, \"name\": \"Egypt\", \"offsetgroup\": \"Egypt\", \"orientation\": \"v\", \"showlegend\": true, \"text\": [48.0], \"textposition\": \"auto\", \"x\": [\"Egypt\"], \"xaxis\": \"x\", \"y\": [48], \"yaxis\": \"y\", \"type\": \"bar\"}, {\"alignmentgroup\": \"True\", \"hovertemplate\": \"Countries=%{x}<br>year=2012<br>No. of Attacks=%{text}<extra></extra>\", \"ids\": [\"Philippines\"], \"legendgroup\": \"Philippines\", \"marker\": {\"color\": \"#ab63fa\"}, \"name\": \"Philippines\", \"offsetgroup\": \"Philippines\", \"orientation\": \"v\", \"showlegend\": true, \"text\": [245.0], \"textposition\": \"auto\", \"x\": [\"Philippines\"], \"xaxis\": \"x\", \"y\": [245], \"yaxis\": \"y\", \"type\": \"bar\"}, {\"alignmentgroup\": \"True\", \"hovertemplate\": \"Countries=%{x}<br>year=2012<br>No. of Attacks=%{text}<extra></extra>\", \"ids\": [\"Afghanistan\"], \"legendgroup\": \"Afghanistan\", \"marker\": {\"color\": \"#FFA15A\"}, \"name\": \"Afghanistan\", \"offsetgroup\": \"Afghanistan\", \"orientation\": \"v\", \"showlegend\": true, \"text\": [1447.0], \"textposition\": \"auto\", \"x\": [\"Afghanistan\"], \"xaxis\": \"x\", \"y\": [1447], \"yaxis\": \"y\", \"type\": \"bar\"}, {\"alignmentgroup\": \"True\", \"hovertemplate\": \"Countries=%{x}<br>year=2012<br>No. of Attacks=%{text}<extra></extra>\", \"ids\": [\"Nigeria\"], \"legendgroup\": \"Nigeria\", \"marker\": {\"color\": \"#19d3f3\"}, \"name\": \"Nigeria\", \"offsetgroup\": \"Nigeria\", \"orientation\": \"v\", \"showlegend\": true, \"text\": [591.0], \"textposition\": \"auto\", \"x\": [\"Nigeria\"], \"xaxis\": \"x\", \"y\": [591], \"yaxis\": \"y\", \"type\": \"bar\"}], \"name\": \"2012\"}, {\"data\": [{\"alignmentgroup\": \"True\", \"hovertemplate\": \"Countries=%{x}<br>year=2013<br>No. of Attacks=%{text}<extra></extra>\", \"ids\": [\"Colombia\"], \"legendgroup\": \"Colombia\", \"marker\": {\"color\": \"#636efa\"}, \"name\": \"Colombia\", \"offsetgroup\": \"Colombia\", \"orientation\": \"v\", \"showlegend\": true, \"text\": [146.0], \"textposition\": \"auto\", \"x\": [\"Colombia\"], \"xaxis\": \"x\", \"y\": [146], \"yaxis\": \"y\", \"type\": \"bar\"}, {\"alignmentgroup\": \"True\", \"hovertemplate\": \"Countries=%{x}<br>year=2013<br>No. of Attacks=%{text}<extra></extra>\", \"ids\": [\"Pakistan\"], \"legendgroup\": \"Pakistan\", \"marker\": {\"color\": \"#EF553B\"}, \"name\": \"Pakistan\", \"offsetgroup\": \"Pakistan\", \"orientation\": \"v\", \"showlegend\": true, \"text\": [2159.0], \"textposition\": \"auto\", \"x\": [\"Pakistan\"], \"xaxis\": \"x\", \"y\": [2159], \"yaxis\": \"y\", \"type\": \"bar\"}, {\"alignmentgroup\": \"True\", \"hovertemplate\": \"Countries=%{x}<br>year=2013<br>No. of Attacks=%{text}<extra></extra>\", \"ids\": [\"Libya\"], \"legendgroup\": \"Libya\", \"marker\": {\"color\": \"#00cc96\"}, \"name\": \"Libya\", \"offsetgroup\": \"Libya\", \"orientation\": \"v\", \"showlegend\": true, \"text\": [284.0], \"textposition\": \"auto\", \"x\": [\"Libya\"], \"xaxis\": \"x\", \"y\": [284], \"yaxis\": \"y\", \"type\": \"bar\"}, {\"alignmentgroup\": \"True\", \"hovertemplate\": \"Countries=%{x}<br>year=2013<br>No. of Attacks=%{text}<extra></extra>\", \"ids\": [\"Turkey\"], \"legendgroup\": \"Turkey\", \"marker\": {\"color\": \"#ab63fa\"}, \"name\": \"Turkey\", \"offsetgroup\": \"Turkey\", \"orientation\": \"v\", \"showlegend\": true, \"text\": [38.0], \"textposition\": \"auto\", \"x\": [\"Turkey\"], \"xaxis\": \"x\", \"y\": [38], \"yaxis\": \"y\", \"type\": \"bar\"}, {\"alignmentgroup\": \"True\", \"hovertemplate\": \"Countries=%{x}<br>year=2013<br>No. of Attacks=%{text}<extra></extra>\", \"ids\": [\"Syria\"], \"legendgroup\": \"Syria\", \"marker\": {\"color\": \"#FFA15A\"}, \"name\": \"Syria\", \"offsetgroup\": \"Syria\", \"orientation\": \"v\", \"showlegend\": true, \"text\": [269.0], \"textposition\": \"auto\", \"x\": [\"Syria\"], \"xaxis\": \"x\", \"y\": [269], \"yaxis\": \"y\", \"type\": \"bar\"}, {\"alignmentgroup\": \"True\", \"hovertemplate\": \"Countries=%{x}<br>year=2013<br>No. of Attacks=%{text}<extra></extra>\", \"ids\": [\"Bangladesh\"], \"legendgroup\": \"Bangladesh\", \"marker\": {\"color\": \"#19d3f3\"}, \"name\": \"Bangladesh\", \"offsetgroup\": \"Bangladesh\", \"orientation\": \"v\", \"showlegend\": true, \"text\": [139.0], \"textposition\": \"auto\", \"x\": [\"Bangladesh\"], \"xaxis\": \"x\", \"y\": [139], \"yaxis\": \"y\", \"type\": \"bar\"}, {\"alignmentgroup\": \"True\", \"hovertemplate\": \"Countries=%{x}<br>year=2013<br>No. of Attacks=%{text}<extra></extra>\", \"ids\": [\"Thailand\"], \"legendgroup\": \"Thailand\", \"marker\": {\"color\": \"#FF6692\"}, \"name\": \"Thailand\", \"offsetgroup\": \"Thailand\", \"orientation\": \"v\", \"showlegend\": true, \"text\": [472.0], \"textposition\": \"auto\", \"x\": [\"Thailand\"], \"xaxis\": \"x\", \"y\": [472], \"yaxis\": \"y\", \"type\": \"bar\"}, {\"alignmentgroup\": \"True\", \"hovertemplate\": \"Countries=%{x}<br>year=2013<br>No. of Attacks=%{text}<extra></extra>\", \"ids\": [\"Iraq\"], \"legendgroup\": \"Iraq\", \"marker\": {\"color\": \"#B6E880\"}, \"name\": \"Iraq\", \"offsetgroup\": \"Iraq\", \"orientation\": \"v\", \"showlegend\": true, \"text\": [2812.0], \"textposition\": \"auto\", \"x\": [\"Iraq\"], \"xaxis\": \"x\", \"y\": [2812], \"yaxis\": \"y\", \"type\": \"bar\"}, {\"alignmentgroup\": \"True\", \"hovertemplate\": \"Countries=%{x}<br>year=2013<br>No. of Attacks=%{text}<extra></extra>\", \"ids\": [\"Ukraine\"], \"legendgroup\": \"Ukraine\", \"marker\": {\"color\": \"#FF97FF\"}, \"name\": \"Ukraine\", \"offsetgroup\": \"Ukraine\", \"orientation\": \"v\", \"showlegend\": true, \"text\": [5.0], \"textposition\": \"auto\", \"x\": [\"Ukraine\"], \"xaxis\": \"x\", \"y\": [5], \"yaxis\": \"y\", \"type\": \"bar\"}, {\"alignmentgroup\": \"True\", \"hovertemplate\": \"Countries=%{x}<br>year=2013<br>No. of Attacks=%{text}<extra></extra>\", \"ids\": [\"Somalia\"], \"legendgroup\": \"Somalia\", \"marker\": {\"color\": \"#FECB52\"}, \"name\": \"Somalia\", \"offsetgroup\": \"Somalia\", \"orientation\": \"v\", \"showlegend\": true, \"text\": [277.0], \"textposition\": \"auto\", \"x\": [\"Somalia\"], \"xaxis\": \"x\", \"y\": [277], \"yaxis\": \"y\", \"type\": \"bar\"}, {\"alignmentgroup\": \"True\", \"hovertemplate\": \"Countries=%{x}<br>year=2013<br>No. of Attacks=%{text}<extra></extra>\", \"ids\": [\"India\"], \"legendgroup\": \"India\", \"marker\": {\"color\": \"#636efa\"}, \"name\": \"India\", \"offsetgroup\": \"India\", \"orientation\": \"v\", \"showlegend\": true, \"text\": [678.0], \"textposition\": \"auto\", \"x\": [\"India\"], \"xaxis\": \"x\", \"y\": [678], \"yaxis\": \"y\", \"type\": \"bar\"}, {\"alignmentgroup\": \"True\", \"hovertemplate\": \"Countries=%{x}<br>year=2013<br>No. of Attacks=%{text}<extra></extra>\", \"ids\": [\"Yemen\"], \"legendgroup\": \"Yemen\", \"marker\": {\"color\": \"#EF553B\"}, \"name\": \"Yemen\", \"offsetgroup\": \"Yemen\", \"orientation\": \"v\", \"showlegend\": true, \"text\": [390.0], \"textposition\": \"auto\", \"x\": [\"Yemen\"], \"xaxis\": \"x\", \"y\": [390], \"yaxis\": \"y\", \"type\": \"bar\"}, {\"alignmentgroup\": \"True\", \"hovertemplate\": \"Countries=%{x}<br>year=2013<br>No. of Attacks=%{text}<extra></extra>\", \"ids\": [\"Egypt\"], \"legendgroup\": \"Egypt\", \"marker\": {\"color\": \"#00cc96\"}, \"name\": \"Egypt\", \"offsetgroup\": \"Egypt\", \"orientation\": \"v\", \"showlegend\": true, \"text\": [313.0], \"textposition\": \"auto\", \"x\": [\"Egypt\"], \"xaxis\": \"x\", \"y\": [313], \"yaxis\": \"y\", \"type\": \"bar\"}, {\"alignmentgroup\": \"True\", \"hovertemplate\": \"Countries=%{x}<br>year=2013<br>No. of Attacks=%{text}<extra></extra>\", \"ids\": [\"Philippines\"], \"legendgroup\": \"Philippines\", \"marker\": {\"color\": \"#ab63fa\"}, \"name\": \"Philippines\", \"offsetgroup\": \"Philippines\", \"orientation\": \"v\", \"showlegend\": true, \"text\": [626.0], \"textposition\": \"auto\", \"x\": [\"Philippines\"], \"xaxis\": \"x\", \"y\": [626], \"yaxis\": \"y\", \"type\": \"bar\"}, {\"alignmentgroup\": \"True\", \"hovertemplate\": \"Countries=%{x}<br>year=2013<br>No. of Attacks=%{text}<extra></extra>\", \"ids\": [\"Afghanistan\"], \"legendgroup\": \"Afghanistan\", \"marker\": {\"color\": \"#FFA15A\"}, \"name\": \"Afghanistan\", \"offsetgroup\": \"Afghanistan\", \"orientation\": \"v\", \"showlegend\": true, \"text\": [1417.0], \"textposition\": \"auto\", \"x\": [\"Afghanistan\"], \"xaxis\": \"x\", \"y\": [1417], \"yaxis\": \"y\", \"type\": \"bar\"}, {\"alignmentgroup\": \"True\", \"hovertemplate\": \"Countries=%{x}<br>year=2013<br>No. of Attacks=%{text}<extra></extra>\", \"ids\": [\"Nigeria\"], \"legendgroup\": \"Nigeria\", \"marker\": {\"color\": \"#19d3f3\"}, \"name\": \"Nigeria\", \"offsetgroup\": \"Nigeria\", \"orientation\": \"v\", \"showlegend\": true, \"text\": [320.0], \"textposition\": \"auto\", \"x\": [\"Nigeria\"], \"xaxis\": \"x\", \"y\": [320], \"yaxis\": \"y\", \"type\": \"bar\"}], \"name\": \"2013\"}, {\"data\": [{\"alignmentgroup\": \"True\", \"hovertemplate\": \"Countries=%{x}<br>year=2014<br>No. of Attacks=%{text}<extra></extra>\", \"ids\": [\"Colombia\"], \"legendgroup\": \"Colombia\", \"marker\": {\"color\": \"#636efa\"}, \"name\": \"Colombia\", \"offsetgroup\": \"Colombia\", \"orientation\": \"v\", \"showlegend\": true, \"text\": [228.0], \"textposition\": \"auto\", \"x\": [\"Colombia\"], \"xaxis\": \"x\", \"y\": [228], \"yaxis\": \"y\", \"type\": \"bar\"}, {\"alignmentgroup\": \"True\", \"hovertemplate\": \"Countries=%{x}<br>year=2014<br>No. of Attacks=%{text}<extra></extra>\", \"ids\": [\"Pakistan\"], \"legendgroup\": \"Pakistan\", \"marker\": {\"color\": \"#EF553B\"}, \"name\": \"Pakistan\", \"offsetgroup\": \"Pakistan\", \"orientation\": \"v\", \"showlegend\": true, \"text\": [2106.0], \"textposition\": \"auto\", \"x\": [\"Pakistan\"], \"xaxis\": \"x\", \"y\": [2106], \"yaxis\": \"y\", \"type\": \"bar\"}, {\"alignmentgroup\": \"True\", \"hovertemplate\": \"Countries=%{x}<br>year=2014<br>No. of Attacks=%{text}<extra></extra>\", \"ids\": [\"Libya\"], \"legendgroup\": \"Libya\", \"marker\": {\"color\": \"#00cc96\"}, \"name\": \"Libya\", \"offsetgroup\": \"Libya\", \"orientation\": \"v\", \"showlegend\": true, \"text\": [650.0], \"textposition\": \"auto\", \"x\": [\"Libya\"], \"xaxis\": \"x\", \"y\": [650], \"yaxis\": \"y\", \"type\": \"bar\"}, {\"alignmentgroup\": \"True\", \"hovertemplate\": \"Countries=%{x}<br>year=2014<br>No. of Attacks=%{text}<extra></extra>\", \"ids\": [\"Turkey\"], \"legendgroup\": \"Turkey\", \"marker\": {\"color\": \"#ab63fa\"}, \"name\": \"Turkey\", \"offsetgroup\": \"Turkey\", \"orientation\": \"v\", \"showlegend\": true, \"text\": [85.0], \"textposition\": \"auto\", \"x\": [\"Turkey\"], \"xaxis\": \"x\", \"y\": [85], \"yaxis\": \"y\", \"type\": \"bar\"}, {\"alignmentgroup\": \"True\", \"hovertemplate\": \"Countries=%{x}<br>year=2014<br>No. of Attacks=%{text}<extra></extra>\", \"ids\": [\"Syria\"], \"legendgroup\": \"Syria\", \"marker\": {\"color\": \"#FFA15A\"}, \"name\": \"Syria\", \"offsetgroup\": \"Syria\", \"orientation\": \"v\", \"showlegend\": true, \"text\": [286.0], \"textposition\": \"auto\", \"x\": [\"Syria\"], \"xaxis\": \"x\", \"y\": [286], \"yaxis\": \"y\", \"type\": \"bar\"}, {\"alignmentgroup\": \"True\", \"hovertemplate\": \"Countries=%{x}<br>year=2014<br>No. of Attacks=%{text}<extra></extra>\", \"ids\": [\"Bangladesh\"], \"legendgroup\": \"Bangladesh\", \"marker\": {\"color\": \"#19d3f3\"}, \"name\": \"Bangladesh\", \"offsetgroup\": \"Bangladesh\", \"orientation\": \"v\", \"showlegend\": true, \"text\": [130.0], \"textposition\": \"auto\", \"x\": [\"Bangladesh\"], \"xaxis\": \"x\", \"y\": [130], \"yaxis\": \"y\", \"type\": \"bar\"}, {\"alignmentgroup\": \"True\", \"hovertemplate\": \"Countries=%{x}<br>year=2014<br>No. of Attacks=%{text}<extra></extra>\", \"ids\": [\"Thailand\"], \"legendgroup\": \"Thailand\", \"marker\": {\"color\": \"#FF6692\"}, \"name\": \"Thailand\", \"offsetgroup\": \"Thailand\", \"orientation\": \"v\", \"showlegend\": true, \"text\": [423.0], \"textposition\": \"auto\", \"x\": [\"Thailand\"], \"xaxis\": \"x\", \"y\": [423], \"yaxis\": \"y\", \"type\": \"bar\"}, {\"alignmentgroup\": \"True\", \"hovertemplate\": \"Countries=%{x}<br>year=2014<br>No. of Attacks=%{text}<extra></extra>\", \"ids\": [\"Iraq\"], \"legendgroup\": \"Iraq\", \"marker\": {\"color\": \"#B6E880\"}, \"name\": \"Iraq\", \"offsetgroup\": \"Iraq\", \"orientation\": \"v\", \"showlegend\": true, \"text\": [3768.0], \"textposition\": \"auto\", \"x\": [\"Iraq\"], \"xaxis\": \"x\", \"y\": [3768], \"yaxis\": \"y\", \"type\": \"bar\"}, {\"alignmentgroup\": \"True\", \"hovertemplate\": \"Countries=%{x}<br>year=2014<br>No. of Attacks=%{text}<extra></extra>\", \"ids\": [\"Ukraine\"], \"legendgroup\": \"Ukraine\", \"marker\": {\"color\": \"#FF97FF\"}, \"name\": \"Ukraine\", \"offsetgroup\": \"Ukraine\", \"orientation\": \"v\", \"showlegend\": true, \"text\": [828.0], \"textposition\": \"auto\", \"x\": [\"Ukraine\"], \"xaxis\": \"x\", \"y\": [828], \"yaxis\": \"y\", \"type\": \"bar\"}, {\"alignmentgroup\": \"True\", \"hovertemplate\": \"Countries=%{x}<br>year=2014<br>No. of Attacks=%{text}<extra></extra>\", \"ids\": [\"Somalia\"], \"legendgroup\": \"Somalia\", \"marker\": {\"color\": \"#FECB52\"}, \"name\": \"Somalia\", \"offsetgroup\": \"Somalia\", \"orientation\": \"v\", \"showlegend\": true, \"text\": [606.0], \"textposition\": \"auto\", \"x\": [\"Somalia\"], \"xaxis\": \"x\", \"y\": [606], \"yaxis\": \"y\", \"type\": \"bar\"}, {\"alignmentgroup\": \"True\", \"hovertemplate\": \"Countries=%{x}<br>year=2014<br>No. of Attacks=%{text}<extra></extra>\", \"ids\": [\"India\"], \"legendgroup\": \"India\", \"marker\": {\"color\": \"#636efa\"}, \"name\": \"India\", \"offsetgroup\": \"India\", \"orientation\": \"v\", \"showlegend\": true, \"text\": [826.0], \"textposition\": \"auto\", \"x\": [\"India\"], \"xaxis\": \"x\", \"y\": [826], \"yaxis\": \"y\", \"type\": \"bar\"}, {\"alignmentgroup\": \"True\", \"hovertemplate\": \"Countries=%{x}<br>year=2014<br>No. of Attacks=%{text}<extra></extra>\", \"ids\": [\"Yemen\"], \"legendgroup\": \"Yemen\", \"marker\": {\"color\": \"#EF553B\"}, \"name\": \"Yemen\", \"offsetgroup\": \"Yemen\", \"orientation\": \"v\", \"showlegend\": true, \"text\": [715.0], \"textposition\": \"auto\", \"x\": [\"Yemen\"], \"xaxis\": \"x\", \"y\": [715], \"yaxis\": \"y\", \"type\": \"bar\"}, {\"alignmentgroup\": \"True\", \"hovertemplate\": \"Countries=%{x}<br>year=2014<br>No. of Attacks=%{text}<extra></extra>\", \"ids\": [\"Egypt\"], \"legendgroup\": \"Egypt\", \"marker\": {\"color\": \"#00cc96\"}, \"name\": \"Egypt\", \"offsetgroup\": \"Egypt\", \"orientation\": \"v\", \"showlegend\": true, \"text\": [353.0], \"textposition\": \"auto\", \"x\": [\"Egypt\"], \"xaxis\": \"x\", \"y\": [353], \"yaxis\": \"y\", \"type\": \"bar\"}, {\"alignmentgroup\": \"True\", \"hovertemplate\": \"Countries=%{x}<br>year=2014<br>No. of Attacks=%{text}<extra></extra>\", \"ids\": [\"Philippines\"], \"legendgroup\": \"Philippines\", \"marker\": {\"color\": \"#ab63fa\"}, \"name\": \"Philippines\", \"offsetgroup\": \"Philippines\", \"orientation\": \"v\", \"showlegend\": true, \"text\": [581.0], \"textposition\": \"auto\", \"x\": [\"Philippines\"], \"xaxis\": \"x\", \"y\": [581], \"yaxis\": \"y\", \"type\": \"bar\"}, {\"alignmentgroup\": \"True\", \"hovertemplate\": \"Countries=%{x}<br>year=2014<br>No. of Attacks=%{text}<extra></extra>\", \"ids\": [\"Afghanistan\"], \"legendgroup\": \"Afghanistan\", \"marker\": {\"color\": \"#FFA15A\"}, \"name\": \"Afghanistan\", \"offsetgroup\": \"Afghanistan\", \"orientation\": \"v\", \"showlegend\": true, \"text\": [1770.0], \"textposition\": \"auto\", \"x\": [\"Afghanistan\"], \"xaxis\": \"x\", \"y\": [1770], \"yaxis\": \"y\", \"type\": \"bar\"}, {\"alignmentgroup\": \"True\", \"hovertemplate\": \"Countries=%{x}<br>year=2014<br>No. of Attacks=%{text}<extra></extra>\", \"ids\": [\"Nigeria\"], \"legendgroup\": \"Nigeria\", \"marker\": {\"color\": \"#19d3f3\"}, \"name\": \"Nigeria\", \"offsetgroup\": \"Nigeria\", \"orientation\": \"v\", \"showlegend\": true, \"text\": [635.0], \"textposition\": \"auto\", \"x\": [\"Nigeria\"], \"xaxis\": \"x\", \"y\": [635], \"yaxis\": \"y\", \"type\": \"bar\"}], \"name\": \"2014\"}, {\"data\": [{\"alignmentgroup\": \"True\", \"hovertemplate\": \"Countries=%{x}<br>year=2015<br>No. of Attacks=%{text}<extra></extra>\", \"ids\": [\"Colombia\"], \"legendgroup\": \"Colombia\", \"marker\": {\"color\": \"#636efa\"}, \"name\": \"Colombia\", \"offsetgroup\": \"Colombia\", \"orientation\": \"v\", \"showlegend\": true, \"text\": [134.0], \"textposition\": \"auto\", \"x\": [\"Colombia\"], \"xaxis\": \"x\", \"y\": [134], \"yaxis\": \"y\", \"type\": \"bar\"}, {\"alignmentgroup\": \"True\", \"hovertemplate\": \"Countries=%{x}<br>year=2015<br>No. of Attacks=%{text}<extra></extra>\", \"ids\": [\"Pakistan\"], \"legendgroup\": \"Pakistan\", \"marker\": {\"color\": \"#EF553B\"}, \"name\": \"Pakistan\", \"offsetgroup\": \"Pakistan\", \"orientation\": \"v\", \"showlegend\": true, \"text\": [1210.0], \"textposition\": \"auto\", \"x\": [\"Pakistan\"], \"xaxis\": \"x\", \"y\": [1210], \"yaxis\": \"y\", \"type\": \"bar\"}, {\"alignmentgroup\": \"True\", \"hovertemplate\": \"Countries=%{x}<br>year=2015<br>No. of Attacks=%{text}<extra></extra>\", \"ids\": [\"Libya\"], \"legendgroup\": \"Libya\", \"marker\": {\"color\": \"#00cc96\"}, \"name\": \"Libya\", \"offsetgroup\": \"Libya\", \"orientation\": \"v\", \"showlegend\": true, \"text\": [486.0], \"textposition\": \"auto\", \"x\": [\"Libya\"], \"xaxis\": \"x\", \"y\": [486], \"yaxis\": \"y\", \"type\": \"bar\"}, {\"alignmentgroup\": \"True\", \"hovertemplate\": \"Countries=%{x}<br>year=2015<br>No. of Attacks=%{text}<extra></extra>\", \"ids\": [\"Turkey\"], \"legendgroup\": \"Turkey\", \"marker\": {\"color\": \"#ab63fa\"}, \"name\": \"Turkey\", \"offsetgroup\": \"Turkey\", \"orientation\": \"v\", \"showlegend\": true, \"text\": [417.0], \"textposition\": \"auto\", \"x\": [\"Turkey\"], \"xaxis\": \"x\", \"y\": [417], \"yaxis\": \"y\", \"type\": \"bar\"}, {\"alignmentgroup\": \"True\", \"hovertemplate\": \"Countries=%{x}<br>year=2015<br>No. of Attacks=%{text}<extra></extra>\", \"ids\": [\"Syria\"], \"legendgroup\": \"Syria\", \"marker\": {\"color\": \"#FFA15A\"}, \"name\": \"Syria\", \"offsetgroup\": \"Syria\", \"orientation\": \"v\", \"showlegend\": true, \"text\": [428.0], \"textposition\": \"auto\", \"x\": [\"Syria\"], \"xaxis\": \"x\", \"y\": [428], \"yaxis\": \"y\", \"type\": \"bar\"}, {\"alignmentgroup\": \"True\", \"hovertemplate\": \"Countries=%{x}<br>year=2015<br>No. of Attacks=%{text}<extra></extra>\", \"ids\": [\"Bangladesh\"], \"legendgroup\": \"Bangladesh\", \"marker\": {\"color\": \"#19d3f3\"}, \"name\": \"Bangladesh\", \"offsetgroup\": \"Bangladesh\", \"orientation\": \"v\", \"showlegend\": true, \"text\": [467.0], \"textposition\": \"auto\", \"x\": [\"Bangladesh\"], \"xaxis\": \"x\", \"y\": [467], \"yaxis\": \"y\", \"type\": \"bar\"}, {\"alignmentgroup\": \"True\", \"hovertemplate\": \"Countries=%{x}<br>year=2015<br>No. of Attacks=%{text}<extra></extra>\", \"ids\": [\"Thailand\"], \"legendgroup\": \"Thailand\", \"marker\": {\"color\": \"#FF6692\"}, \"name\": \"Thailand\", \"offsetgroup\": \"Thailand\", \"orientation\": \"v\", \"showlegend\": true, \"text\": [278.0], \"textposition\": \"auto\", \"x\": [\"Thailand\"], \"xaxis\": \"x\", \"y\": [278], \"yaxis\": \"y\", \"type\": \"bar\"}, {\"alignmentgroup\": \"True\", \"hovertemplate\": \"Countries=%{x}<br>year=2015<br>No. of Attacks=%{text}<extra></extra>\", \"ids\": [\"Iraq\"], \"legendgroup\": \"Iraq\", \"marker\": {\"color\": \"#B6E880\"}, \"name\": \"Iraq\", \"offsetgroup\": \"Iraq\", \"orientation\": \"v\", \"showlegend\": true, \"text\": [2635.0], \"textposition\": \"auto\", \"x\": [\"Iraq\"], \"xaxis\": \"x\", \"y\": [2635], \"yaxis\": \"y\", \"type\": \"bar\"}, {\"alignmentgroup\": \"True\", \"hovertemplate\": \"Countries=%{x}<br>year=2015<br>No. of Attacks=%{text}<extra></extra>\", \"ids\": [\"Ukraine\"], \"legendgroup\": \"Ukraine\", \"marker\": {\"color\": \"#FF97FF\"}, \"name\": \"Ukraine\", \"offsetgroup\": \"Ukraine\", \"orientation\": \"v\", \"showlegend\": true, \"text\": [610.0], \"textposition\": \"auto\", \"x\": [\"Ukraine\"], \"xaxis\": \"x\", \"y\": [610], \"yaxis\": \"y\", \"type\": \"bar\"}, {\"alignmentgroup\": \"True\", \"hovertemplate\": \"Countries=%{x}<br>year=2015<br>No. of Attacks=%{text}<extra></extra>\", \"ids\": [\"Somalia\"], \"legendgroup\": \"Somalia\", \"marker\": {\"color\": \"#FECB52\"}, \"name\": \"Somalia\", \"offsetgroup\": \"Somalia\", \"orientation\": \"v\", \"showlegend\": true, \"text\": [347.0], \"textposition\": \"auto\", \"x\": [\"Somalia\"], \"xaxis\": \"x\", \"y\": [347], \"yaxis\": \"y\", \"type\": \"bar\"}, {\"alignmentgroup\": \"True\", \"hovertemplate\": \"Countries=%{x}<br>year=2015<br>No. of Attacks=%{text}<extra></extra>\", \"ids\": [\"India\"], \"legendgroup\": \"India\", \"marker\": {\"color\": \"#636efa\"}, \"name\": \"India\", \"offsetgroup\": \"India\", \"orientation\": \"v\", \"showlegend\": true, \"text\": [849.0], \"textposition\": \"auto\", \"x\": [\"India\"], \"xaxis\": \"x\", \"y\": [849], \"yaxis\": \"y\", \"type\": \"bar\"}, {\"alignmentgroup\": \"True\", \"hovertemplate\": \"Countries=%{x}<br>year=2015<br>No. of Attacks=%{text}<extra></extra>\", \"ids\": [\"Yemen\"], \"legendgroup\": \"Yemen\", \"marker\": {\"color\": \"#EF553B\"}, \"name\": \"Yemen\", \"offsetgroup\": \"Yemen\", \"orientation\": \"v\", \"showlegend\": true, \"text\": [564.0], \"textposition\": \"auto\", \"x\": [\"Yemen\"], \"xaxis\": \"x\", \"y\": [564], \"yaxis\": \"y\", \"type\": \"bar\"}, {\"alignmentgroup\": \"True\", \"hovertemplate\": \"Countries=%{x}<br>year=2015<br>No. of Attacks=%{text}<extra></extra>\", \"ids\": [\"Egypt\"], \"legendgroup\": \"Egypt\", \"marker\": {\"color\": \"#00cc96\"}, \"name\": \"Egypt\", \"offsetgroup\": \"Egypt\", \"orientation\": \"v\", \"showlegend\": true, \"text\": [641.0], \"textposition\": \"auto\", \"x\": [\"Egypt\"], \"xaxis\": \"x\", \"y\": [641], \"yaxis\": \"y\", \"type\": \"bar\"}, {\"alignmentgroup\": \"True\", \"hovertemplate\": \"Countries=%{x}<br>year=2015<br>No. of Attacks=%{text}<extra></extra>\", \"ids\": [\"Philippines\"], \"legendgroup\": \"Philippines\", \"marker\": {\"color\": \"#ab63fa\"}, \"name\": \"Philippines\", \"offsetgroup\": \"Philippines\", \"orientation\": \"v\", \"showlegend\": true, \"text\": [712.0], \"textposition\": \"auto\", \"x\": [\"Philippines\"], \"xaxis\": \"x\", \"y\": [712], \"yaxis\": \"y\", \"type\": \"bar\"}, {\"alignmentgroup\": \"True\", \"hovertemplate\": \"Countries=%{x}<br>year=2015<br>No. of Attacks=%{text}<extra></extra>\", \"ids\": [\"Afghanistan\"], \"legendgroup\": \"Afghanistan\", \"marker\": {\"color\": \"#FFA15A\"}, \"name\": \"Afghanistan\", \"offsetgroup\": \"Afghanistan\", \"orientation\": \"v\", \"showlegend\": true, \"text\": [1841.0], \"textposition\": \"auto\", \"x\": [\"Afghanistan\"], \"xaxis\": \"x\", \"y\": [1841], \"yaxis\": \"y\", \"type\": \"bar\"}, {\"alignmentgroup\": \"True\", \"hovertemplate\": \"Countries=%{x}<br>year=2015<br>No. of Attacks=%{text}<extra></extra>\", \"ids\": [\"Nigeria\"], \"legendgroup\": \"Nigeria\", \"marker\": {\"color\": \"#19d3f3\"}, \"name\": \"Nigeria\", \"offsetgroup\": \"Nigeria\", \"orientation\": \"v\", \"showlegend\": true, \"text\": [584.0], \"textposition\": \"auto\", \"x\": [\"Nigeria\"], \"xaxis\": \"x\", \"y\": [584], \"yaxis\": \"y\", \"type\": \"bar\"}], \"name\": \"2015\"}, {\"data\": [{\"alignmentgroup\": \"True\", \"hovertemplate\": \"Countries=%{x}<br>year=2016<br>No. of Attacks=%{text}<extra></extra>\", \"ids\": [\"Colombia\"], \"legendgroup\": \"Colombia\", \"marker\": {\"color\": \"#636efa\"}, \"name\": \"Colombia\", \"offsetgroup\": \"Colombia\", \"orientation\": \"v\", \"showlegend\": true, \"text\": [109.0], \"textposition\": \"auto\", \"x\": [\"Colombia\"], \"xaxis\": \"x\", \"y\": [109], \"yaxis\": \"y\", \"type\": \"bar\"}, {\"alignmentgroup\": \"True\", \"hovertemplate\": \"Countries=%{x}<br>year=2016<br>No. of Attacks=%{text}<extra></extra>\", \"ids\": [\"Pakistan\"], \"legendgroup\": \"Pakistan\", \"marker\": {\"color\": \"#EF553B\"}, \"name\": \"Pakistan\", \"offsetgroup\": \"Pakistan\", \"orientation\": \"v\", \"showlegend\": true, \"text\": [844.0], \"textposition\": \"auto\", \"x\": [\"Pakistan\"], \"xaxis\": \"x\", \"y\": [844], \"yaxis\": \"y\", \"type\": \"bar\"}, {\"alignmentgroup\": \"True\", \"hovertemplate\": \"Countries=%{x}<br>year=2016<br>No. of Attacks=%{text}<extra></extra>\", \"ids\": [\"Libya\"], \"legendgroup\": \"Libya\", \"marker\": {\"color\": \"#00cc96\"}, \"name\": \"Libya\", \"offsetgroup\": \"Libya\", \"orientation\": \"v\", \"showlegend\": true, \"text\": [343.0], \"textposition\": \"auto\", \"x\": [\"Libya\"], \"xaxis\": \"x\", \"y\": [343], \"yaxis\": \"y\", \"type\": \"bar\"}, {\"alignmentgroup\": \"True\", \"hovertemplate\": \"Countries=%{x}<br>year=2016<br>No. of Attacks=%{text}<extra></extra>\", \"ids\": [\"Turkey\"], \"legendgroup\": \"Turkey\", \"marker\": {\"color\": \"#ab63fa\"}, \"name\": \"Turkey\", \"offsetgroup\": \"Turkey\", \"orientation\": \"v\", \"showlegend\": true, \"text\": [542.0], \"textposition\": \"auto\", \"x\": [\"Turkey\"], \"xaxis\": \"x\", \"y\": [542], \"yaxis\": \"y\", \"type\": \"bar\"}, {\"alignmentgroup\": \"True\", \"hovertemplate\": \"Countries=%{x}<br>year=2016<br>No. of Attacks=%{text}<extra></extra>\", \"ids\": [\"Syria\"], \"legendgroup\": \"Syria\", \"marker\": {\"color\": \"#FFA15A\"}, \"name\": \"Syria\", \"offsetgroup\": \"Syria\", \"orientation\": \"v\", \"showlegend\": true, \"text\": [413.0], \"textposition\": \"auto\", \"x\": [\"Syria\"], \"xaxis\": \"x\", \"y\": [413], \"yaxis\": \"y\", \"type\": \"bar\"}, {\"alignmentgroup\": \"True\", \"hovertemplate\": \"Countries=%{x}<br>year=2016<br>No. of Attacks=%{text}<extra></extra>\", \"ids\": [\"Bangladesh\"], \"legendgroup\": \"Bangladesh\", \"marker\": {\"color\": \"#19d3f3\"}, \"name\": \"Bangladesh\", \"offsetgroup\": \"Bangladesh\", \"orientation\": \"v\", \"showlegend\": true, \"text\": [86.0], \"textposition\": \"auto\", \"x\": [\"Bangladesh\"], \"xaxis\": \"x\", \"y\": [86], \"yaxis\": \"y\", \"type\": \"bar\"}, {\"alignmentgroup\": \"True\", \"hovertemplate\": \"Countries=%{x}<br>year=2016<br>No. of Attacks=%{text}<extra></extra>\", \"ids\": [\"Thailand\"], \"legendgroup\": \"Thailand\", \"marker\": {\"color\": \"#FF6692\"}, \"name\": \"Thailand\", \"offsetgroup\": \"Thailand\", \"orientation\": \"v\", \"showlegend\": true, \"text\": [329.0], \"textposition\": \"auto\", \"x\": [\"Thailand\"], \"xaxis\": \"x\", \"y\": [329], \"yaxis\": \"y\", \"type\": \"bar\"}, {\"alignmentgroup\": \"True\", \"hovertemplate\": \"Countries=%{x}<br>year=2016<br>No. of Attacks=%{text}<extra></extra>\", \"ids\": [\"Iraq\"], \"legendgroup\": \"Iraq\", \"marker\": {\"color\": \"#B6E880\"}, \"name\": \"Iraq\", \"offsetgroup\": \"Iraq\", \"orientation\": \"v\", \"showlegend\": true, \"text\": [3221.0], \"textposition\": \"auto\", \"x\": [\"Iraq\"], \"xaxis\": \"x\", \"y\": [3221], \"yaxis\": \"y\", \"type\": \"bar\"}, {\"alignmentgroup\": \"True\", \"hovertemplate\": \"Countries=%{x}<br>year=2016<br>No. of Attacks=%{text}<extra></extra>\", \"ids\": [\"Ukraine\"], \"legendgroup\": \"Ukraine\", \"marker\": {\"color\": \"#FF97FF\"}, \"name\": \"Ukraine\", \"offsetgroup\": \"Ukraine\", \"orientation\": \"v\", \"showlegend\": true, \"text\": [59.0], \"textposition\": \"auto\", \"x\": [\"Ukraine\"], \"xaxis\": \"x\", \"y\": [59], \"yaxis\": \"y\", \"type\": \"bar\"}, {\"alignmentgroup\": \"True\", \"hovertemplate\": \"Countries=%{x}<br>year=2016<br>No. of Attacks=%{text}<extra></extra>\", \"ids\": [\"Somalia\"], \"legendgroup\": \"Somalia\", \"marker\": {\"color\": \"#FECB52\"}, \"name\": \"Somalia\", \"offsetgroup\": \"Somalia\", \"orientation\": \"v\", \"showlegend\": true, \"text\": [506.0], \"textposition\": \"auto\", \"x\": [\"Somalia\"], \"xaxis\": \"x\", \"y\": [506], \"yaxis\": \"y\", \"type\": \"bar\"}, {\"alignmentgroup\": \"True\", \"hovertemplate\": \"Countries=%{x}<br>year=2016<br>No. of Attacks=%{text}<extra></extra>\", \"ids\": [\"India\"], \"legendgroup\": \"India\", \"marker\": {\"color\": \"#636efa\"}, \"name\": \"India\", \"offsetgroup\": \"India\", \"orientation\": \"v\", \"showlegend\": true, \"text\": [992.0], \"textposition\": \"auto\", \"x\": [\"India\"], \"xaxis\": \"x\", \"y\": [992], \"yaxis\": \"y\", \"type\": \"bar\"}, {\"alignmentgroup\": \"True\", \"hovertemplate\": \"Countries=%{x}<br>year=2016<br>No. of Attacks=%{text}<extra></extra>\", \"ids\": [\"Yemen\"], \"legendgroup\": \"Yemen\", \"marker\": {\"color\": \"#EF553B\"}, \"name\": \"Yemen\", \"offsetgroup\": \"Yemen\", \"orientation\": \"v\", \"showlegend\": true, \"text\": [479.0], \"textposition\": \"auto\", \"x\": [\"Yemen\"], \"xaxis\": \"x\", \"y\": [479], \"yaxis\": \"y\", \"type\": \"bar\"}, {\"alignmentgroup\": \"True\", \"hovertemplate\": \"Countries=%{x}<br>year=2016<br>No. of Attacks=%{text}<extra></extra>\", \"ids\": [\"Egypt\"], \"legendgroup\": \"Egypt\", \"marker\": {\"color\": \"#00cc96\"}, \"name\": \"Egypt\", \"offsetgroup\": \"Egypt\", \"orientation\": \"v\", \"showlegend\": true, \"text\": [367.0], \"textposition\": \"auto\", \"x\": [\"Egypt\"], \"xaxis\": \"x\", \"y\": [367], \"yaxis\": \"y\", \"type\": \"bar\"}, {\"alignmentgroup\": \"True\", \"hovertemplate\": \"Countries=%{x}<br>year=2016<br>No. of Attacks=%{text}<extra></extra>\", \"ids\": [\"Philippines\"], \"legendgroup\": \"Philippines\", \"marker\": {\"color\": \"#ab63fa\"}, \"name\": \"Philippines\", \"offsetgroup\": \"Philippines\", \"orientation\": \"v\", \"showlegend\": true, \"text\": [619.0], \"textposition\": \"auto\", \"x\": [\"Philippines\"], \"xaxis\": \"x\", \"y\": [619], \"yaxis\": \"y\", \"type\": \"bar\"}, {\"alignmentgroup\": \"True\", \"hovertemplate\": \"Countries=%{x}<br>year=2016<br>No. of Attacks=%{text}<extra></extra>\", \"ids\": [\"Afghanistan\"], \"legendgroup\": \"Afghanistan\", \"marker\": {\"color\": \"#FFA15A\"}, \"name\": \"Afghanistan\", \"offsetgroup\": \"Afghanistan\", \"orientation\": \"v\", \"showlegend\": true, \"text\": [1544.0], \"textposition\": \"auto\", \"x\": [\"Afghanistan\"], \"xaxis\": \"x\", \"y\": [1544], \"yaxis\": \"y\", \"type\": \"bar\"}, {\"alignmentgroup\": \"True\", \"hovertemplate\": \"Countries=%{x}<br>year=2016<br>No. of Attacks=%{text}<extra></extra>\", \"ids\": [\"Nigeria\"], \"legendgroup\": \"Nigeria\", \"marker\": {\"color\": \"#19d3f3\"}, \"name\": \"Nigeria\", \"offsetgroup\": \"Nigeria\", \"orientation\": \"v\", \"showlegend\": true, \"text\": [484.0], \"textposition\": \"auto\", \"x\": [\"Nigeria\"], \"xaxis\": \"x\", \"y\": [484], \"yaxis\": \"y\", \"type\": \"bar\"}], \"name\": \"2016\"}, {\"data\": [{\"alignmentgroup\": \"True\", \"hovertemplate\": \"Countries=%{x}<br>year=2017<br>No. of Attacks=%{text}<extra></extra>\", \"ids\": [\"Colombia\"], \"legendgroup\": \"Colombia\", \"marker\": {\"color\": \"#636efa\"}, \"name\": \"Colombia\", \"offsetgroup\": \"Colombia\", \"orientation\": \"v\", \"showlegend\": true, \"text\": [118.0], \"textposition\": \"auto\", \"x\": [\"Colombia\"], \"xaxis\": \"x\", \"y\": [118], \"yaxis\": \"y\", \"type\": \"bar\"}, {\"alignmentgroup\": \"True\", \"hovertemplate\": \"Countries=%{x}<br>year=2017<br>No. of Attacks=%{text}<extra></extra>\", \"ids\": [\"Pakistan\"], \"legendgroup\": \"Pakistan\", \"marker\": {\"color\": \"#EF553B\"}, \"name\": \"Pakistan\", \"offsetgroup\": \"Pakistan\", \"orientation\": \"v\", \"showlegend\": true, \"text\": [705.0], \"textposition\": \"auto\", \"x\": [\"Pakistan\"], \"xaxis\": \"x\", \"y\": [705], \"yaxis\": \"y\", \"type\": \"bar\"}, {\"alignmentgroup\": \"True\", \"hovertemplate\": \"Countries=%{x}<br>year=2017<br>No. of Attacks=%{text}<extra></extra>\", \"ids\": [\"Libya\"], \"legendgroup\": \"Libya\", \"marker\": {\"color\": \"#00cc96\"}, \"name\": \"Libya\", \"offsetgroup\": \"Libya\", \"orientation\": \"v\", \"showlegend\": true, \"text\": [164.0], \"textposition\": \"auto\", \"x\": [\"Libya\"], \"xaxis\": \"x\", \"y\": [164], \"yaxis\": \"y\", \"type\": \"bar\"}, {\"alignmentgroup\": \"True\", \"hovertemplate\": \"Countries=%{x}<br>year=2017<br>No. of Attacks=%{text}<extra></extra>\", \"ids\": [\"Turkey\"], \"legendgroup\": \"Turkey\", \"marker\": {\"color\": \"#ab63fa\"}, \"name\": \"Turkey\", \"offsetgroup\": \"Turkey\", \"orientation\": \"v\", \"showlegend\": true, \"text\": [181.0], \"textposition\": \"auto\", \"x\": [\"Turkey\"], \"xaxis\": \"x\", \"y\": [181], \"yaxis\": \"y\", \"type\": \"bar\"}, {\"alignmentgroup\": \"True\", \"hovertemplate\": \"Countries=%{x}<br>year=2017<br>No. of Attacks=%{text}<extra></extra>\", \"ids\": [\"Syria\"], \"legendgroup\": \"Syria\", \"marker\": {\"color\": \"#FFA15A\"}, \"name\": \"Syria\", \"offsetgroup\": \"Syria\", \"orientation\": \"v\", \"showlegend\": true, \"text\": [200.0], \"textposition\": \"auto\", \"x\": [\"Syria\"], \"xaxis\": \"x\", \"y\": [200], \"yaxis\": \"y\", \"type\": \"bar\"}, {\"alignmentgroup\": \"True\", \"hovertemplate\": \"Countries=%{x}<br>year=2017<br>No. of Attacks=%{text}<extra></extra>\", \"ids\": [\"Bangladesh\"], \"legendgroup\": \"Bangladesh\", \"marker\": {\"color\": \"#19d3f3\"}, \"name\": \"Bangladesh\", \"offsetgroup\": \"Bangladesh\", \"orientation\": \"v\", \"showlegend\": true, \"text\": [40.0], \"textposition\": \"auto\", \"x\": [\"Bangladesh\"], \"xaxis\": \"x\", \"y\": [40], \"yaxis\": \"y\", \"type\": \"bar\"}, {\"alignmentgroup\": \"True\", \"hovertemplate\": \"Countries=%{x}<br>year=2017<br>No. of Attacks=%{text}<extra></extra>\", \"ids\": [\"Thailand\"], \"legendgroup\": \"Thailand\", \"marker\": {\"color\": \"#FF6692\"}, \"name\": \"Thailand\", \"offsetgroup\": \"Thailand\", \"orientation\": \"v\", \"showlegend\": true, \"text\": [178.0], \"textposition\": \"auto\", \"x\": [\"Thailand\"], \"xaxis\": \"x\", \"y\": [178], \"yaxis\": \"y\", \"type\": \"bar\"}, {\"alignmentgroup\": \"True\", \"hovertemplate\": \"Countries=%{x}<br>year=2017<br>No. of Attacks=%{text}<extra></extra>\", \"ids\": [\"Iraq\"], \"legendgroup\": \"Iraq\", \"marker\": {\"color\": \"#B6E880\"}, \"name\": \"Iraq\", \"offsetgroup\": \"Iraq\", \"orientation\": \"v\", \"showlegend\": true, \"text\": [2366.0], \"textposition\": \"auto\", \"x\": [\"Iraq\"], \"xaxis\": \"x\", \"y\": [2366], \"yaxis\": \"y\", \"type\": \"bar\"}, {\"alignmentgroup\": \"True\", \"hovertemplate\": \"Countries=%{x}<br>year=2017<br>No. of Attacks=%{text}<extra></extra>\", \"ids\": [\"Ukraine\"], \"legendgroup\": \"Ukraine\", \"marker\": {\"color\": \"#FF97FF\"}, \"name\": \"Ukraine\", \"offsetgroup\": \"Ukraine\", \"orientation\": \"v\", \"showlegend\": true, \"text\": [60.0], \"textposition\": \"auto\", \"x\": [\"Ukraine\"], \"xaxis\": \"x\", \"y\": [60], \"yaxis\": \"y\", \"type\": \"bar\"}, {\"alignmentgroup\": \"True\", \"hovertemplate\": \"Countries=%{x}<br>year=2017<br>No. of Attacks=%{text}<extra></extra>\", \"ids\": [\"Somalia\"], \"legendgroup\": \"Somalia\", \"marker\": {\"color\": \"#FECB52\"}, \"name\": \"Somalia\", \"offsetgroup\": \"Somalia\", \"orientation\": \"v\", \"showlegend\": true, \"text\": [512.0], \"textposition\": \"auto\", \"x\": [\"Somalia\"], \"xaxis\": \"x\", \"y\": [512], \"yaxis\": \"y\", \"type\": \"bar\"}, {\"alignmentgroup\": \"True\", \"hovertemplate\": \"Countries=%{x}<br>year=2017<br>No. of Attacks=%{text}<extra></extra>\", \"ids\": [\"India\"], \"legendgroup\": \"India\", \"marker\": {\"color\": \"#636efa\"}, \"name\": \"India\", \"offsetgroup\": \"India\", \"orientation\": \"v\", \"showlegend\": true, \"text\": [952.0], \"textposition\": \"auto\", \"x\": [\"India\"], \"xaxis\": \"x\", \"y\": [952], \"yaxis\": \"y\", \"type\": \"bar\"}, {\"alignmentgroup\": \"True\", \"hovertemplate\": \"Countries=%{x}<br>year=2017<br>No. of Attacks=%{text}<extra></extra>\", \"ids\": [\"Yemen\"], \"legendgroup\": \"Yemen\", \"marker\": {\"color\": \"#EF553B\"}, \"name\": \"Yemen\", \"offsetgroup\": \"Yemen\", \"orientation\": \"v\", \"showlegend\": true, \"text\": [206.0], \"textposition\": \"auto\", \"x\": [\"Yemen\"], \"xaxis\": \"x\", \"y\": [206], \"yaxis\": \"y\", \"type\": \"bar\"}, {\"alignmentgroup\": \"True\", \"hovertemplate\": \"Countries=%{x}<br>year=2017<br>No. of Attacks=%{text}<extra></extra>\", \"ids\": [\"Egypt\"], \"legendgroup\": \"Egypt\", \"marker\": {\"color\": \"#00cc96\"}, \"name\": \"Egypt\", \"offsetgroup\": \"Egypt\", \"orientation\": \"v\", \"showlegend\": true, \"text\": [218.0], \"textposition\": \"auto\", \"x\": [\"Egypt\"], \"xaxis\": \"x\", \"y\": [218], \"yaxis\": \"y\", \"type\": \"bar\"}, {\"alignmentgroup\": \"True\", \"hovertemplate\": \"Countries=%{x}<br>year=2017<br>No. of Attacks=%{text}<extra></extra>\", \"ids\": [\"Philippines\"], \"legendgroup\": \"Philippines\", \"marker\": {\"color\": \"#ab63fa\"}, \"name\": \"Philippines\", \"offsetgroup\": \"Philippines\", \"orientation\": \"v\", \"showlegend\": true, \"text\": [674.0], \"textposition\": \"auto\", \"x\": [\"Philippines\"], \"xaxis\": \"x\", \"y\": [674], \"yaxis\": \"y\", \"type\": \"bar\"}, {\"alignmentgroup\": \"True\", \"hovertemplate\": \"Countries=%{x}<br>year=2017<br>No. of Attacks=%{text}<extra></extra>\", \"ids\": [\"Afghanistan\"], \"legendgroup\": \"Afghanistan\", \"marker\": {\"color\": \"#FFA15A\"}, \"name\": \"Afghanistan\", \"offsetgroup\": \"Afghanistan\", \"orientation\": \"v\", \"showlegend\": true, \"text\": [1333.0], \"textposition\": \"auto\", \"x\": [\"Afghanistan\"], \"xaxis\": \"x\", \"y\": [1333], \"yaxis\": \"y\", \"type\": \"bar\"}, {\"alignmentgroup\": \"True\", \"hovertemplate\": \"Countries=%{x}<br>year=2017<br>No. of Attacks=%{text}<extra></extra>\", \"ids\": [\"Nigeria\"], \"legendgroup\": \"Nigeria\", \"marker\": {\"color\": \"#19d3f3\"}, \"name\": \"Nigeria\", \"offsetgroup\": \"Nigeria\", \"orientation\": \"v\", \"showlegend\": true, \"text\": [450.0], \"textposition\": \"auto\", \"x\": [\"Nigeria\"], \"xaxis\": \"x\", \"y\": [450], \"yaxis\": \"y\", \"type\": \"bar\"}], \"name\": \"2017\"}, {\"data\": [{\"alignmentgroup\": \"True\", \"hovertemplate\": \"Countries=%{x}<br>year=2018<br>No. of Attacks=%{text}<extra></extra>\", \"ids\": [\"Colombia\"], \"legendgroup\": \"Colombia\", \"marker\": {\"color\": \"#636efa\"}, \"name\": \"Colombia\", \"offsetgroup\": \"Colombia\", \"orientation\": \"v\", \"showlegend\": true, \"text\": [198.0], \"textposition\": \"auto\", \"x\": [\"Colombia\"], \"xaxis\": \"x\", \"y\": [198], \"yaxis\": \"y\", \"type\": \"bar\"}, {\"alignmentgroup\": \"True\", \"hovertemplate\": \"Countries=%{x}<br>year=2018<br>No. of Attacks=%{text}<extra></extra>\", \"ids\": [\"Pakistan\"], \"legendgroup\": \"Pakistan\", \"marker\": {\"color\": \"#EF553B\"}, \"name\": \"Pakistan\", \"offsetgroup\": \"Pakistan\", \"orientation\": \"v\", \"showlegend\": true, \"text\": [471.0], \"textposition\": \"auto\", \"x\": [\"Pakistan\"], \"xaxis\": \"x\", \"y\": [471], \"yaxis\": \"y\", \"type\": \"bar\"}, {\"alignmentgroup\": \"True\", \"hovertemplate\": \"Countries=%{x}<br>year=2018<br>No. of Attacks=%{text}<extra></extra>\", \"ids\": [\"Libya\"], \"legendgroup\": \"Libya\", \"marker\": {\"color\": \"#00cc96\"}, \"name\": \"Libya\", \"offsetgroup\": \"Libya\", \"orientation\": \"v\", \"showlegend\": true, \"text\": [143.0], \"textposition\": \"auto\", \"x\": [\"Libya\"], \"xaxis\": \"x\", \"y\": [143], \"yaxis\": \"y\", \"type\": \"bar\"}, {\"alignmentgroup\": \"True\", \"hovertemplate\": \"Countries=%{x}<br>year=2018<br>No. of Attacks=%{text}<extra></extra>\", \"ids\": [\"Turkey\"], \"legendgroup\": \"Turkey\", \"marker\": {\"color\": \"#ab63fa\"}, \"name\": \"Turkey\", \"offsetgroup\": \"Turkey\", \"orientation\": \"v\", \"showlegend\": true, \"text\": [90.0], \"textposition\": \"auto\", \"x\": [\"Turkey\"], \"xaxis\": \"x\", \"y\": [90], \"yaxis\": \"y\", \"type\": \"bar\"}, {\"alignmentgroup\": \"True\", \"hovertemplate\": \"Countries=%{x}<br>year=2018<br>No. of Attacks=%{text}<extra></extra>\", \"ids\": [\"Syria\"], \"legendgroup\": \"Syria\", \"marker\": {\"color\": \"#FFA15A\"}, \"name\": \"Syria\", \"offsetgroup\": \"Syria\", \"orientation\": \"v\", \"showlegend\": true, \"text\": [191.0], \"textposition\": \"auto\", \"x\": [\"Syria\"], \"xaxis\": \"x\", \"y\": [191], \"yaxis\": \"y\", \"type\": \"bar\"}, {\"alignmentgroup\": \"True\", \"hovertemplate\": \"Countries=%{x}<br>year=2018<br>No. of Attacks=%{text}<extra></extra>\", \"ids\": [\"Bangladesh\"], \"legendgroup\": \"Bangladesh\", \"marker\": {\"color\": \"#19d3f3\"}, \"name\": \"Bangladesh\", \"offsetgroup\": \"Bangladesh\", \"orientation\": \"v\", \"showlegend\": true, \"text\": [30.0], \"textposition\": \"auto\", \"x\": [\"Bangladesh\"], \"xaxis\": \"x\", \"y\": [30], \"yaxis\": \"y\", \"type\": \"bar\"}, {\"alignmentgroup\": \"True\", \"hovertemplate\": \"Countries=%{x}<br>year=2018<br>No. of Attacks=%{text}<extra></extra>\", \"ids\": [\"Thailand\"], \"legendgroup\": \"Thailand\", \"marker\": {\"color\": \"#FF6692\"}, \"name\": \"Thailand\", \"offsetgroup\": \"Thailand\", \"orientation\": \"v\", \"showlegend\": true, \"text\": [182.0], \"textposition\": \"auto\", \"x\": [\"Thailand\"], \"xaxis\": \"x\", \"y\": [182], \"yaxis\": \"y\", \"type\": \"bar\"}, {\"alignmentgroup\": \"True\", \"hovertemplate\": \"Countries=%{x}<br>year=2018<br>No. of Attacks=%{text}<extra></extra>\", \"ids\": [\"Iraq\"], \"legendgroup\": \"Iraq\", \"marker\": {\"color\": \"#B6E880\"}, \"name\": \"Iraq\", \"offsetgroup\": \"Iraq\", \"orientation\": \"v\", \"showlegend\": true, \"text\": [1301.0], \"textposition\": \"auto\", \"x\": [\"Iraq\"], \"xaxis\": \"x\", \"y\": [1301], \"yaxis\": \"y\", \"type\": \"bar\"}, {\"alignmentgroup\": \"True\", \"hovertemplate\": \"Countries=%{x}<br>year=2018<br>No. of Attacks=%{text}<extra></extra>\", \"ids\": [\"Ukraine\"], \"legendgroup\": \"Ukraine\", \"marker\": {\"color\": \"#FF97FF\"}, \"name\": \"Ukraine\", \"offsetgroup\": \"Ukraine\", \"orientation\": \"v\", \"showlegend\": true, \"text\": [34.0], \"textposition\": \"auto\", \"x\": [\"Ukraine\"], \"xaxis\": \"x\", \"y\": [34], \"yaxis\": \"y\", \"type\": \"bar\"}, {\"alignmentgroup\": \"True\", \"hovertemplate\": \"Countries=%{x}<br>year=2018<br>No. of Attacks=%{text}<extra></extra>\", \"ids\": [\"Somalia\"], \"legendgroup\": \"Somalia\", \"marker\": {\"color\": \"#FECB52\"}, \"name\": \"Somalia\", \"offsetgroup\": \"Somalia\", \"orientation\": \"v\", \"showlegend\": true, \"text\": [407.0], \"textposition\": \"auto\", \"x\": [\"Somalia\"], \"xaxis\": \"x\", \"y\": [407], \"yaxis\": \"y\", \"type\": \"bar\"}, {\"alignmentgroup\": \"True\", \"hovertemplate\": \"Countries=%{x}<br>year=2018<br>No. of Attacks=%{text}<extra></extra>\", \"ids\": [\"India\"], \"legendgroup\": \"India\", \"marker\": {\"color\": \"#636efa\"}, \"name\": \"India\", \"offsetgroup\": \"India\", \"orientation\": \"v\", \"showlegend\": true, \"text\": [872.0], \"textposition\": \"auto\", \"x\": [\"India\"], \"xaxis\": \"x\", \"y\": [872], \"yaxis\": \"y\", \"type\": \"bar\"}, {\"alignmentgroup\": \"True\", \"hovertemplate\": \"Countries=%{x}<br>year=2018<br>No. of Attacks=%{text}<extra></extra>\", \"ids\": [\"Yemen\"], \"legendgroup\": \"Yemen\", \"marker\": {\"color\": \"#EF553B\"}, \"name\": \"Yemen\", \"offsetgroup\": \"Yemen\", \"orientation\": \"v\", \"showlegend\": true, \"text\": [273.0], \"textposition\": \"auto\", \"x\": [\"Yemen\"], \"xaxis\": \"x\", \"y\": [273], \"yaxis\": \"y\", \"type\": \"bar\"}, {\"alignmentgroup\": \"True\", \"hovertemplate\": \"Countries=%{x}<br>year=2018<br>No. of Attacks=%{text}<extra></extra>\", \"ids\": [\"Egypt\"], \"legendgroup\": \"Egypt\", \"marker\": {\"color\": \"#00cc96\"}, \"name\": \"Egypt\", \"offsetgroup\": \"Egypt\", \"orientation\": \"v\", \"showlegend\": true, \"text\": [52.0], \"textposition\": \"auto\", \"x\": [\"Egypt\"], \"xaxis\": \"x\", \"y\": [52], \"yaxis\": \"y\", \"type\": \"bar\"}, {\"alignmentgroup\": \"True\", \"hovertemplate\": \"Countries=%{x}<br>year=2018<br>No. of Attacks=%{text}<extra></extra>\", \"ids\": [\"Philippines\"], \"legendgroup\": \"Philippines\", \"marker\": {\"color\": \"#ab63fa\"}, \"name\": \"Philippines\", \"offsetgroup\": \"Philippines\", \"orientation\": \"v\", \"showlegend\": true, \"text\": [586.0], \"textposition\": \"auto\", \"x\": [\"Philippines\"], \"xaxis\": \"x\", \"y\": [586], \"yaxis\": \"y\", \"type\": \"bar\"}, {\"alignmentgroup\": \"True\", \"hovertemplate\": \"Countries=%{x}<br>year=2018<br>No. of Attacks=%{text}<extra></extra>\", \"ids\": [\"Afghanistan\"], \"legendgroup\": \"Afghanistan\", \"marker\": {\"color\": \"#FFA15A\"}, \"name\": \"Afghanistan\", \"offsetgroup\": \"Afghanistan\", \"orientation\": \"v\", \"showlegend\": true, \"text\": [1649.0], \"textposition\": \"auto\", \"x\": [\"Afghanistan\"], \"xaxis\": \"x\", \"y\": [1649], \"yaxis\": \"y\", \"type\": \"bar\"}, {\"alignmentgroup\": \"True\", \"hovertemplate\": \"Countries=%{x}<br>year=2018<br>No. of Attacks=%{text}<extra></extra>\", \"ids\": [\"Nigeria\"], \"legendgroup\": \"Nigeria\", \"marker\": {\"color\": \"#19d3f3\"}, \"name\": \"Nigeria\", \"offsetgroup\": \"Nigeria\", \"orientation\": \"v\", \"showlegend\": true, \"text\": [570.0], \"textposition\": \"auto\", \"x\": [\"Nigeria\"], \"xaxis\": \"x\", \"y\": [570], \"yaxis\": \"y\", \"type\": \"bar\"}], \"name\": \"2018\"}]);\n",
       "                        }).then(function(){\n",
       "                            \n",
       "var gd = document.getElementById('6cf9cd3c-62ff-457b-b66a-1cc7e11a7875');\n",
       "var x = new MutationObserver(function (mutations, observer) {{\n",
       "        var display = window.getComputedStyle(gd).display;\n",
       "        if (!display || display === 'none') {{\n",
       "            console.log([gd, 'removed!']);\n",
       "            Plotly.purge(gd);\n",
       "            observer.disconnect();\n",
       "        }}\n",
       "}});\n",
       "\n",
       "// Listen for the removal of the full notebook cells\n",
       "var notebookContainer = gd.closest('#notebook-container');\n",
       "if (notebookContainer) {{\n",
       "    x.observe(notebookContainer, {childList: true});\n",
       "}}\n",
       "\n",
       "// Listen for the clearing of the current output cell\n",
       "var outputEl = gd.closest('.output');\n",
       "if (outputEl) {{\n",
       "    x.observe(outputEl, {childList: true});\n",
       "}}\n",
       "\n",
       "                        })\n",
       "                };\n",
       "                });\n",
       "            </script>\n",
       "        </div>"
      ]
     },
     "metadata": {},
     "output_type": "display_data"
    }
   ],
   "source": [
    "#first visualisation\n",
    "fig_1.show()\n",
    "\n",
    "#Can hold the slider to change the years in the timeline bar\n",
    "#also, can hover to get extra details\n",
    "\n",
    "#Zoom-in or reset option available, if want to analyse specific countries\n",
    "\n",
    "#Intractive bar graph for top 16 most attacked countries with a timeline (year) slider"
   ]
  },
  {
   "cell_type": "code",
   "execution_count": 33,
   "metadata": {},
   "outputs": [
    {
     "data": {
      "application/vnd.jupyter.widget-view+json": {
       "model_id": "88351c2a9bff45138096fe58f15feaa9",
       "version_major": 2,
       "version_minor": 0
      },
      "text/plain": [
       "VBox(children=(Dropdown(description='Control Variable:', options=('Total Attacks', 'Total Kills'), style=Descr…"
      ]
     },
     "metadata": {},
     "output_type": "display_data"
    }
   ],
   "source": [
    "#second visualisation\n",
    "display(widgets.VBox([control_variable,buttonuser_info_2, outuser_info_2]))\n",
    "\n",
    "#user has two options to select from\n",
    "#and then click the generate button to get the visualisation"
   ]
  },
  {
   "cell_type": "code",
   "execution_count": 32,
   "metadata": {
    "slideshow": {
     "slide_type": "slide"
    }
   },
   "outputs": [
    {
     "data": {
      "application/vnd.jupyter.widget-view+json": {
       "model_id": "000c3c1e21b34e97b034870dc59f43b2",
       "version_major": 2,
       "version_minor": 0
      },
      "text/plain": [
       "VBox(children=(Dropdown(description='Target Subplace:', options=('Bank', 'Restaurant or Cafe', 'Private Firm',…"
      ]
     },
     "metadata": {},
     "output_type": "display_data"
    }
   ],
   "source": [
    "#third visualisation\n",
    "display(widgets.VBox([users,buttonuser_info, outuser_info]))\n",
    "\n",
    "#user can select the control variable of place from the available 13 option\n",
    "#and click on the generate button to get the visualisation"
   ]
  },
  {
   "cell_type": "code",
   "execution_count": null,
   "metadata": {},
   "outputs": [],
   "source": []
  }
 ],
 "metadata": {
  "celltoolbar": "Slideshow",
  "kernelspec": {
   "display_name": "Python 3",
   "language": "python",
   "name": "python3"
  },
  "language_info": {
   "codemirror_mode": {
    "name": "ipython",
    "version": 3
   },
   "file_extension": ".py",
   "mimetype": "text/x-python",
   "name": "python",
   "nbconvert_exporter": "python",
   "pygments_lexer": "ipython3",
   "version": "3.8.5"
  }
 },
 "nbformat": 4,
 "nbformat_minor": 4
}
